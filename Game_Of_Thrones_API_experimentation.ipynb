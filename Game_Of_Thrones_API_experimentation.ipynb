{
 "cells": [
  {
   "cell_type": "markdown",
   "id": "f599fc09",
   "metadata": {},
   "source": [
    "# Consuming the API"
   ]
  },
  {
   "cell_type": "code",
   "execution_count": 1,
   "id": "70815f6f",
   "metadata": {},
   "outputs": [
    {
     "data": {
      "text/html": [
       "<style>.container { width:100% !important; }</style>"
      ],
      "text/plain": [
       "<IPython.core.display.HTML object>"
      ]
     },
     "metadata": {},
     "output_type": "display_data"
    }
   ],
   "source": [
    "import pandas as pd\n",
    "pd.set_option(\"display.max_columns\", None)\n",
    "pd.set_option(\"display.max_rows\", None)\n",
    "pd.options.display.max_colwidth = None\n",
    "pd.set_option(\"display.float_format\", lambda x: '%.2f' % x)\n",
    "\n",
    "from IPython.display import display, HTML\n",
    "display(HTML(\"<style>.container { width:100% !important; }</style>\"))"
   ]
  },
  {
   "cell_type": "code",
   "execution_count": 2,
   "id": "f53f9b3c",
   "metadata": {},
   "outputs": [],
   "source": [
    "import requests"
   ]
  },
  {
   "cell_type": "code",
   "execution_count": 3,
   "id": "6a2ac515",
   "metadata": {},
   "outputs": [],
   "source": [
    "got_url = \"https://anapioficeandfire.com/api/\"\n",
    "got_response = requests.get(got_url)"
   ]
  },
  {
   "cell_type": "code",
   "execution_count": 4,
   "id": "86559069",
   "metadata": {},
   "outputs": [
    {
     "data": {
      "text/plain": [
       "'{\"books\":\"https://anapioficeandfire.com/api/books\",\"characters\":\"https://anapioficeandfire.com/api/characters\",\"houses\":\"https://anapioficeandfire.com/api/houses\"}'"
      ]
     },
     "execution_count": 4,
     "metadata": {},
     "output_type": "execute_result"
    }
   ],
   "source": [
    "got_response.text"
   ]
  },
  {
   "cell_type": "markdown",
   "id": "faaa58ec",
   "metadata": {},
   "source": [
    "### Question 1:\n",
    "\n",
    "a) What index corresponds to the house \"House Breakstone\"?"
   ]
  },
  {
   "cell_type": "markdown",
   "id": "72b20fd5",
   "metadata": {},
   "source": [
    "### Loading in the GOT API Houses url"
   ]
  },
  {
   "cell_type": "code",
   "execution_count": 5,
   "id": "63ba9fcd",
   "metadata": {},
   "outputs": [
    {
     "data": {
      "text/plain": [
       "<Response [200]>"
      ]
     },
     "execution_count": 5,
     "metadata": {},
     "output_type": "execute_result"
    }
   ],
   "source": [
    "got_houses_url=\"https://anapioficeandfire.com/api/houses\"\n",
    "query_params = {\"name\": \"House Breakstone\",}\n",
    "requests.get(got_houses_url, params=query_params)"
   ]
  },
  {
   "cell_type": "code",
   "execution_count": 6,
   "id": "35038762",
   "metadata": {},
   "outputs": [],
   "source": [
    "house_breakstone = requests.get(got_houses_url, params=query_params)"
   ]
  },
  {
   "cell_type": "code",
   "execution_count": 7,
   "id": "7fdd85f4",
   "metadata": {},
   "outputs": [
    {
     "data": {
      "text/plain": [
       "'https://anapioficeandfire.com/api/houses?name=House+Breakstone'"
      ]
     },
     "execution_count": 7,
     "metadata": {},
     "output_type": "execute_result"
    }
   ],
   "source": [
    "house_breakstone.url"
   ]
  },
  {
   "cell_type": "code",
   "execution_count": 8,
   "id": "cae0ba9e",
   "metadata": {},
   "outputs": [],
   "source": [
    "house_breakstone_json = house_breakstone.json()"
   ]
  },
  {
   "cell_type": "code",
   "execution_count": 9,
   "id": "6824cdb5",
   "metadata": {
    "scrolled": true
   },
   "outputs": [
    {
     "data": {
      "text/plain": [
       "[{'url': 'https://anapioficeandfire.com/api/houses/41',\n",
       "  'name': 'House Breakstone',\n",
       "  'region': 'The Vale',\n",
       "  'coatOfArms': 'A red sledge',\n",
       "  'words': '',\n",
       "  'titles': [''],\n",
       "  'seats': [''],\n",
       "  'currentLord': '',\n",
       "  'heir': '',\n",
       "  'overlord': '',\n",
       "  'founded': '',\n",
       "  'founder': '',\n",
       "  'diedOut': '',\n",
       "  'ancestralWeapons': [''],\n",
       "  'cadetBranches': [],\n",
       "  'swornMembers': []}]"
      ]
     },
     "execution_count": 9,
     "metadata": {},
     "output_type": "execute_result"
    }
   ],
   "source": [
    "house_breakstone_json"
   ]
  },
  {
   "cell_type": "markdown",
   "id": "708bbeed",
   "metadata": {},
   "source": [
    "House Breakstone has an index of `41` as shown in the above"
   ]
  },
  {
   "cell_type": "markdown",
   "id": "82923361",
   "metadata": {},
   "source": [
    "### Question 2:\n",
    "\n",
    "b) How many males, females and unknown genders are there in the first 40 characters?\n",
    "Note, index 0 does not correspond to a character, so full range is 1 - 40 both ends inclusive. "
   ]
  },
  {
   "cell_type": "code",
   "execution_count": 13,
   "id": "2f7fe7e6",
   "metadata": {},
   "outputs": [
    {
     "data": {
      "text/plain": [
       "<Response [200]>"
      ]
     },
     "execution_count": 13,
     "metadata": {},
     "output_type": "execute_result"
    }
   ],
   "source": [
    "got_characters_url=\"https://www.anapioficeandfire.com/api/characters\"\n",
    "query_params = {\"gender\": \"Male\"}\n",
    "requests.get(got_characters_url, query_params)"
   ]
  },
  {
   "cell_type": "code",
   "execution_count": 14,
   "id": "d24d7d37",
   "metadata": {},
   "outputs": [],
   "source": [
    "got_characters_male = requests.get(got_characters_url, query_params)"
   ]
  },
  {
   "cell_type": "code",
   "execution_count": 15,
   "id": "08833d05",
   "metadata": {},
   "outputs": [
    {
     "data": {
      "text/plain": [
       "[{'url': 'https://www.anapioficeandfire.com/api/characters/2',\n",
       "  'name': 'Walder',\n",
       "  'gender': 'Male',\n",
       "  'culture': '',\n",
       "  'born': '',\n",
       "  'died': '',\n",
       "  'titles': [''],\n",
       "  'aliases': ['Hodor'],\n",
       "  'father': '',\n",
       "  'mother': '',\n",
       "  'spouse': '',\n",
       "  'allegiances': ['https://www.anapioficeandfire.com/api/houses/362'],\n",
       "  'books': ['https://www.anapioficeandfire.com/api/books/1',\n",
       "   'https://www.anapioficeandfire.com/api/books/2',\n",
       "   'https://www.anapioficeandfire.com/api/books/3',\n",
       "   'https://www.anapioficeandfire.com/api/books/5',\n",
       "   'https://www.anapioficeandfire.com/api/books/8'],\n",
       "  'povBooks': [],\n",
       "  'tvSeries': ['Season 1', 'Season 2', 'Season 3', 'Season 4', 'Season 6'],\n",
       "  'playedBy': ['Kristian Nairn']},\n",
       " {'url': 'https://www.anapioficeandfire.com/api/characters/3',\n",
       "  'name': '',\n",
       "  'gender': 'Male',\n",
       "  'culture': '',\n",
       "  'born': '',\n",
       "  'died': '',\n",
       "  'titles': [''],\n",
       "  'aliases': ['Lamprey'],\n",
       "  'father': '',\n",
       "  'mother': '',\n",
       "  'spouse': '',\n",
       "  'allegiances': ['https://www.anapioficeandfire.com/api/houses/15'],\n",
       "  'books': ['https://www.anapioficeandfire.com/api/books/3'],\n",
       "  'povBooks': [],\n",
       "  'tvSeries': [''],\n",
       "  'playedBy': ['']},\n",
       " {'url': 'https://www.anapioficeandfire.com/api/characters/5',\n",
       "  'name': '',\n",
       "  'gender': 'Male',\n",
       "  'culture': '',\n",
       "  'born': '',\n",
       "  'died': '',\n",
       "  'titles': [''],\n",
       "  'aliases': ['Old Crackbones'],\n",
       "  'father': '',\n",
       "  'mother': '',\n",
       "  'spouse': '',\n",
       "  'allegiances': [],\n",
       "  'books': ['https://www.anapioficeandfire.com/api/books/5'],\n",
       "  'povBooks': [],\n",
       "  'tvSeries': [''],\n",
       "  'playedBy': ['']},\n",
       " {'url': 'https://www.anapioficeandfire.com/api/characters/8',\n",
       "  'name': '',\n",
       "  'gender': 'Male',\n",
       "  'culture': '',\n",
       "  'born': '',\n",
       "  'died': '',\n",
       "  'titles': [''],\n",
       "  'aliases': ['Quickfinger'],\n",
       "  'father': '',\n",
       "  'mother': '',\n",
       "  'spouse': '',\n",
       "  'allegiances': ['https://www.anapioficeandfire.com/api/houses/23'],\n",
       "  'books': ['https://www.anapioficeandfire.com/api/books/6'],\n",
       "  'povBooks': [],\n",
       "  'tvSeries': [''],\n",
       "  'playedBy': ['']},\n",
       " {'url': 'https://www.anapioficeandfire.com/api/characters/12',\n",
       "  'name': 'Balon Greyjoy',\n",
       "  'gender': 'Male',\n",
       "  'culture': '',\n",
       "  'born': '',\n",
       "  'died': '299 AC, at Pyke',\n",
       "  'titles': ['Iron King',\n",
       "   'King of the Isles and the North',\n",
       "   'King of Salt and Rock',\n",
       "   'Son of the Sea Wind',\n",
       "   'Lord Reaper of Pyke',\n",
       "   'The Greyjoy',\n",
       "   'Captain of the Great Kraken'],\n",
       "  'aliases': ['Balon the Brave',\n",
       "   'Balon the Blessed',\n",
       "   'Balon the Twice Crowned',\n",
       "   'Balon the Widowmaker',\n",
       "   'The Kraken King'],\n",
       "  'father': 'https://www.anapioficeandfire.com/api/characters/836',\n",
       "  'mother': '',\n",
       "  'spouse': 'https://www.anapioficeandfire.com/api/characters/66',\n",
       "  'allegiances': [],\n",
       "  'books': ['https://www.anapioficeandfire.com/api/books/1',\n",
       "   'https://www.anapioficeandfire.com/api/books/2',\n",
       "   'https://www.anapioficeandfire.com/api/books/3',\n",
       "   'https://www.anapioficeandfire.com/api/books/5',\n",
       "   'https://www.anapioficeandfire.com/api/books/8'],\n",
       "  'povBooks': [],\n",
       "  'tvSeries': ['Season 2', 'Season 3', 'Season 6'],\n",
       "  'playedBy': ['Patrick Malahide']},\n",
       " {'url': 'https://www.anapioficeandfire.com/api/characters/13',\n",
       "  'name': 'Chayle',\n",
       "  'gender': 'Male',\n",
       "  'culture': '',\n",
       "  'born': '',\n",
       "  'died': 'In 299 AC, at Winterfell',\n",
       "  'titles': ['Septon'],\n",
       "  'aliases': [''],\n",
       "  'father': '',\n",
       "  'mother': '',\n",
       "  'spouse': '',\n",
       "  'allegiances': [],\n",
       "  'books': ['https://www.anapioficeandfire.com/api/books/1',\n",
       "   'https://www.anapioficeandfire.com/api/books/2',\n",
       "   'https://www.anapioficeandfire.com/api/books/3'],\n",
       "  'povBooks': [],\n",
       "  'tvSeries': [''],\n",
       "  'playedBy': ['']},\n",
       " {'url': 'https://www.anapioficeandfire.com/api/characters/14',\n",
       "  'name': 'Gillam',\n",
       "  'gender': 'Male',\n",
       "  'culture': '',\n",
       "  'born': '',\n",
       "  'died': '',\n",
       "  'titles': ['Brother'],\n",
       "  'aliases': [''],\n",
       "  'father': '',\n",
       "  'mother': '',\n",
       "  'spouse': '',\n",
       "  'allegiances': [],\n",
       "  'books': ['https://www.anapioficeandfire.com/api/books/5'],\n",
       "  'povBooks': [],\n",
       "  'tvSeries': [''],\n",
       "  'playedBy': ['']},\n",
       " {'url': 'https://www.anapioficeandfire.com/api/characters/15',\n",
       "  'name': 'High Septon',\n",
       "  'gender': 'Male',\n",
       "  'culture': '',\n",
       "  'born': '',\n",
       "  'died': '',\n",
       "  'titles': ['High Septon',\n",
       "   'His High Holiness',\n",
       "   'Father of the Faithful',\n",
       "   'Voice of the Seven on Earth'],\n",
       "  'aliases': ['The High Sparrow'],\n",
       "  'father': '',\n",
       "  'mother': '',\n",
       "  'spouse': '',\n",
       "  'allegiances': [],\n",
       "  'books': ['https://www.anapioficeandfire.com/api/books/5',\n",
       "   'https://www.anapioficeandfire.com/api/books/8'],\n",
       "  'povBooks': [],\n",
       "  'tvSeries': ['Season 5', 'Season 6'],\n",
       "  'playedBy': ['Jonathan Pryce']},\n",
       " {'url': 'https://www.anapioficeandfire.com/api/characters/18',\n",
       "  'name': 'Meribald',\n",
       "  'gender': 'Male',\n",
       "  'culture': '',\n",
       "  'born': 'In 247 AC or 248 AC, at the riverlands',\n",
       "  'died': '',\n",
       "  'titles': ['Septon'],\n",
       "  'aliases': [''],\n",
       "  'father': '',\n",
       "  'mother': '',\n",
       "  'spouse': '',\n",
       "  'allegiances': [],\n",
       "  'books': ['https://www.anapioficeandfire.com/api/books/5'],\n",
       "  'povBooks': [],\n",
       "  'tvSeries': [''],\n",
       "  'playedBy': ['']},\n",
       " {'url': 'https://www.anapioficeandfire.com/api/characters/22',\n",
       "  'name': 'Ollidor',\n",
       "  'gender': 'Male',\n",
       "  'culture': '',\n",
       "  'born': '',\n",
       "  'died': '',\n",
       "  'titles': ['Septon'],\n",
       "  'aliases': [''],\n",
       "  'father': '',\n",
       "  'mother': '',\n",
       "  'spouse': '',\n",
       "  'allegiances': [],\n",
       "  'books': ['https://www.anapioficeandfire.com/api/books/5',\n",
       "   'https://www.anapioficeandfire.com/api/books/8'],\n",
       "  'povBooks': [],\n",
       "  'tvSeries': [''],\n",
       "  'playedBy': ['']}]"
      ]
     },
     "execution_count": 15,
     "metadata": {},
     "output_type": "execute_result"
    }
   ],
   "source": [
    "got_characters_male.json()"
   ]
  },
  {
   "cell_type": "code",
   "execution_count": 16,
   "id": "b9e48878",
   "metadata": {},
   "outputs": [
    {
     "data": {
      "text/plain": [
       "list"
      ]
     },
     "execution_count": 16,
     "metadata": {},
     "output_type": "execute_result"
    }
   ],
   "source": [
    "type(got_characters_male.json())"
   ]
  },
  {
   "cell_type": "code",
   "execution_count": 17,
   "id": "f0fb4360",
   "metadata": {},
   "outputs": [],
   "source": [
    "got_characters_male_data= pd.DataFrame(got_characters_male.json())"
   ]
  },
  {
   "cell_type": "code",
   "execution_count": 23,
   "id": "1639fd7a",
   "metadata": {},
   "outputs": [
    {
     "name": "stdout",
     "output_type": "stream",
     "text": [
      "<class 'pandas.core.frame.DataFrame'>\n",
      "RangeIndex: 10 entries, 0 to 9\n",
      "Data columns (total 16 columns):\n",
      " #   Column       Non-Null Count  Dtype \n",
      "---  ------       --------------  ----- \n",
      " 0   url          10 non-null     object\n",
      " 1   name         10 non-null     object\n",
      " 2   gender       10 non-null     object\n",
      " 3   culture      10 non-null     object\n",
      " 4   born         10 non-null     object\n",
      " 5   died         10 non-null     object\n",
      " 6   titles       10 non-null     object\n",
      " 7   aliases      10 non-null     object\n",
      " 8   father       10 non-null     object\n",
      " 9   mother       10 non-null     object\n",
      " 10  spouse       10 non-null     object\n",
      " 11  allegiances  10 non-null     object\n",
      " 12  books        10 non-null     object\n",
      " 13  povBooks     10 non-null     object\n",
      " 14  tvSeries     10 non-null     object\n",
      " 15  playedBy     10 non-null     object\n",
      "dtypes: object(16)\n",
      "memory usage: 1.4+ KB\n"
     ]
    }
   ],
   "source": [
    "got_characters_male_data.info()"
   ]
  },
  {
   "cell_type": "code",
   "execution_count": null,
   "id": "671863c5",
   "metadata": {},
   "outputs": [],
   "source": []
  },
  {
   "cell_type": "code",
   "execution_count": null,
   "id": "1598c1f7",
   "metadata": {},
   "outputs": [],
   "source": []
  },
  {
   "cell_type": "markdown",
   "id": "15f172d8",
   "metadata": {},
   "source": [
    "principles: for loop and count"
   ]
  },
  {
   "cell_type": "code",
   "execution_count": null,
   "id": "3fd22efa",
   "metadata": {},
   "outputs": [],
   "source": [
    "got_characters_url=\"https://www.anapioficeandfire.com/api/characters\"\n",
    "query_params = {\"gender\"}\n",
    "got_character = requests.get(got_characters_url, query_params)"
   ]
  },
  {
   "cell_type": "code",
   "execution_count": null,
   "id": "49995117",
   "metadata": {},
   "outputs": [],
   "source": [
    "def get_character_gender(gender):\n",
    "  \n",
    "    got_characters_url=\"https://www.anapioficeandfire.com/api/characters\"\n",
    "    query_params = {\"index\":,\"gender\"}\n",
    "    get_character = requests.get(got_characters_url, query_params)\n",
    "    i =  query_params = {\"index\"}\n",
    "    gender = query_params = {\"gender\"}\n",
    "    if i <= 40 and gender == \"Male\":\n",
    "        return "
   ]
  },
  {
   "cell_type": "code",
   "execution_count": null,
   "id": "5ff9df38",
   "metadata": {},
   "outputs": [],
   "source": [
    "get_character_gender(\"Male\")"
   ]
  },
  {
   "cell_type": "code",
   "execution_count": null,
   "id": "41d981de",
   "metadata": {},
   "outputs": [],
   "source": [
    "got_characters = requests.get(got_characters_url)"
   ]
  },
  {
   "cell_type": "code",
   "execution_count": null,
   "id": "f28aa1e4",
   "metadata": {},
   "outputs": [],
   "source": [
    "got_characters.url"
   ]
  },
  {
   "cell_type": "code",
   "execution_count": null,
   "id": "984b4418",
   "metadata": {},
   "outputs": [],
   "source": [
    "got_characters_json = got_characters.json()"
   ]
  },
  {
   "cell_type": "code",
   "execution_count": null,
   "id": "9994583f",
   "metadata": {},
   "outputs": [],
   "source": [
    "type(got_characters_json)"
   ]
  },
  {
   "cell_type": "code",
   "execution_count": null,
   "id": "59263e64",
   "metadata": {},
   "outputs": [],
   "source": [
    "got_characters_json"
   ]
  },
  {
   "cell_type": "code",
   "execution_count": null,
   "id": "427b4293",
   "metadata": {},
   "outputs": [],
   "source": [
    "got_characters_data = pd.DataFrame(got_characters_json)"
   ]
  },
  {
   "cell_type": "code",
   "execution_count": null,
   "id": "9b1920a9",
   "metadata": {},
   "outputs": [],
   "source": [
    "got_characters_data.head()"
   ]
  },
  {
   "cell_type": "code",
   "execution_count": null,
   "id": "e2f411a7",
   "metadata": {},
   "outputs": [],
   "source": [
    "got_characters_data.info()"
   ]
  },
  {
   "cell_type": "code",
   "execution_count": null,
   "id": "200a2662",
   "metadata": {},
   "outputs": [],
   "source": []
  },
  {
   "cell_type": "markdown",
   "id": "87030dee",
   "metadata": {},
   "source": [
    "### Question 4:\n",
    "\n",
    "d: How many books does the character 'High Septon' appear in? (ignoring 'povcharacters') \n",
    "\n",
    "Hint: index value of Septon needs to be found first; it is smaller than 20."
   ]
  },
  {
   "cell_type": "code",
   "execution_count": null,
   "id": "0d62e416",
   "metadata": {},
   "outputs": [],
   "source": [
    "got_characters_url=\"https://www.anapioficeandfire.com/api/characters\"\n",
    "query_params = {\"name\": \"High Septon\", \"hasWords\":\"Septon\"}\n",
    "requests.get(got_characters_url, query_params)\n",
    "septon_response = requests.get(got_characters_url, query_params)"
   ]
  },
  {
   "cell_type": "code",
   "execution_count": null,
   "id": "3bd4043f",
   "metadata": {},
   "outputs": [],
   "source": [
    "septon_response"
   ]
  },
  {
   "cell_type": "code",
   "execution_count": null,
   "id": "04c9b378",
   "metadata": {},
   "outputs": [],
   "source": [
    "septon_response_json =septon_response.json()"
   ]
  },
  {
   "cell_type": "code",
   "execution_count": null,
   "id": "5f6a362a",
   "metadata": {},
   "outputs": [],
   "source": [
    "septon_response_json "
   ]
  },
  {
   "cell_type": "markdown",
   "id": "aab594dd",
   "metadata": {},
   "source": [
    "The character `High Septon` appears in two books `5` and `8` as shown above"
   ]
  },
  {
   "cell_type": "code",
   "execution_count": null,
   "id": "aaf979b4",
   "metadata": {},
   "outputs": [],
   "source": []
  }
 ],
 "metadata": {
  "kernelspec": {
   "display_name": "Python 3 (ipykernel)",
   "language": "python",
   "name": "python3"
  },
  "language_info": {
   "codemirror_mode": {
    "name": "ipython",
    "version": 3
   },
   "file_extension": ".py",
   "mimetype": "text/x-python",
   "name": "python",
   "nbconvert_exporter": "python",
   "pygments_lexer": "ipython3",
   "version": "3.9.16"
  }
 },
 "nbformat": 4,
 "nbformat_minor": 5
}
