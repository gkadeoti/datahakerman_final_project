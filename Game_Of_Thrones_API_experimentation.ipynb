{
 "cells": [
  {
   "cell_type": "markdown",
   "id": "b0fb1854",
   "metadata": {},
   "source": [
    "# Consuming the API"
   ]
  },
  {
   "cell_type": "code",
   "execution_count": 1,
   "id": "d64819ae",
   "metadata": {},
   "outputs": [
    {
     "data": {
      "text/html": [
       "<style>.container { width:100% !important; }</style>"
      ],
      "text/plain": [
       "<IPython.core.display.HTML object>"
      ]
     },
     "metadata": {},
     "output_type": "display_data"
    }
   ],
   "source": [
    "import pandas as pd\n",
    "pd.set_option(\"display.max_columns\", None)\n",
    "pd.set_option(\"display.max_rows\", None)\n",
    "pd.options.display.max_colwidth = None\n",
    "pd.set_option(\"display.float_format\", lambda x: '%.2f' % x)\n",
    "\n",
    "from IPython.display import display, HTML\n",
    "display(HTML(\"<style>.container { width:100% !important; }</style>\"))"
   ]
  },
  {
   "cell_type": "code",
   "execution_count": 2,
   "id": "d8ac75f3",
   "metadata": {},
   "outputs": [],
   "source": [
    "import requests"
   ]
  },
  {
   "cell_type": "markdown",
   "id": "bc802fcd",
   "metadata": {},
   "source": [
    "Loading in the GOT API root url"
   ]
  },
  {
   "cell_type": "code",
   "execution_count": 3,
   "id": "af97d866",
   "metadata": {},
   "outputs": [],
   "source": [
    "got_url=\"https://anapioficeandfire.com/api/houses\""
   ]
  },
  {
   "cell_type": "markdown",
   "id": "13b3d230",
   "metadata": {},
   "source": [
    "### Loading in the GOT API Houses url"
   ]
  },
  {
   "cell_type": "code",
   "execution_count": 4,
   "id": "9103cafb",
   "metadata": {},
   "outputs": [
    {
     "data": {
      "text/plain": [
       "<Response [200]>"
      ]
     },
     "execution_count": 4,
     "metadata": {},
     "output_type": "execute_result"
    }
   ],
   "source": [
    "got_houses_url=\"https://anapioficeandfire.com/api/houses\"\n",
    "query_params = {\"name\": \"Breakstone\"}\n",
    "requests.get(got_houses_url, params=query_params)"
   ]
  },
  {
   "cell_type": "code",
   "execution_count": 5,
   "id": "58b2bbee",
   "metadata": {},
   "outputs": [],
   "source": [
    "house_breakstone = requests.get(got_houses_url, params=query_params)"
   ]
  },
  {
   "cell_type": "code",
   "execution_count": 6,
   "id": "32a64d66",
   "metadata": {},
   "outputs": [
    {
     "data": {
      "text/plain": [
       "'https://anapioficeandfire.com/api/houses?name=Breakstone'"
      ]
     },
     "execution_count": 6,
     "metadata": {},
     "output_type": "execute_result"
    }
   ],
   "source": [
    "house_breakstone.url"
   ]
  },
  {
   "cell_type": "code",
   "execution_count": 7,
   "id": "bcfc14e2",
   "metadata": {},
   "outputs": [],
   "source": [
    "house_breakstone_json = house_breakstone.json()"
   ]
  },
  {
   "cell_type": "code",
   "execution_count": 8,
   "id": "f538ef2d",
   "metadata": {},
   "outputs": [
    {
     "data": {
      "text/plain": [
       "[]"
      ]
     },
     "execution_count": 8,
     "metadata": {},
     "output_type": "execute_result"
    }
   ],
   "source": [
    "house_breakstone_json"
   ]
  },
  {
   "cell_type": "code",
   "execution_count": 9,
   "id": "40c61610",
   "metadata": {},
   "outputs": [],
   "source": [
    "house_breakstone_data = pd.DataFrame(house_breakstone_json)"
   ]
  },
  {
   "cell_type": "code",
   "execution_count": 10,
   "id": "9fa6e2b0",
   "metadata": {},
   "outputs": [
    {
     "data": {
      "text/html": [
       "<div>\n",
       "<style scoped>\n",
       "    .dataframe tbody tr th:only-of-type {\n",
       "        vertical-align: middle;\n",
       "    }\n",
       "\n",
       "    .dataframe tbody tr th {\n",
       "        vertical-align: top;\n",
       "    }\n",
       "\n",
       "    .dataframe thead th {\n",
       "        text-align: right;\n",
       "    }\n",
       "</style>\n",
       "<table border=\"1\" class=\"dataframe\">\n",
       "  <thead>\n",
       "    <tr style=\"text-align: right;\">\n",
       "      <th></th>\n",
       "    </tr>\n",
       "  </thead>\n",
       "  <tbody>\n",
       "  </tbody>\n",
       "</table>\n",
       "</div>"
      ],
      "text/plain": [
       "Empty DataFrame\n",
       "Columns: []\n",
       "Index: []"
      ]
     },
     "execution_count": 10,
     "metadata": {},
     "output_type": "execute_result"
    }
   ],
   "source": [
    "house_breakstone_data"
   ]
  },
  {
   "cell_type": "markdown",
   "id": "04af8c04",
   "metadata": {},
   "source": [
    "### Data Inspection - House breakstone"
   ]
  },
  {
   "cell_type": "code",
   "execution_count": 11,
   "id": "cddd6686",
   "metadata": {},
   "outputs": [
    {
     "data": {
      "text/plain": [
       "pandas.core.frame.DataFrame"
      ]
     },
     "execution_count": 11,
     "metadata": {},
     "output_type": "execute_result"
    }
   ],
   "source": [
    "type(house_breakstone_data)"
   ]
  },
  {
   "cell_type": "code",
   "execution_count": 12,
   "id": "a895d47a",
   "metadata": {},
   "outputs": [
    {
     "data": {
      "text/plain": [
       "<bound method DataFrame.info of Empty DataFrame\n",
       "Columns: []\n",
       "Index: []>"
      ]
     },
     "execution_count": 12,
     "metadata": {},
     "output_type": "execute_result"
    }
   ],
   "source": [
    "house_breakstone_data.info"
   ]
  },
  {
   "cell_type": "code",
   "execution_count": 13,
   "id": "3f94c5d6",
   "metadata": {},
   "outputs": [
    {
     "data": {
      "text/plain": [
       "(0, 0)"
      ]
     },
     "execution_count": 13,
     "metadata": {},
     "output_type": "execute_result"
    }
   ],
   "source": [
    "house_breakstone_data.shape"
   ]
  },
  {
   "cell_type": "code",
   "execution_count": 14,
   "id": "c2a5f2ef",
   "metadata": {},
   "outputs": [
    {
     "data": {
      "text/html": [
       "<div>\n",
       "<style scoped>\n",
       "    .dataframe tbody tr th:only-of-type {\n",
       "        vertical-align: middle;\n",
       "    }\n",
       "\n",
       "    .dataframe tbody tr th {\n",
       "        vertical-align: top;\n",
       "    }\n",
       "\n",
       "    .dataframe thead th {\n",
       "        text-align: right;\n",
       "    }\n",
       "</style>\n",
       "<table border=\"1\" class=\"dataframe\">\n",
       "  <thead>\n",
       "    <tr style=\"text-align: right;\">\n",
       "      <th></th>\n",
       "    </tr>\n",
       "  </thead>\n",
       "  <tbody>\n",
       "  </tbody>\n",
       "</table>\n",
       "</div>"
      ],
      "text/plain": [
       "Empty DataFrame\n",
       "Columns: []\n",
       "Index: []"
      ]
     },
     "execution_count": 14,
     "metadata": {},
     "output_type": "execute_result"
    }
   ],
   "source": [
    "house_breakstone_data.head()"
   ]
  },
  {
   "cell_type": "markdown",
   "id": "5b3788a6",
   "metadata": {},
   "source": [
    "data inspection reveals empty dataframe, hence index is not available"
   ]
  },
  {
   "cell_type": "code",
   "execution_count": null,
   "id": "d142011a",
   "metadata": {},
   "outputs": [],
   "source": []
  }
 ],
 "metadata": {
  "kernelspec": {
   "display_name": "Python 3 (ipykernel)",
   "language": "python",
   "name": "python3"
  },
  "language_info": {
   "codemirror_mode": {
    "name": "ipython",
    "version": 3
   },
   "file_extension": ".py",
   "mimetype": "text/x-python",
   "name": "python",
   "nbconvert_exporter": "python",
   "pygments_lexer": "ipython3",
   "version": "3.9.16"
  }
 },
 "nbformat": 4,
 "nbformat_minor": 5
}
