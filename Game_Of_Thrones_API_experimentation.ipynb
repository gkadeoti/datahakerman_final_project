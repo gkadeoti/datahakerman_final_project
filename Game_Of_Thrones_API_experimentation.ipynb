{
 "cells": [
  {
   "cell_type": "markdown",
   "id": "f599fc09",
   "metadata": {},
   "source": [
    "# Consuming the API"
   ]
  },
  {
   "cell_type": "code",
   "execution_count": 1,
   "id": "70815f6f",
   "metadata": {},
   "outputs": [
    {
     "data": {
      "text/html": [
       "<style>.container { width:100% !important; }</style>"
      ],
      "text/plain": [
       "<IPython.core.display.HTML object>"
      ]
     },
     "metadata": {},
     "output_type": "display_data"
    }
   ],
   "source": [
    "import pandas as pd\n",
    "pd.set_option(\"display.max_columns\", None)\n",
    "pd.set_option(\"display.max_rows\", None)\n",
    "pd.options.display.max_colwidth = None\n",
    "pd.set_option(\"display.float_format\", lambda x: '%.2f' % x)\n",
    "\n",
    "from IPython.display import display, HTML\n",
    "display(HTML(\"<style>.container { width:100% !important; }</style>\"))"
   ]
  },
  {
   "cell_type": "code",
   "execution_count": 2,
   "id": "f53f9b3c",
   "metadata": {},
   "outputs": [],
   "source": [
    "import requests"
   ]
  },
  {
   "cell_type": "markdown",
   "id": "de6485c4",
   "metadata": {},
   "source": [
    "Loading in the GOT API root url"
   ]
  },
  {
   "cell_type": "code",
   "execution_count": 3,
   "id": "67601507",
   "metadata": {},
   "outputs": [],
   "source": [
    "got_url=\"https://anapioficeandfire.com/api/houses\""
   ]
  },
  {
   "cell_type": "markdown",
   "id": "72b20fd5",
   "metadata": {},
   "source": [
    "### Loading in the GOT API Houses url"
   ]
  },
  {
   "cell_type": "code",
   "execution_count": 4,
   "id": "63ba9fcd",
   "metadata": {},
   "outputs": [
    {
     "data": {
      "text/plain": [
       "<Response [200]>"
      ]
     },
     "execution_count": 4,
     "metadata": {},
     "output_type": "execute_result"
    }
   ],
   "source": [
    "got_houses_url=\"https://anapioficeandfire.com/api/houses\"\n",
    "query_params = {\"name\": \"Breakstone\"}\n",
    "requests.get(got_houses_url, params=query_params)"
   ]
  },
  {
   "cell_type": "code",
   "execution_count": 5,
   "id": "35038762",
   "metadata": {},
   "outputs": [],
   "source": [
    "house_breakstone = requests.get(got_houses_url, params=query_params)"
   ]
  },
  {
   "cell_type": "code",
   "execution_count": 6,
   "id": "7fdd85f4",
   "metadata": {},
   "outputs": [
    {
     "data": {
      "text/plain": [
       "'https://anapioficeandfire.com/api/houses?name=Breakstone'"
      ]
     },
     "execution_count": 6,
     "metadata": {},
     "output_type": "execute_result"
    }
   ],
   "source": [
    "house_breakstone.url"
   ]
  },
  {
   "cell_type": "code",
   "execution_count": 7,
   "id": "cae0ba9e",
   "metadata": {},
   "outputs": [],
   "source": [
    "house_breakstone_json = house_breakstone.json()"
   ]
  },
  {
   "cell_type": "code",
   "execution_count": 8,
   "id": "6824cdb5",
   "metadata": {},
   "outputs": [
    {
     "data": {
      "text/plain": [
       "[]"
      ]
     },
     "execution_count": 8,
     "metadata": {},
     "output_type": "execute_result"
    }
   ],
   "source": [
    "house_breakstone_json"
   ]
  },
  {
   "cell_type": "code",
   "execution_count": 9,
   "id": "64de9a37",
   "metadata": {},
   "outputs": [],
   "source": [
    "house_breakstone_data = pd.DataFrame(house_breakstone_json)"
   ]
  },
  {
   "cell_type": "code",
   "execution_count": 10,
   "id": "f54dad8d",
   "metadata": {},
   "outputs": [
    {
     "data": {
      "text/html": [
       "<div>\n",
       "<style scoped>\n",
       "    .dataframe tbody tr th:only-of-type {\n",
       "        vertical-align: middle;\n",
       "    }\n",
       "\n",
       "    .dataframe tbody tr th {\n",
       "        vertical-align: top;\n",
       "    }\n",
       "\n",
       "    .dataframe thead th {\n",
       "        text-align: right;\n",
       "    }\n",
       "</style>\n",
       "<table border=\"1\" class=\"dataframe\">\n",
       "  <thead>\n",
       "    <tr style=\"text-align: right;\">\n",
       "      <th></th>\n",
       "    </tr>\n",
       "  </thead>\n",
       "  <tbody>\n",
       "  </tbody>\n",
       "</table>\n",
       "</div>"
      ],
      "text/plain": [
       "Empty DataFrame\n",
       "Columns: []\n",
       "Index: []"
      ]
     },
     "execution_count": 10,
     "metadata": {},
     "output_type": "execute_result"
    }
   ],
   "source": [
    "house_breakstone_data"
   ]
  },
  {
   "cell_type": "markdown",
   "id": "20f8027a",
   "metadata": {},
   "source": [
    "### Data Inspection - House breakstone"
   ]
  },
  {
   "cell_type": "code",
   "execution_count": 11,
   "id": "11ce80fc",
   "metadata": {},
   "outputs": [
    {
     "data": {
      "text/plain": [
       "pandas.core.frame.DataFrame"
      ]
     },
     "execution_count": 11,
     "metadata": {},
     "output_type": "execute_result"
    }
   ],
   "source": [
    "type(house_breakstone_data)"
   ]
  },
  {
   "cell_type": "code",
   "execution_count": 12,
   "id": "b8bf6d38",
   "metadata": {},
   "outputs": [
    {
     "data": {
      "text/plain": [
       "<bound method DataFrame.info of Empty DataFrame\n",
       "Columns: []\n",
       "Index: []>"
      ]
     },
     "execution_count": 12,
     "metadata": {},
     "output_type": "execute_result"
    }
   ],
   "source": [
    "house_breakstone_data.info"
   ]
  },
  {
   "cell_type": "code",
   "execution_count": 13,
   "id": "9b5bb477",
   "metadata": {},
   "outputs": [
    {
     "data": {
      "text/plain": [
       "(0, 0)"
      ]
     },
     "execution_count": 13,
     "metadata": {},
     "output_type": "execute_result"
    }
   ],
   "source": [
    "house_breakstone_data.shape"
   ]
  },
  {
   "cell_type": "code",
   "execution_count": 14,
   "id": "03b10f8d",
   "metadata": {},
   "outputs": [
    {
     "data": {
      "text/html": [
       "<div>\n",
       "<style scoped>\n",
       "    .dataframe tbody tr th:only-of-type {\n",
       "        vertical-align: middle;\n",
       "    }\n",
       "\n",
       "    .dataframe tbody tr th {\n",
       "        vertical-align: top;\n",
       "    }\n",
       "\n",
       "    .dataframe thead th {\n",
       "        text-align: right;\n",
       "    }\n",
       "</style>\n",
       "<table border=\"1\" class=\"dataframe\">\n",
       "  <thead>\n",
       "    <tr style=\"text-align: right;\">\n",
       "      <th></th>\n",
       "    </tr>\n",
       "  </thead>\n",
       "  <tbody>\n",
       "  </tbody>\n",
       "</table>\n",
       "</div>"
      ],
      "text/plain": [
       "Empty DataFrame\n",
       "Columns: []\n",
       "Index: []"
      ]
     },
     "execution_count": 14,
     "metadata": {},
     "output_type": "execute_result"
    }
   ],
   "source": [
    "house_breakstone_data.head()"
   ]
  },
  {
   "cell_type": "markdown",
   "id": "470a6c75",
   "metadata": {},
   "source": [
    "data inspection reveals empty dataframe, hence index is not available"
   ]
  },
  {
   "cell_type": "code",
   "execution_count": null,
   "id": "692f1562",
   "metadata": {},
   "outputs": [],
   "source": []
  }
 ],
 "metadata": {
  "kernelspec": {
   "display_name": "Python 3 (ipykernel)",
   "language": "python",
   "name": "python3"
  },
  "language_info": {
   "codemirror_mode": {
    "name": "ipython",
    "version": 3
   },
   "file_extension": ".py",
   "mimetype": "text/x-python",
   "name": "python",
   "nbconvert_exporter": "python",
   "pygments_lexer": "ipython3",
   "version": "3.9.16"
  }
 },
 "nbformat": 4,
 "nbformat_minor": 5
}
