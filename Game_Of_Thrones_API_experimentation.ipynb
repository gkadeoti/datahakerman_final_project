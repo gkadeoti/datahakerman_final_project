{
 "cells": [
  {
   "cell_type": "markdown",
   "id": "f599fc09",
   "metadata": {},
   "source": [
    "# Consuming the API"
   ]
  },
  {
   "cell_type": "code",
   "execution_count": 1,
   "id": "70815f6f",
   "metadata": {},
   "outputs": [
    {
     "data": {
      "text/html": [
       "<style>.container { width:100% !important; }</style>"
      ],
      "text/plain": [
       "<IPython.core.display.HTML object>"
      ]
     },
     "metadata": {},
     "output_type": "display_data"
    }
   ],
   "source": [
    "import pandas as pd\n",
    "pd.set_option(\"display.max_columns\", None)\n",
    "pd.set_option(\"display.max_rows\", None)\n",
    "pd.options.display.max_colwidth = None\n",
    "pd.set_option(\"display.float_format\", lambda x: '%.2f' % x)\n",
    "\n",
    "from IPython.display import display, HTML\n",
    "display(HTML(\"<style>.container { width:100% !important; }</style>\"))"
   ]
  },
  {
   "cell_type": "code",
   "execution_count": 2,
   "id": "f53f9b3c",
   "metadata": {},
   "outputs": [],
   "source": [
    "import requests"
   ]
  },
  {
   "cell_type": "code",
   "execution_count": 3,
   "id": "3ff16e42",
   "metadata": {},
   "outputs": [],
   "source": [
    "got_url = \"https://anapioficeandfire.com/api/\"\n",
    "got_response = requests.get(got_url)"
   ]
  },
  {
   "cell_type": "code",
   "execution_count": 4,
   "id": "f009d87a",
   "metadata": {},
   "outputs": [
    {
     "data": {
      "text/plain": [
       "'{\"books\":\"https://anapioficeandfire.com/api/books\",\"characters\":\"https://anapioficeandfire.com/api/characters\",\"houses\":\"https://anapioficeandfire.com/api/houses\"}'"
      ]
     },
     "execution_count": 4,
     "metadata": {},
     "output_type": "execute_result"
    }
   ],
   "source": [
    "got_response.text"
   ]
  },
  {
   "cell_type": "markdown",
   "id": "536543a1",
   "metadata": {},
   "source": [
    "### Question 1:\n",
    "\n",
    "a) What index corresponds to the house \"House Breakstone\"?"
   ]
  },
  {
   "cell_type": "markdown",
   "id": "72b20fd5",
   "metadata": {},
   "source": [
    "### Loading in the GOT API Houses url"
   ]
  },
  {
   "cell_type": "code",
   "execution_count": 5,
   "id": "63ba9fcd",
   "metadata": {},
   "outputs": [
    {
     "data": {
      "text/plain": [
       "<Response [200]>"
      ]
     },
     "execution_count": 5,
     "metadata": {},
     "output_type": "execute_result"
    }
   ],
   "source": [
    "got_houses_url=\"https://anapioficeandfire.com/api/houses\"\n",
    "query_params = {\"name\": \"House Breakstone\",}\n",
    "requests.get(got_houses_url, params=query_params)"
   ]
  },
  {
   "cell_type": "code",
   "execution_count": 6,
   "id": "35038762",
   "metadata": {},
   "outputs": [],
   "source": [
    "house_breakstone = requests.get(got_houses_url, params=query_params)"
   ]
  },
  {
   "cell_type": "code",
   "execution_count": 7,
   "id": "7fdd85f4",
   "metadata": {},
   "outputs": [
    {
     "data": {
      "text/plain": [
       "'https://anapioficeandfire.com/api/houses?name=House+Breakstone'"
      ]
     },
     "execution_count": 7,
     "metadata": {},
     "output_type": "execute_result"
    }
   ],
   "source": [
    "house_breakstone.url"
   ]
  },
  {
   "cell_type": "code",
   "execution_count": 8,
   "id": "cae0ba9e",
   "metadata": {},
   "outputs": [],
   "source": [
    "house_breakstone_json = house_breakstone.json()"
   ]
  },
  {
   "cell_type": "code",
   "execution_count": 9,
   "id": "6824cdb5",
   "metadata": {
    "scrolled": true
   },
   "outputs": [
    {
     "data": {
      "text/plain": [
       "[{'url': 'https://anapioficeandfire.com/api/houses/41',\n",
       "  'name': 'House Breakstone',\n",
       "  'region': 'The Vale',\n",
       "  'coatOfArms': 'A red sledge',\n",
       "  'words': '',\n",
       "  'titles': [''],\n",
       "  'seats': [''],\n",
       "  'currentLord': '',\n",
       "  'heir': '',\n",
       "  'overlord': '',\n",
       "  'founded': '',\n",
       "  'founder': '',\n",
       "  'diedOut': '',\n",
       "  'ancestralWeapons': [''],\n",
       "  'cadetBranches': [],\n",
       "  'swornMembers': []}]"
      ]
     },
     "execution_count": 9,
     "metadata": {},
     "output_type": "execute_result"
    }
   ],
   "source": [
    "house_breakstone_json"
   ]
  },
  {
   "cell_type": "markdown",
   "id": "6b8280c2",
   "metadata": {},
   "source": [
    "House Breakstone has an index of `41` as shown in the above"
   ]
  },
  {
   "cell_type": "markdown",
   "id": "39e6422f",
   "metadata": {},
   "source": [
    "### Question 2:\n",
    "\n",
    "b) How many males, females and unknown genders are there in the first 40 characters?\n",
    "Note, index 0 does not correspond to a character, so full range is 1 - 40 both ends inclusive. "
   ]
  },
  {
   "cell_type": "code",
   "execution_count": 12,
   "id": "371fb39a",
   "metadata": {},
   "outputs": [],
   "source": [
    "def get_character(index):\n",
    "    url = f\"https://anapioficeandfire.com/api/characters/{index}\"\n",
    "    response = requests.get(url)\n",
    "    result = response.json()\n",
    "    return result"
   ]
  },
  {
   "cell_type": "code",
   "execution_count": 15,
   "id": "5a1b1f3b",
   "metadata": {},
   "outputs": [],
   "source": [
    "def get_multiple_character(get_character, start_index, end_index):\n",
    "    results = []\n",
    "    for i in range(start_index, end_index + 1):\n",
    "        result = get_character(i)\n",
    "        results.append(result)\n",
    "    return results"
   ]
  },
  {
   "cell_type": "code",
   "execution_count": 16,
   "id": "289f3990",
   "metadata": {},
   "outputs": [
    {
     "data": {
      "text/plain": [
       "[{'url': 'https://anapioficeandfire.com/api/characters/1',\n",
       "  'name': '',\n",
       "  'gender': 'Female',\n",
       "  'culture': 'Braavosi',\n",
       "  'born': '',\n",
       "  'died': '',\n",
       "  'titles': [''],\n",
       "  'aliases': ['The Daughter of the Dusk'],\n",
       "  'father': '',\n",
       "  'mother': '',\n",
       "  'spouse': '',\n",
       "  'allegiances': [],\n",
       "  'books': ['https://anapioficeandfire.com/api/books/5'],\n",
       "  'povBooks': [],\n",
       "  'tvSeries': [''],\n",
       "  'playedBy': ['']},\n",
       " {'url': 'https://anapioficeandfire.com/api/characters/2',\n",
       "  'name': 'Walder',\n",
       "  'gender': 'Male',\n",
       "  'culture': '',\n",
       "  'born': '',\n",
       "  'died': '',\n",
       "  'titles': [''],\n",
       "  'aliases': ['Hodor'],\n",
       "  'father': '',\n",
       "  'mother': '',\n",
       "  'spouse': '',\n",
       "  'allegiances': ['https://anapioficeandfire.com/api/houses/362'],\n",
       "  'books': ['https://anapioficeandfire.com/api/books/1',\n",
       "   'https://anapioficeandfire.com/api/books/2',\n",
       "   'https://anapioficeandfire.com/api/books/3',\n",
       "   'https://anapioficeandfire.com/api/books/5',\n",
       "   'https://anapioficeandfire.com/api/books/8'],\n",
       "  'povBooks': [],\n",
       "  'tvSeries': ['Season 1', 'Season 2', 'Season 3', 'Season 4', 'Season 6'],\n",
       "  'playedBy': ['Kristian Nairn']},\n",
       " {'url': 'https://anapioficeandfire.com/api/characters/3',\n",
       "  'name': '',\n",
       "  'gender': 'Male',\n",
       "  'culture': '',\n",
       "  'born': '',\n",
       "  'died': '',\n",
       "  'titles': [''],\n",
       "  'aliases': ['Lamprey'],\n",
       "  'father': '',\n",
       "  'mother': '',\n",
       "  'spouse': '',\n",
       "  'allegiances': ['https://anapioficeandfire.com/api/houses/15'],\n",
       "  'books': ['https://anapioficeandfire.com/api/books/3'],\n",
       "  'povBooks': [],\n",
       "  'tvSeries': [''],\n",
       "  'playedBy': ['']},\n",
       " {'url': 'https://anapioficeandfire.com/api/characters/4',\n",
       "  'name': '',\n",
       "  'gender': 'Female',\n",
       "  'culture': 'Braavosi',\n",
       "  'born': '',\n",
       "  'died': '',\n",
       "  'titles': [''],\n",
       "  'aliases': ['The Merling Queen'],\n",
       "  'father': '',\n",
       "  'mother': '',\n",
       "  'spouse': '',\n",
       "  'allegiances': [],\n",
       "  'books': ['https://anapioficeandfire.com/api/books/5',\n",
       "   'https://anapioficeandfire.com/api/books/8'],\n",
       "  'povBooks': [],\n",
       "  'tvSeries': [''],\n",
       "  'playedBy': ['']},\n",
       " {'url': 'https://anapioficeandfire.com/api/characters/5',\n",
       "  'name': '',\n",
       "  'gender': 'Male',\n",
       "  'culture': '',\n",
       "  'born': '',\n",
       "  'died': '',\n",
       "  'titles': [''],\n",
       "  'aliases': ['Old Crackbones'],\n",
       "  'father': '',\n",
       "  'mother': '',\n",
       "  'spouse': '',\n",
       "  'allegiances': [],\n",
       "  'books': ['https://anapioficeandfire.com/api/books/5'],\n",
       "  'povBooks': [],\n",
       "  'tvSeries': [''],\n",
       "  'playedBy': ['']},\n",
       " {'url': 'https://anapioficeandfire.com/api/characters/6',\n",
       "  'name': '',\n",
       "  'gender': 'Female',\n",
       "  'culture': 'Braavosi',\n",
       "  'born': '',\n",
       "  'died': '',\n",
       "  'titles': [''],\n",
       "  'aliases': ['The Poetess'],\n",
       "  'father': '',\n",
       "  'mother': '',\n",
       "  'spouse': '',\n",
       "  'allegiances': [],\n",
       "  'books': ['https://anapioficeandfire.com/api/books/5'],\n",
       "  'povBooks': [],\n",
       "  'tvSeries': [''],\n",
       "  'playedBy': ['']},\n",
       " {'url': 'https://anapioficeandfire.com/api/characters/7',\n",
       "  'name': '',\n",
       "  'gender': 'Female',\n",
       "  'culture': '',\n",
       "  'born': '',\n",
       "  'died': '',\n",
       "  'titles': [''],\n",
       "  'aliases': ['Porridge'],\n",
       "  'father': '',\n",
       "  'mother': '',\n",
       "  'spouse': '',\n",
       "  'allegiances': ['https://anapioficeandfire.com/api/houses/15'],\n",
       "  'books': ['https://anapioficeandfire.com/api/books/3'],\n",
       "  'povBooks': [],\n",
       "  'tvSeries': [''],\n",
       "  'playedBy': ['']},\n",
       " {'url': 'https://anapioficeandfire.com/api/characters/8',\n",
       "  'name': '',\n",
       "  'gender': 'Male',\n",
       "  'culture': '',\n",
       "  'born': '',\n",
       "  'died': '',\n",
       "  'titles': [''],\n",
       "  'aliases': ['Quickfinger'],\n",
       "  'father': '',\n",
       "  'mother': '',\n",
       "  'spouse': '',\n",
       "  'allegiances': ['https://anapioficeandfire.com/api/houses/23'],\n",
       "  'books': ['https://anapioficeandfire.com/api/books/6'],\n",
       "  'povBooks': [],\n",
       "  'tvSeries': [''],\n",
       "  'playedBy': ['']},\n",
       " {'url': 'https://anapioficeandfire.com/api/characters/9',\n",
       "  'name': '',\n",
       "  'gender': 'Female',\n",
       "  'culture': '',\n",
       "  'born': '',\n",
       "  'died': '',\n",
       "  'titles': [''],\n",
       "  'aliases': [\"the Sailor's Wife\"],\n",
       "  'father': '',\n",
       "  'mother': '',\n",
       "  'spouse': '',\n",
       "  'allegiances': [],\n",
       "  'books': ['https://anapioficeandfire.com/api/books/5'],\n",
       "  'povBooks': [],\n",
       "  'tvSeries': [''],\n",
       "  'playedBy': ['']},\n",
       " {'url': 'https://anapioficeandfire.com/api/characters/10',\n",
       "  'name': '',\n",
       "  'gender': 'Female',\n",
       "  'culture': 'Braavosi',\n",
       "  'born': '',\n",
       "  'died': '',\n",
       "  'titles': [''],\n",
       "  'aliases': ['The Veiled Lady'],\n",
       "  'father': '',\n",
       "  'mother': '',\n",
       "  'spouse': '',\n",
       "  'allegiances': [],\n",
       "  'books': ['https://anapioficeandfire.com/api/books/5'],\n",
       "  'povBooks': [],\n",
       "  'tvSeries': [''],\n",
       "  'playedBy': ['']},\n",
       " {'url': 'https://anapioficeandfire.com/api/characters/11',\n",
       "  'name': '',\n",
       "  'gender': 'Female',\n",
       "  'culture': 'Braavosi',\n",
       "  'born': 'In 263 AC or 264 AC',\n",
       "  'died': '',\n",
       "  'titles': [''],\n",
       "  'aliases': ['The waif'],\n",
       "  'father': '',\n",
       "  'mother': '',\n",
       "  'spouse': '',\n",
       "  'allegiances': [],\n",
       "  'books': ['https://anapioficeandfire.com/api/books/5',\n",
       "   'https://anapioficeandfire.com/api/books/8'],\n",
       "  'povBooks': [],\n",
       "  'tvSeries': ['Season 5', 'Season 6'],\n",
       "  'playedBy': ['Faye Marsay']},\n",
       " {'url': 'https://anapioficeandfire.com/api/characters/12',\n",
       "  'name': 'Balon Greyjoy',\n",
       "  'gender': 'Male',\n",
       "  'culture': '',\n",
       "  'born': '',\n",
       "  'died': '299 AC, at Pyke',\n",
       "  'titles': ['Iron King',\n",
       "   'King of the Isles and the North',\n",
       "   'King of Salt and Rock',\n",
       "   'Son of the Sea Wind',\n",
       "   'Lord Reaper of Pyke',\n",
       "   'The Greyjoy',\n",
       "   'Captain of the Great Kraken'],\n",
       "  'aliases': ['Balon the Brave',\n",
       "   'Balon the Blessed',\n",
       "   'Balon the Twice Crowned',\n",
       "   'Balon the Widowmaker',\n",
       "   'The Kraken King'],\n",
       "  'father': 'https://anapioficeandfire.com/api/characters/836',\n",
       "  'mother': '',\n",
       "  'spouse': 'https://anapioficeandfire.com/api/characters/66',\n",
       "  'allegiances': [],\n",
       "  'books': ['https://anapioficeandfire.com/api/books/1',\n",
       "   'https://anapioficeandfire.com/api/books/2',\n",
       "   'https://anapioficeandfire.com/api/books/3',\n",
       "   'https://anapioficeandfire.com/api/books/5',\n",
       "   'https://anapioficeandfire.com/api/books/8'],\n",
       "  'povBooks': [],\n",
       "  'tvSeries': ['Season 2', 'Season 3', 'Season 6'],\n",
       "  'playedBy': ['Patrick Malahide']},\n",
       " {'url': 'https://anapioficeandfire.com/api/characters/13',\n",
       "  'name': 'Chayle',\n",
       "  'gender': 'Male',\n",
       "  'culture': '',\n",
       "  'born': '',\n",
       "  'died': 'In 299 AC, at Winterfell',\n",
       "  'titles': ['Septon'],\n",
       "  'aliases': [''],\n",
       "  'father': '',\n",
       "  'mother': '',\n",
       "  'spouse': '',\n",
       "  'allegiances': [],\n",
       "  'books': ['https://anapioficeandfire.com/api/books/1',\n",
       "   'https://anapioficeandfire.com/api/books/2',\n",
       "   'https://anapioficeandfire.com/api/books/3'],\n",
       "  'povBooks': [],\n",
       "  'tvSeries': [''],\n",
       "  'playedBy': ['']},\n",
       " {'url': 'https://anapioficeandfire.com/api/characters/14',\n",
       "  'name': 'Gillam',\n",
       "  'gender': 'Male',\n",
       "  'culture': '',\n",
       "  'born': '',\n",
       "  'died': '',\n",
       "  'titles': ['Brother'],\n",
       "  'aliases': [''],\n",
       "  'father': '',\n",
       "  'mother': '',\n",
       "  'spouse': '',\n",
       "  'allegiances': [],\n",
       "  'books': ['https://anapioficeandfire.com/api/books/5'],\n",
       "  'povBooks': [],\n",
       "  'tvSeries': [''],\n",
       "  'playedBy': ['']},\n",
       " {'url': 'https://anapioficeandfire.com/api/characters/15',\n",
       "  'name': 'High Septon',\n",
       "  'gender': 'Male',\n",
       "  'culture': '',\n",
       "  'born': '',\n",
       "  'died': '',\n",
       "  'titles': ['High Septon',\n",
       "   'His High Holiness',\n",
       "   'Father of the Faithful',\n",
       "   'Voice of the Seven on Earth'],\n",
       "  'aliases': ['The High Sparrow'],\n",
       "  'father': '',\n",
       "  'mother': '',\n",
       "  'spouse': '',\n",
       "  'allegiances': [],\n",
       "  'books': ['https://anapioficeandfire.com/api/books/5',\n",
       "   'https://anapioficeandfire.com/api/books/8'],\n",
       "  'povBooks': [],\n",
       "  'tvSeries': ['Season 5', 'Season 6'],\n",
       "  'playedBy': ['Jonathan Pryce']},\n",
       " {'url': 'https://anapioficeandfire.com/api/characters/16',\n",
       "  'name': 'Margaery Tyrell',\n",
       "  'gender': 'Female',\n",
       "  'culture': 'Westeros',\n",
       "  'born': 'In 283 AC, at Highgarden',\n",
       "  'died': '',\n",
       "  'titles': ['Queen of the Seven Kingdoms'],\n",
       "  'aliases': ['The Little Queen', 'The Little Rose', 'Maid Margaery'],\n",
       "  'father': '',\n",
       "  'mother': '',\n",
       "  'spouse': 'https://anapioficeandfire.com/api/characters/862',\n",
       "  'allegiances': ['https://anapioficeandfire.com/api/houses/398'],\n",
       "  'books': ['https://anapioficeandfire.com/api/books/1',\n",
       "   'https://anapioficeandfire.com/api/books/2',\n",
       "   'https://anapioficeandfire.com/api/books/3',\n",
       "   'https://anapioficeandfire.com/api/books/5',\n",
       "   'https://anapioficeandfire.com/api/books/8'],\n",
       "  'povBooks': [],\n",
       "  'tvSeries': ['Season 2', 'Season 3', 'Season 4', 'Season 5', 'Season 6'],\n",
       "  'playedBy': ['Natalie Dormer']},\n",
       " {'url': 'https://anapioficeandfire.com/api/characters/17',\n",
       "  'name': 'Melicent',\n",
       "  'gender': 'Female',\n",
       "  'culture': '',\n",
       "  'born': '',\n",
       "  'died': '',\n",
       "  'titles': ['Septa'],\n",
       "  'aliases': [''],\n",
       "  'father': '',\n",
       "  'mother': '',\n",
       "  'spouse': '',\n",
       "  'allegiances': [],\n",
       "  'books': ['https://anapioficeandfire.com/api/books/5'],\n",
       "  'povBooks': [],\n",
       "  'tvSeries': [''],\n",
       "  'playedBy': ['']},\n",
       " {'url': 'https://anapioficeandfire.com/api/characters/18',\n",
       "  'name': 'Meribald',\n",
       "  'gender': 'Male',\n",
       "  'culture': '',\n",
       "  'born': 'In 247 AC or 248 AC, at the riverlands',\n",
       "  'died': '',\n",
       "  'titles': ['Septon'],\n",
       "  'aliases': [''],\n",
       "  'father': '',\n",
       "  'mother': '',\n",
       "  'spouse': '',\n",
       "  'allegiances': [],\n",
       "  'books': ['https://anapioficeandfire.com/api/books/5'],\n",
       "  'povBooks': [],\n",
       "  'tvSeries': [''],\n",
       "  'playedBy': ['']},\n",
       " {'url': 'https://anapioficeandfire.com/api/characters/19',\n",
       "  'name': 'Moelle',\n",
       "  'gender': 'Female',\n",
       "  'culture': '',\n",
       "  'born': '',\n",
       "  'died': '',\n",
       "  'titles': ['Septa'],\n",
       "  'aliases': [''],\n",
       "  'father': '',\n",
       "  'mother': '',\n",
       "  'spouse': '',\n",
       "  'allegiances': [],\n",
       "  'books': ['https://anapioficeandfire.com/api/books/5',\n",
       "   'https://anapioficeandfire.com/api/books/8'],\n",
       "  'povBooks': [],\n",
       "  'tvSeries': [''],\n",
       "  'playedBy': ['']},\n",
       " {'url': 'https://anapioficeandfire.com/api/characters/20',\n",
       "  'name': 'Mordane',\n",
       "  'gender': 'Female',\n",
       "  'culture': '',\n",
       "  'born': '',\n",
       "  'died': \"In 298 AC, at King's Landing\",\n",
       "  'titles': ['Septa'],\n",
       "  'aliases': [''],\n",
       "  'father': '',\n",
       "  'mother': '',\n",
       "  'spouse': '',\n",
       "  'allegiances': ['https://anapioficeandfire.com/api/houses/362'],\n",
       "  'books': ['https://anapioficeandfire.com/api/books/1',\n",
       "   'https://anapioficeandfire.com/api/books/2',\n",
       "   'https://anapioficeandfire.com/api/books/3'],\n",
       "  'povBooks': [],\n",
       "  'tvSeries': ['Season 1'],\n",
       "  'playedBy': ['Susan Brown']},\n",
       " {'url': 'https://anapioficeandfire.com/api/characters/21',\n",
       "  'name': 'Nysterica',\n",
       "  'gender': 'Female',\n",
       "  'culture': '',\n",
       "  'born': '',\n",
       "  'died': '',\n",
       "  'titles': ['Septa'],\n",
       "  'aliases': [''],\n",
       "  'father': '',\n",
       "  'mother': '',\n",
       "  'spouse': '',\n",
       "  'allegiances': [],\n",
       "  'books': ['https://anapioficeandfire.com/api/books/3',\n",
       "   'https://anapioficeandfire.com/api/books/5',\n",
       "   'https://anapioficeandfire.com/api/books/8'],\n",
       "  'povBooks': [],\n",
       "  'tvSeries': [''],\n",
       "  'playedBy': ['']},\n",
       " {'url': 'https://anapioficeandfire.com/api/characters/22',\n",
       "  'name': 'Ollidor',\n",
       "  'gender': 'Male',\n",
       "  'culture': '',\n",
       "  'born': '',\n",
       "  'died': '',\n",
       "  'titles': ['Septon'],\n",
       "  'aliases': [''],\n",
       "  'father': '',\n",
       "  'mother': '',\n",
       "  'spouse': '',\n",
       "  'allegiances': [],\n",
       "  'books': ['https://anapioficeandfire.com/api/books/5',\n",
       "   'https://anapioficeandfire.com/api/books/8'],\n",
       "  'povBooks': [],\n",
       "  'tvSeries': [''],\n",
       "  'playedBy': ['']},\n",
       " {'url': 'https://anapioficeandfire.com/api/characters/23',\n",
       "  'name': 'Osmynd',\n",
       "  'gender': 'Male',\n",
       "  'culture': '',\n",
       "  'born': '',\n",
       "  'died': '',\n",
       "  'titles': ['Septon'],\n",
       "  'aliases': [''],\n",
       "  'father': '',\n",
       "  'mother': '',\n",
       "  'spouse': '',\n",
       "  'allegiances': [],\n",
       "  'books': ['https://anapioficeandfire.com/api/books/2'],\n",
       "  'povBooks': [],\n",
       "  'tvSeries': [''],\n",
       "  'playedBy': ['']},\n",
       " {'url': 'https://anapioficeandfire.com/api/characters/24',\n",
       "  'name': 'Raynard',\n",
       "  'gender': 'Male',\n",
       "  'culture': '',\n",
       "  'born': '',\n",
       "  'died': '',\n",
       "  'titles': ['Septon'],\n",
       "  'aliases': [''],\n",
       "  'father': '',\n",
       "  'mother': '',\n",
       "  'spouse': '',\n",
       "  'allegiances': [],\n",
       "  'books': ['https://anapioficeandfire.com/api/books/5',\n",
       "   'https://anapioficeandfire.com/api/books/8'],\n",
       "  'povBooks': [],\n",
       "  'tvSeries': [''],\n",
       "  'playedBy': ['']},\n",
       " {'url': 'https://anapioficeandfire.com/api/characters/25',\n",
       "  'name': 'Scolera',\n",
       "  'gender': 'Female',\n",
       "  'culture': '',\n",
       "  'born': '',\n",
       "  'died': '',\n",
       "  'titles': ['Septa'],\n",
       "  'aliases': [''],\n",
       "  'father': '',\n",
       "  'mother': '',\n",
       "  'spouse': '',\n",
       "  'allegiances': [],\n",
       "  'books': ['https://anapioficeandfire.com/api/books/5',\n",
       "   'https://anapioficeandfire.com/api/books/8'],\n",
       "  'povBooks': [],\n",
       "  'tvSeries': [''],\n",
       "  'playedBy': ['']},\n",
       " {'url': 'https://anapioficeandfire.com/api/characters/26',\n",
       "  'name': 'Torbert',\n",
       "  'gender': 'Male',\n",
       "  'culture': '',\n",
       "  'born': '',\n",
       "  'died': '',\n",
       "  'titles': ['Septon'],\n",
       "  'aliases': [''],\n",
       "  'father': '',\n",
       "  'mother': '',\n",
       "  'spouse': '',\n",
       "  'allegiances': [],\n",
       "  'books': ['https://anapioficeandfire.com/api/books/5',\n",
       "   'https://anapioficeandfire.com/api/books/8'],\n",
       "  'povBooks': [],\n",
       "  'tvSeries': [''],\n",
       "  'playedBy': ['']},\n",
       " {'url': 'https://anapioficeandfire.com/api/characters/27',\n",
       "  'name': 'Tywin Lannister',\n",
       "  'gender': 'Male',\n",
       "  'culture': '',\n",
       "  'born': 'In 242 AC',\n",
       "  'died': \"In 300 AC, at King's Landing\",\n",
       "  'titles': ['Lord of Casterly Rock',\n",
       "   'Shield of Lannisport',\n",
       "   'Warden of the West',\n",
       "   'Hand of the King',\n",
       "   \"Savior of the City (of King's Landing)\"],\n",
       "  'aliases': ['The Lion of Lannister',\n",
       "   'The Old Lion',\n",
       "   'The Great Lion of the Rock'],\n",
       "  'father': '',\n",
       "  'mother': '',\n",
       "  'spouse': 'https://anapioficeandfire.com/api/characters/562',\n",
       "  'allegiances': ['https://anapioficeandfire.com/api/houses/229'],\n",
       "  'books': ['https://anapioficeandfire.com/api/books/1',\n",
       "   'https://anapioficeandfire.com/api/books/2',\n",
       "   'https://anapioficeandfire.com/api/books/3',\n",
       "   'https://anapioficeandfire.com/api/books/5',\n",
       "   'https://anapioficeandfire.com/api/books/8',\n",
       "   'https://anapioficeandfire.com/api/books/11'],\n",
       "  'povBooks': [],\n",
       "  'tvSeries': ['Season 1', 'Season 2', 'Season 3', 'Season 4'],\n",
       "  'playedBy': ['Charles Dance']},\n",
       " {'url': 'https://anapioficeandfire.com/api/characters/28',\n",
       "  'name': 'Unella',\n",
       "  'gender': 'Female',\n",
       "  'culture': '',\n",
       "  'born': '',\n",
       "  'died': '',\n",
       "  'titles': ['Septa'],\n",
       "  'aliases': [''],\n",
       "  'father': '',\n",
       "  'mother': '',\n",
       "  'spouse': '',\n",
       "  'allegiances': [],\n",
       "  'books': ['https://anapioficeandfire.com/api/books/5',\n",
       "   'https://anapioficeandfire.com/api/books/8'],\n",
       "  'povBooks': [],\n",
       "  'tvSeries': ['Season 5', 'Season 6'],\n",
       "  'playedBy': ['Hannah Waddingham']},\n",
       " {'url': 'https://anapioficeandfire.com/api/characters/29',\n",
       "  'name': 'Abelar Hightower',\n",
       "  'gender': 'Male',\n",
       "  'culture': '',\n",
       "  'born': '',\n",
       "  'died': '',\n",
       "  'titles': ['Ser'],\n",
       "  'aliases': [''],\n",
       "  'father': '',\n",
       "  'mother': '',\n",
       "  'spouse': '',\n",
       "  'allegiances': ['https://anapioficeandfire.com/api/houses/195'],\n",
       "  'books': ['https://anapioficeandfire.com/api/books/4'],\n",
       "  'povBooks': [],\n",
       "  'tvSeries': [''],\n",
       "  'playedBy': ['']},\n",
       " {'url': 'https://anapioficeandfire.com/api/characters/30',\n",
       "  'name': 'Addam Frey',\n",
       "  'gender': 'Male',\n",
       "  'culture': '',\n",
       "  'born': '',\n",
       "  'died': '',\n",
       "  'titles': ['Ser'],\n",
       "  'aliases': [''],\n",
       "  'father': '',\n",
       "  'mother': '',\n",
       "  'spouse': '',\n",
       "  'allegiances': ['https://anapioficeandfire.com/api/houses/143'],\n",
       "  'books': ['https://anapioficeandfire.com/api/books/7'],\n",
       "  'povBooks': [],\n",
       "  'tvSeries': [''],\n",
       "  'playedBy': ['']},\n",
       " {'url': 'https://anapioficeandfire.com/api/characters/31',\n",
       "  'name': 'Addam Marbrand',\n",
       "  'gender': 'Male',\n",
       "  'culture': '',\n",
       "  'born': '',\n",
       "  'died': '',\n",
       "  'titles': ['Ser', 'Commander of the City Watch'],\n",
       "  'aliases': [''],\n",
       "  'father': '',\n",
       "  'mother': '',\n",
       "  'spouse': '',\n",
       "  'allegiances': ['https://anapioficeandfire.com/api/houses/258'],\n",
       "  'books': ['https://anapioficeandfire.com/api/books/1',\n",
       "   'https://anapioficeandfire.com/api/books/2',\n",
       "   'https://anapioficeandfire.com/api/books/3',\n",
       "   'https://anapioficeandfire.com/api/books/5',\n",
       "   'https://anapioficeandfire.com/api/books/8'],\n",
       "  'povBooks': [],\n",
       "  'tvSeries': ['Season 1'],\n",
       "  'playedBy': ['B.J. Hogg']},\n",
       " {'url': 'https://anapioficeandfire.com/api/characters/32',\n",
       "  'name': 'Addam Osgrey',\n",
       "  'gender': 'Male',\n",
       "  'culture': '',\n",
       "  'born': 'In 183 AC or 184 AC',\n",
       "  'died': 'In 196 AC, at Redgrass Field',\n",
       "  'titles': [''],\n",
       "  'aliases': [''],\n",
       "  'father': '',\n",
       "  'mother': '',\n",
       "  'spouse': '',\n",
       "  'allegiances': ['https://anapioficeandfire.com/api/houses/291'],\n",
       "  'books': ['https://anapioficeandfire.com/api/books/6'],\n",
       "  'povBooks': [],\n",
       "  'tvSeries': [''],\n",
       "  'playedBy': ['']},\n",
       " {'url': 'https://anapioficeandfire.com/api/characters/33',\n",
       "  'name': 'Addam Velaryon',\n",
       "  'gender': 'Male',\n",
       "  'culture': 'Valyrian',\n",
       "  'born': 'In 114 AC, at Hull',\n",
       "  'died': 'In 130 AC, at Tumbleton',\n",
       "  'titles': ['Ser'],\n",
       "  'aliases': ['Addam of Hull'],\n",
       "  'father': '',\n",
       "  'mother': '',\n",
       "  'spouse': '',\n",
       "  'allegiances': ['https://anapioficeandfire.com/api/houses/378',\n",
       "   'https://anapioficeandfire.com/api/houses/407'],\n",
       "  'books': ['https://anapioficeandfire.com/api/books/9',\n",
       "   'https://anapioficeandfire.com/api/books/11'],\n",
       "  'povBooks': [],\n",
       "  'tvSeries': [''],\n",
       "  'playedBy': ['']},\n",
       " {'url': 'https://anapioficeandfire.com/api/characters/34',\n",
       "  'name': 'Addison Hill',\n",
       "  'gender': 'Male',\n",
       "  'culture': '',\n",
       "  'born': 'At Cornfield',\n",
       "  'died': '',\n",
       "  'titles': ['Ser', 'Lord Commander of the Kingsguard'],\n",
       "  'aliases': ['The Bastard of Cornfield'],\n",
       "  'father': '',\n",
       "  'mother': '',\n",
       "  'spouse': '',\n",
       "  'allegiances': ['https://anapioficeandfire.com/api/houses/374'],\n",
       "  'books': ['https://anapioficeandfire.com/api/books/5',\n",
       "   'https://anapioficeandfire.com/api/books/11'],\n",
       "  'povBooks': [],\n",
       "  'tvSeries': [''],\n",
       "  'playedBy': ['']},\n",
       " {'url': 'https://anapioficeandfire.com/api/characters/35',\n",
       "  'name': 'Aegon Blackfyre',\n",
       "  'gender': 'Male',\n",
       "  'culture': 'Valyrian',\n",
       "  'born': 'In 184 AC',\n",
       "  'died': 'In 196 AC, at Redgrass Field',\n",
       "  'titles': [''],\n",
       "  'aliases': [''],\n",
       "  'father': '',\n",
       "  'mother': '',\n",
       "  'spouse': '',\n",
       "  'allegiances': ['https://anapioficeandfire.com/api/houses/23'],\n",
       "  'books': ['https://anapioficeandfire.com/api/books/3',\n",
       "   'https://anapioficeandfire.com/api/books/6',\n",
       "   'https://anapioficeandfire.com/api/books/7'],\n",
       "  'povBooks': [],\n",
       "  'tvSeries': [''],\n",
       "  'playedBy': ['']},\n",
       " {'url': 'https://anapioficeandfire.com/api/characters/36',\n",
       "  'name': 'Aegon Frey',\n",
       "  'gender': 'Male',\n",
       "  'culture': '',\n",
       "  'born': 'In 249 AC (roughly)',\n",
       "  'died': 'In 299 AC, at the Twins',\n",
       "  'titles': [''],\n",
       "  'aliases': ['Jinglebell'],\n",
       "  'father': '',\n",
       "  'mother': '',\n",
       "  'spouse': '',\n",
       "  'allegiances': ['https://anapioficeandfire.com/api/houses/143'],\n",
       "  'books': ['https://anapioficeandfire.com/api/books/2',\n",
       "   'https://anapioficeandfire.com/api/books/3',\n",
       "   'https://anapioficeandfire.com/api/books/5'],\n",
       "  'povBooks': [],\n",
       "  'tvSeries': [''],\n",
       "  'playedBy': ['']},\n",
       " {'url': 'https://anapioficeandfire.com/api/characters/37',\n",
       "  'name': 'Aegon Frey',\n",
       "  'gender': 'Male',\n",
       "  'culture': '',\n",
       "  'born': 'In or between 253 AC and 272 AC',\n",
       "  'died': '',\n",
       "  'titles': [''],\n",
       "  'aliases': ['Aegon Bloodborn'],\n",
       "  'father': '',\n",
       "  'mother': '',\n",
       "  'spouse': '',\n",
       "  'allegiances': ['https://anapioficeandfire.com/api/houses/143'],\n",
       "  'books': ['https://anapioficeandfire.com/api/books/2',\n",
       "   'https://anapioficeandfire.com/api/books/3',\n",
       "   'https://anapioficeandfire.com/api/books/5',\n",
       "   'https://anapioficeandfire.com/api/books/8'],\n",
       "  'povBooks': [],\n",
       "  'tvSeries': [''],\n",
       "  'playedBy': ['']},\n",
       " {'url': 'https://anapioficeandfire.com/api/characters/38',\n",
       "  'name': 'Aegon I',\n",
       "  'gender': 'Male',\n",
       "  'culture': '',\n",
       "  'born': '27 BC, at Dragonstone',\n",
       "  'died': '37 AC, at Dragonstone',\n",
       "  'titles': ['King of All Westeros',\n",
       "   'Shield of His People',\n",
       "   'King of the Andals, the Rhoynar and the First Men',\n",
       "   'Lord of the Seven Kingdoms',\n",
       "   'Protector of the Realm',\n",
       "   'Lord of Dragonstone'],\n",
       "  'aliases': ['Aegon the Conqueror',\n",
       "   'Aegon the Dragon',\n",
       "   'Aegon the Dragonlord'],\n",
       "  'father': 'https://anapioficeandfire.com/api/characters/59',\n",
       "  'mother': 'https://anapioficeandfire.com/api/characters/1070',\n",
       "  'spouse': 'https://anapioficeandfire.com/api/characters/2071',\n",
       "  'allegiances': [],\n",
       "  'books': ['https://anapioficeandfire.com/api/books/1',\n",
       "   'https://anapioficeandfire.com/api/books/2',\n",
       "   'https://anapioficeandfire.com/api/books/3',\n",
       "   'https://anapioficeandfire.com/api/books/4',\n",
       "   'https://anapioficeandfire.com/api/books/5',\n",
       "   'https://anapioficeandfire.com/api/books/6',\n",
       "   'https://anapioficeandfire.com/api/books/7',\n",
       "   'https://anapioficeandfire.com/api/books/8',\n",
       "   'https://anapioficeandfire.com/api/books/9',\n",
       "   'https://anapioficeandfire.com/api/books/11'],\n",
       "  'povBooks': [],\n",
       "  'tvSeries': [''],\n",
       "  'playedBy': ['']},\n",
       " {'url': 'https://anapioficeandfire.com/api/characters/39',\n",
       "  'name': 'Aegon II',\n",
       "  'gender': 'Male',\n",
       "  'culture': '',\n",
       "  'born': \"107 AC, at King's Landing\",\n",
       "  'died': \"131 AC, at King's Landing\",\n",
       "  'titles': ['King of the Andals, the Rhoynar and the First Men',\n",
       "   'Lord of the Seven Kingdoms',\n",
       "   'Protector of the Realm'],\n",
       "  'aliases': ['Aegon the Elder', 'Aegon the Usurper'],\n",
       "  'father': 'https://anapioficeandfire.com/api/characters/1076',\n",
       "  'mother': 'https://anapioficeandfire.com/api/characters/76',\n",
       "  'spouse': 'https://anapioficeandfire.com/api/characters/488',\n",
       "  'allegiances': [],\n",
       "  'books': ['https://anapioficeandfire.com/api/books/1',\n",
       "   'https://anapioficeandfire.com/api/books/3',\n",
       "   'https://anapioficeandfire.com/api/books/5',\n",
       "   'https://anapioficeandfire.com/api/books/9',\n",
       "   'https://anapioficeandfire.com/api/books/10',\n",
       "   'https://anapioficeandfire.com/api/books/11'],\n",
       "  'povBooks': [],\n",
       "  'tvSeries': [''],\n",
       "  'playedBy': ['']},\n",
       " {'url': 'https://anapioficeandfire.com/api/characters/40',\n",
       "  'name': 'Aegon III',\n",
       "  'gender': 'Male',\n",
       "  'culture': 'Valyrian',\n",
       "  'born': '120 AC, at Dragonstone',\n",
       "  'died': \"157 AC, at King's Landing\",\n",
       "  'titles': ['King of the Andals, the Rhoynar and the First Men',\n",
       "   'Lord of the Seven Kingdoms',\n",
       "   'Protector of the Realm'],\n",
       "  'aliases': ['Aegon the Younger',\n",
       "   'Aegon the Dragonbane',\n",
       "   'Aegon the Unlucky',\n",
       "   'The Broken King'],\n",
       "  'father': 'https://anapioficeandfire.com/api/characters/269',\n",
       "  'mother': 'https://anapioficeandfire.com/api/characters/874',\n",
       "  'spouse': 'https://anapioficeandfire.com/api/characters/1527',\n",
       "  'allegiances': [],\n",
       "  'books': ['https://anapioficeandfire.com/api/books/1',\n",
       "   'https://anapioficeandfire.com/api/books/3',\n",
       "   'https://anapioficeandfire.com/api/books/4',\n",
       "   'https://anapioficeandfire.com/api/books/9',\n",
       "   'https://anapioficeandfire.com/api/books/10',\n",
       "   'https://anapioficeandfire.com/api/books/11'],\n",
       "  'povBooks': [],\n",
       "  'tvSeries': [''],\n",
       "  'playedBy': ['']}]"
      ]
     },
     "execution_count": 16,
     "metadata": {},
     "output_type": "execute_result"
    }
   ],
   "source": [
    "get_multiple_character(get_character, 1, 40)"
   ]
  },
  {
   "cell_type": "code",
   "execution_count": 21,
   "id": "c5b005bb",
   "metadata": {},
   "outputs": [],
   "source": [
    "first40_characters = get_multiple_character(get_character, 1, 40)"
   ]
  },
  {
   "cell_type": "code",
   "execution_count": 22,
   "id": "1d21a312",
   "metadata": {},
   "outputs": [
    {
     "data": {
      "text/plain": [
       "list"
      ]
     },
     "execution_count": 22,
     "metadata": {},
     "output_type": "execute_result"
    }
   ],
   "source": [
    "type(first40_characters)"
   ]
  },
  {
   "cell_type": "code",
   "execution_count": 23,
   "id": "026c8773",
   "metadata": {},
   "outputs": [],
   "source": [
    "first40_characters_data = pd.DataFrame(first40_characters)"
   ]
  },
  {
   "cell_type": "code",
   "execution_count": 24,
   "id": "c3c4dc46",
   "metadata": {
    "scrolled": true
   },
   "outputs": [
    {
     "name": "stdout",
     "output_type": "stream",
     "text": [
      "<class 'pandas.core.frame.DataFrame'>\n",
      "RangeIndex: 40 entries, 0 to 39\n",
      "Data columns (total 16 columns):\n",
      " #   Column       Non-Null Count  Dtype \n",
      "---  ------       --------------  ----- \n",
      " 0   url          40 non-null     object\n",
      " 1   name         40 non-null     object\n",
      " 2   gender       40 non-null     object\n",
      " 3   culture      40 non-null     object\n",
      " 4   born         40 non-null     object\n",
      " 5   died         40 non-null     object\n",
      " 6   titles       40 non-null     object\n",
      " 7   aliases      40 non-null     object\n",
      " 8   father       40 non-null     object\n",
      " 9   mother       40 non-null     object\n",
      " 10  spouse       40 non-null     object\n",
      " 11  allegiances  40 non-null     object\n",
      " 12  books        40 non-null     object\n",
      " 13  povBooks     40 non-null     object\n",
      " 14  tvSeries     40 non-null     object\n",
      " 15  playedBy     40 non-null     object\n",
      "dtypes: object(16)\n",
      "memory usage: 5.1+ KB\n"
     ]
    }
   ],
   "source": [
    "first40_characters_data.info()"
   ]
  },
  {
   "cell_type": "code",
   "execution_count": 25,
   "id": "b38f13e8",
   "metadata": {},
   "outputs": [
    {
     "data": {
      "text/plain": [
       "array(['Female', 'Male'], dtype=object)"
      ]
     },
     "execution_count": 25,
     "metadata": {},
     "output_type": "execute_result"
    }
   ],
   "source": [
    "first40_characters_data[\"gender\"].unique()"
   ]
  },
  {
   "cell_type": "code",
   "execution_count": 26,
   "id": "e436a0ee",
   "metadata": {},
   "outputs": [
    {
     "data": {
      "text/plain": [
       "gender\n",
       "Male      26\n",
       "Female    14\n",
       "Name: count, dtype: int64"
      ]
     },
     "execution_count": 26,
     "metadata": {},
     "output_type": "execute_result"
    }
   ],
   "source": [
    "first40_characters_data[\"gender\"].value_counts()"
   ]
  },
  {
   "cell_type": "markdown",
   "id": "0272e7f8",
   "metadata": {},
   "source": [
    "There are `26 male`, `14 female` characters in the first 40 characters. There are `ZERO unknown` genders"
   ]
  },
  {
   "cell_type": "markdown",
   "id": "2f5e8df6",
   "metadata": {},
   "source": [
    "### Question 3"
   ]
  },
  {
   "cell_type": "code",
   "execution_count": null,
   "id": "adbad4ea",
   "metadata": {},
   "outputs": [],
   "source": [
    "c) How many books can be accessed from this API?"
   ]
  },
  {
   "cell_type": "code",
   "execution_count": 27,
   "id": "0698dbf4",
   "metadata": {},
   "outputs": [],
   "source": [
    "got_books_url=\"https://anapioficeandfire.com/api/books\"\n",
    "got_books = requests.get(got_books_url)"
   ]
  },
  {
   "cell_type": "code",
   "execution_count": 29,
   "id": "8bc9b95a",
   "metadata": {},
   "outputs": [],
   "source": [
    "got_books_json=got_books.json()"
   ]
  },
  {
   "cell_type": "code",
   "execution_count": 30,
   "id": "29d4ddbf",
   "metadata": {},
   "outputs": [
    {
     "data": {
      "text/plain": [
       "list"
      ]
     },
     "execution_count": 30,
     "metadata": {},
     "output_type": "execute_result"
    }
   ],
   "source": [
    "type(got_books_json)"
   ]
  },
  {
   "cell_type": "code",
   "execution_count": 31,
   "id": "ea7f2862",
   "metadata": {},
   "outputs": [
    {
     "data": {
      "text/plain": [
       "10"
      ]
     },
     "execution_count": 31,
     "metadata": {},
     "output_type": "execute_result"
    }
   ],
   "source": [
    "len(got_books_json)"
   ]
  },
  {
   "cell_type": "code",
   "execution_count": 36,
   "id": "e1ba1cdb",
   "metadata": {},
   "outputs": [],
   "source": [
    "def get_book(index):\n",
    "    url = f\"https://anapioficeandfire.com/api/books/{index}\"\n",
    "    response = requests.get(url)\n",
    "    result = response.json()\n",
    "    return result"
   ]
  },
  {
   "cell_type": "code",
   "execution_count": 37,
   "id": "74d31cb3",
   "metadata": {},
   "outputs": [
    {
     "ename": "JSONDecodeError",
     "evalue": "Expecting value: line 1 column 1 (char 0)",
     "output_type": "error",
     "traceback": [
      "\u001b[0;31m---------------------------------------------------------------------------\u001b[0m",
      "\u001b[0;31mJSONDecodeError\u001b[0m                           Traceback (most recent call last)",
      "File \u001b[0;32m~/opt/anaconda3/envs/hackermanproject_env/lib/python3.9/site-packages/requests/models.py:971\u001b[0m, in \u001b[0;36mResponse.json\u001b[0;34m(self, **kwargs)\u001b[0m\n\u001b[1;32m    970\u001b[0m \u001b[38;5;28;01mtry\u001b[39;00m:\n\u001b[0;32m--> 971\u001b[0m     \u001b[38;5;28;01mreturn\u001b[39;00m \u001b[43mcomplexjson\u001b[49m\u001b[38;5;241;43m.\u001b[39;49m\u001b[43mloads\u001b[49m\u001b[43m(\u001b[49m\u001b[38;5;28;43mself\u001b[39;49m\u001b[38;5;241;43m.\u001b[39;49m\u001b[43mtext\u001b[49m\u001b[43m,\u001b[49m\u001b[43m \u001b[49m\u001b[38;5;241;43m*\u001b[39;49m\u001b[38;5;241;43m*\u001b[39;49m\u001b[43mkwargs\u001b[49m\u001b[43m)\u001b[49m\n\u001b[1;32m    972\u001b[0m \u001b[38;5;28;01mexcept\u001b[39;00m JSONDecodeError \u001b[38;5;28;01mas\u001b[39;00m e:\n\u001b[1;32m    973\u001b[0m     \u001b[38;5;66;03m# Catch JSON-related errors and raise as requests.JSONDecodeError\u001b[39;00m\n\u001b[1;32m    974\u001b[0m     \u001b[38;5;66;03m# This aliases json.JSONDecodeError and simplejson.JSONDecodeError\u001b[39;00m\n",
      "File \u001b[0;32m~/opt/anaconda3/envs/hackermanproject_env/lib/python3.9/json/__init__.py:346\u001b[0m, in \u001b[0;36mloads\u001b[0;34m(s, cls, object_hook, parse_float, parse_int, parse_constant, object_pairs_hook, **kw)\u001b[0m\n\u001b[1;32m    343\u001b[0m \u001b[38;5;28;01mif\u001b[39;00m (\u001b[38;5;28mcls\u001b[39m \u001b[38;5;129;01mis\u001b[39;00m \u001b[38;5;28;01mNone\u001b[39;00m \u001b[38;5;129;01mand\u001b[39;00m object_hook \u001b[38;5;129;01mis\u001b[39;00m \u001b[38;5;28;01mNone\u001b[39;00m \u001b[38;5;129;01mand\u001b[39;00m\n\u001b[1;32m    344\u001b[0m         parse_int \u001b[38;5;129;01mis\u001b[39;00m \u001b[38;5;28;01mNone\u001b[39;00m \u001b[38;5;129;01mand\u001b[39;00m parse_float \u001b[38;5;129;01mis\u001b[39;00m \u001b[38;5;28;01mNone\u001b[39;00m \u001b[38;5;129;01mand\u001b[39;00m\n\u001b[1;32m    345\u001b[0m         parse_constant \u001b[38;5;129;01mis\u001b[39;00m \u001b[38;5;28;01mNone\u001b[39;00m \u001b[38;5;129;01mand\u001b[39;00m object_pairs_hook \u001b[38;5;129;01mis\u001b[39;00m \u001b[38;5;28;01mNone\u001b[39;00m \u001b[38;5;129;01mand\u001b[39;00m \u001b[38;5;129;01mnot\u001b[39;00m kw):\n\u001b[0;32m--> 346\u001b[0m     \u001b[38;5;28;01mreturn\u001b[39;00m \u001b[43m_default_decoder\u001b[49m\u001b[38;5;241;43m.\u001b[39;49m\u001b[43mdecode\u001b[49m\u001b[43m(\u001b[49m\u001b[43ms\u001b[49m\u001b[43m)\u001b[49m\n\u001b[1;32m    347\u001b[0m \u001b[38;5;28;01mif\u001b[39;00m \u001b[38;5;28mcls\u001b[39m \u001b[38;5;129;01mis\u001b[39;00m \u001b[38;5;28;01mNone\u001b[39;00m:\n",
      "File \u001b[0;32m~/opt/anaconda3/envs/hackermanproject_env/lib/python3.9/json/decoder.py:337\u001b[0m, in \u001b[0;36mJSONDecoder.decode\u001b[0;34m(self, s, _w)\u001b[0m\n\u001b[1;32m    333\u001b[0m \u001b[38;5;250m\u001b[39m\u001b[38;5;124;03m\"\"\"Return the Python representation of ``s`` (a ``str`` instance\u001b[39;00m\n\u001b[1;32m    334\u001b[0m \u001b[38;5;124;03mcontaining a JSON document).\u001b[39;00m\n\u001b[1;32m    335\u001b[0m \n\u001b[1;32m    336\u001b[0m \u001b[38;5;124;03m\"\"\"\u001b[39;00m\n\u001b[0;32m--> 337\u001b[0m obj, end \u001b[38;5;241m=\u001b[39m \u001b[38;5;28;43mself\u001b[39;49m\u001b[38;5;241;43m.\u001b[39;49m\u001b[43mraw_decode\u001b[49m\u001b[43m(\u001b[49m\u001b[43ms\u001b[49m\u001b[43m,\u001b[49m\u001b[43m \u001b[49m\u001b[43midx\u001b[49m\u001b[38;5;241;43m=\u001b[39;49m\u001b[43m_w\u001b[49m\u001b[43m(\u001b[49m\u001b[43ms\u001b[49m\u001b[43m,\u001b[49m\u001b[43m \u001b[49m\u001b[38;5;241;43m0\u001b[39;49m\u001b[43m)\u001b[49m\u001b[38;5;241;43m.\u001b[39;49m\u001b[43mend\u001b[49m\u001b[43m(\u001b[49m\u001b[43m)\u001b[49m\u001b[43m)\u001b[49m\n\u001b[1;32m    338\u001b[0m end \u001b[38;5;241m=\u001b[39m _w(s, end)\u001b[38;5;241m.\u001b[39mend()\n",
      "File \u001b[0;32m~/opt/anaconda3/envs/hackermanproject_env/lib/python3.9/json/decoder.py:355\u001b[0m, in \u001b[0;36mJSONDecoder.raw_decode\u001b[0;34m(self, s, idx)\u001b[0m\n\u001b[1;32m    354\u001b[0m \u001b[38;5;28;01mexcept\u001b[39;00m \u001b[38;5;167;01mStopIteration\u001b[39;00m \u001b[38;5;28;01mas\u001b[39;00m err:\n\u001b[0;32m--> 355\u001b[0m     \u001b[38;5;28;01mraise\u001b[39;00m JSONDecodeError(\u001b[38;5;124m\"\u001b[39m\u001b[38;5;124mExpecting value\u001b[39m\u001b[38;5;124m\"\u001b[39m, s, err\u001b[38;5;241m.\u001b[39mvalue) \u001b[38;5;28;01mfrom\u001b[39;00m \u001b[38;5;28mNone\u001b[39m\n\u001b[1;32m    356\u001b[0m \u001b[38;5;28;01mreturn\u001b[39;00m obj, end\n",
      "\u001b[0;31mJSONDecodeError\u001b[0m: Expecting value: line 1 column 1 (char 0)",
      "\nDuring handling of the above exception, another exception occurred:\n",
      "\u001b[0;31mJSONDecodeError\u001b[0m                           Traceback (most recent call last)",
      "Cell \u001b[0;32mIn[37], line 1\u001b[0m\n\u001b[0;32m----> 1\u001b[0m \u001b[43mget_book\u001b[49m\u001b[43m(\u001b[49m\u001b[38;5;241;43m-\u001b[39;49m\u001b[38;5;241;43m1\u001b[39;49m\u001b[43m)\u001b[49m\n",
      "Cell \u001b[0;32mIn[36], line 4\u001b[0m, in \u001b[0;36mget_book\u001b[0;34m(index)\u001b[0m\n\u001b[1;32m      2\u001b[0m url \u001b[38;5;241m=\u001b[39m \u001b[38;5;124mf\u001b[39m\u001b[38;5;124m\"\u001b[39m\u001b[38;5;124mhttps://anapioficeandfire.com/api/books/\u001b[39m\u001b[38;5;132;01m{\u001b[39;00mindex\u001b[38;5;132;01m}\u001b[39;00m\u001b[38;5;124m\"\u001b[39m\n\u001b[1;32m      3\u001b[0m response \u001b[38;5;241m=\u001b[39m requests\u001b[38;5;241m.\u001b[39mget(url)\n\u001b[0;32m----> 4\u001b[0m result \u001b[38;5;241m=\u001b[39m \u001b[43mresponse\u001b[49m\u001b[38;5;241;43m.\u001b[39;49m\u001b[43mjson\u001b[49m\u001b[43m(\u001b[49m\u001b[43m)\u001b[49m\n\u001b[1;32m      5\u001b[0m \u001b[38;5;28;01mreturn\u001b[39;00m result\n",
      "File \u001b[0;32m~/opt/anaconda3/envs/hackermanproject_env/lib/python3.9/site-packages/requests/models.py:975\u001b[0m, in \u001b[0;36mResponse.json\u001b[0;34m(self, **kwargs)\u001b[0m\n\u001b[1;32m    971\u001b[0m     \u001b[38;5;28;01mreturn\u001b[39;00m complexjson\u001b[38;5;241m.\u001b[39mloads(\u001b[38;5;28mself\u001b[39m\u001b[38;5;241m.\u001b[39mtext, \u001b[38;5;241m*\u001b[39m\u001b[38;5;241m*\u001b[39mkwargs)\n\u001b[1;32m    972\u001b[0m \u001b[38;5;28;01mexcept\u001b[39;00m JSONDecodeError \u001b[38;5;28;01mas\u001b[39;00m e:\n\u001b[1;32m    973\u001b[0m     \u001b[38;5;66;03m# Catch JSON-related errors and raise as requests.JSONDecodeError\u001b[39;00m\n\u001b[1;32m    974\u001b[0m     \u001b[38;5;66;03m# This aliases json.JSONDecodeError and simplejson.JSONDecodeError\u001b[39;00m\n\u001b[0;32m--> 975\u001b[0m     \u001b[38;5;28;01mraise\u001b[39;00m RequestsJSONDecodeError(e\u001b[38;5;241m.\u001b[39mmsg, e\u001b[38;5;241m.\u001b[39mdoc, e\u001b[38;5;241m.\u001b[39mpos)\n",
      "\u001b[0;31mJSONDecodeError\u001b[0m: Expecting value: line 1 column 1 (char 0)"
     ]
    }
   ],
   "source": [
    "get_book(-1)"
   ]
  },
  {
   "cell_type": "code",
   "execution_count": 34,
   "id": "e8ca1785",
   "metadata": {},
   "outputs": [],
   "source": [
    "def get_multiple_books(get_book, start_index, end_index):\n",
    "    results = []\n",
    "    for i in range(start_index, end_index + 1):\n",
    "        result = get_book(i)\n",
    "        results.append(result)\n",
    "    return results"
   ]
  },
  {
   "cell_type": "code",
   "execution_count": 38,
   "id": "78a86f63",
   "metadata": {},
   "outputs": [
    {
     "data": {
      "text/plain": [
       "[]"
      ]
     },
     "execution_count": 38,
     "metadata": {},
     "output_type": "execute_result"
    }
   ],
   "source": [
    "get_multiple_books(get_book, 1, -1)"
   ]
  },
  {
   "cell_type": "markdown",
   "id": "7b7d28b3",
   "metadata": {},
   "source": [
    "### Question 4:\n",
    "\n",
    "d: How many books does the character 'High Septon' appear in? (ignoring 'povcharacters') \n",
    "\n",
    "Hint: index value of Septon needs to be found first; it is smaller than 20."
   ]
  },
  {
   "cell_type": "code",
   "execution_count": null,
   "id": "32c81240",
   "metadata": {},
   "outputs": [],
   "source": [
    "got_characters_url=\"https://www.anapioficeandfire.com/api/characters\"\n",
    "query_params = {\"name\": \"High Septon\", \"hasWords\":\"Septon\"}\n",
    "requests.get(got_characters_url, query_params)\n",
    "septon_response = requests.get(got_characters_url, query_params)"
   ]
  },
  {
   "cell_type": "code",
   "execution_count": null,
   "id": "a7d5ef26",
   "metadata": {},
   "outputs": [],
   "source": [
    "septon_response"
   ]
  },
  {
   "cell_type": "code",
   "execution_count": null,
   "id": "52c1b820",
   "metadata": {},
   "outputs": [],
   "source": [
    "septon_response_json =septon_response.json()"
   ]
  },
  {
   "cell_type": "code",
   "execution_count": null,
   "id": "afe3d66b",
   "metadata": {},
   "outputs": [],
   "source": [
    "septon_response_json "
   ]
  },
  {
   "cell_type": "markdown",
   "id": "cef3e12f",
   "metadata": {},
   "source": [
    "The character `High Septon` appears in two books `5` and `8` as shown above"
   ]
  },
  {
   "cell_type": "code",
   "execution_count": null,
   "id": "2330a9b6",
   "metadata": {},
   "outputs": [],
   "source": []
  }
 ],
 "metadata": {
  "kernelspec": {
   "display_name": "Python 3 (ipykernel)",
   "language": "python",
   "name": "python3"
  },
  "language_info": {
   "codemirror_mode": {
    "name": "ipython",
    "version": 3
   },
   "file_extension": ".py",
   "mimetype": "text/x-python",
   "name": "python",
   "nbconvert_exporter": "python",
   "pygments_lexer": "ipython3",
   "version": "3.9.16"
  }
 },
 "nbformat": 4,
 "nbformat_minor": 5
}
