{
 "cells": [
  {
   "cell_type": "markdown",
   "id": "d5aaa813",
   "metadata": {},
   "source": [
    "# Consuming the API"
   ]
  },
  {
   "cell_type": "code",
   "execution_count": 1,
   "id": "2dd66f55",
   "metadata": {},
   "outputs": [
    {
     "data": {
      "text/html": [
       "<style>.container { width:100% !important; }</style>"
      ],
      "text/plain": [
       "<IPython.core.display.HTML object>"
      ]
     },
     "metadata": {},
     "output_type": "display_data"
    }
   ],
   "source": [
    "import pandas as pd\n",
    "pd.set_option(\"display.max_columns\", None)\n",
    "pd.set_option(\"display.max_rows\", None)\n",
    "pd.options.display.max_colwidth = None\n",
    "pd.set_option(\"display.float_format\", lambda x: '%.2f' % x)\n",
    "\n",
    "from IPython.display import display, HTML\n",
    "display(HTML(\"<style>.container { width:100% !important; }</style>\"))"
   ]
  },
  {
   "cell_type": "code",
   "execution_count": 2,
   "id": "8fbf31cd",
   "metadata": {},
   "outputs": [],
   "source": [
    "import requests"
   ]
  },
  {
   "cell_type": "markdown",
   "id": "dc20fdad",
   "metadata": {},
   "source": [
    "Loading in the GOT API root url"
   ]
  },
  {
   "cell_type": "code",
   "execution_count": 3,
   "id": "e8a69e9c",
   "metadata": {},
   "outputs": [],
   "source": [
    "got_url=\"https://anapioficeandfire.com/api/houses\""
   ]
  },
  {
   "cell_type": "markdown",
   "id": "088dfa8e",
   "metadata": {},
   "source": [
    "Loading in the GOT API Houses url"
   ]
  },
  {
   "cell_type": "code",
   "execution_count": 4,
   "id": "52059f28",
   "metadata": {},
   "outputs": [
    {
     "data": {
      "text/plain": [
       "<Response [200]>"
      ]
     },
     "execution_count": 4,
     "metadata": {},
     "output_type": "execute_result"
    }
   ],
   "source": [
    "got_houses_url=\"https://anapioficeandfire.com/api/houses\"\n",
    "query_params = {\"name\": \"Breakstone\"}\n",
    "requests.get(got_houses_url, params=query_params)"
   ]
  },
  {
   "cell_type": "code",
   "execution_count": 5,
   "id": "caa5b43b",
   "metadata": {},
   "outputs": [],
   "source": [
    "house_breakstone = requests.get(got_houses_url, params=query_params)"
   ]
  },
  {
   "cell_type": "code",
   "execution_count": 6,
   "id": "31a50e90",
   "metadata": {},
   "outputs": [
    {
     "data": {
      "text/plain": [
       "'https://anapioficeandfire.com/api/houses?name=Breakstone'"
      ]
     },
     "execution_count": 6,
     "metadata": {},
     "output_type": "execute_result"
    }
   ],
   "source": [
    "house_breakstone.url"
   ]
  },
  {
   "cell_type": "code",
   "execution_count": 7,
   "id": "5a0662ff",
   "metadata": {},
   "outputs": [],
   "source": [
    "house_breakstone_json = house_breakstone.json()"
   ]
  },
  {
   "cell_type": "code",
   "execution_count": 8,
   "id": "ef3f24f2",
   "metadata": {},
   "outputs": [
    {
     "data": {
      "text/plain": [
       "[]"
      ]
     },
     "execution_count": 8,
     "metadata": {},
     "output_type": "execute_result"
    }
   ],
   "source": [
    "house_breakstone_json"
   ]
  },
  {
   "cell_type": "code",
   "execution_count": 9,
   "id": "e1be768b",
   "metadata": {},
   "outputs": [],
   "source": [
    "house_breakstone_data = pd.DataFrame(house_breakstone_json)"
   ]
  },
  {
   "cell_type": "code",
   "execution_count": 10,
   "id": "3c402254",
   "metadata": {},
   "outputs": [
    {
     "data": {
      "text/html": [
       "<div>\n",
       "<style scoped>\n",
       "    .dataframe tbody tr th:only-of-type {\n",
       "        vertical-align: middle;\n",
       "    }\n",
       "\n",
       "    .dataframe tbody tr th {\n",
       "        vertical-align: top;\n",
       "    }\n",
       "\n",
       "    .dataframe thead th {\n",
       "        text-align: right;\n",
       "    }\n",
       "</style>\n",
       "<table border=\"1\" class=\"dataframe\">\n",
       "  <thead>\n",
       "    <tr style=\"text-align: right;\">\n",
       "      <th></th>\n",
       "    </tr>\n",
       "  </thead>\n",
       "  <tbody>\n",
       "  </tbody>\n",
       "</table>\n",
       "</div>"
      ],
      "text/plain": [
       "Empty DataFrame\n",
       "Columns: []\n",
       "Index: []"
      ]
     },
     "execution_count": 10,
     "metadata": {},
     "output_type": "execute_result"
    }
   ],
   "source": [
    "house_breakstone_data"
   ]
  },
  {
   "cell_type": "markdown",
   "id": "8d836cc9",
   "metadata": {},
   "source": [
    "### Data Inspection"
   ]
  },
  {
   "cell_type": "code",
   "execution_count": 11,
   "id": "9da6694d",
   "metadata": {},
   "outputs": [
    {
     "data": {
      "text/plain": [
       "pandas.core.frame.DataFrame"
      ]
     },
     "execution_count": 11,
     "metadata": {},
     "output_type": "execute_result"
    }
   ],
   "source": [
    "type(house_breakstone_data)"
   ]
  },
  {
   "cell_type": "code",
   "execution_count": 12,
   "id": "9b3435ec",
   "metadata": {},
   "outputs": [
    {
     "data": {
      "text/plain": [
       "<bound method DataFrame.info of Empty DataFrame\n",
       "Columns: []\n",
       "Index: []>"
      ]
     },
     "execution_count": 12,
     "metadata": {},
     "output_type": "execute_result"
    }
   ],
   "source": [
    "house_breakstone_data.info"
   ]
  },
  {
   "cell_type": "code",
   "execution_count": 13,
   "id": "8358fde5",
   "metadata": {},
   "outputs": [
    {
     "data": {
      "text/plain": [
       "(0, 0)"
      ]
     },
     "execution_count": 13,
     "metadata": {},
     "output_type": "execute_result"
    }
   ],
   "source": [
    "house_breakstone_data.shape"
   ]
  },
  {
   "cell_type": "code",
   "execution_count": 14,
   "id": "b4c4ee77",
   "metadata": {},
   "outputs": [
    {
     "data": {
      "text/html": [
       "<div>\n",
       "<style scoped>\n",
       "    .dataframe tbody tr th:only-of-type {\n",
       "        vertical-align: middle;\n",
       "    }\n",
       "\n",
       "    .dataframe tbody tr th {\n",
       "        vertical-align: top;\n",
       "    }\n",
       "\n",
       "    .dataframe thead th {\n",
       "        text-align: right;\n",
       "    }\n",
       "</style>\n",
       "<table border=\"1\" class=\"dataframe\">\n",
       "  <thead>\n",
       "    <tr style=\"text-align: right;\">\n",
       "      <th></th>\n",
       "    </tr>\n",
       "  </thead>\n",
       "  <tbody>\n",
       "  </tbody>\n",
       "</table>\n",
       "</div>"
      ],
      "text/plain": [
       "Empty DataFrame\n",
       "Columns: []\n",
       "Index: []"
      ]
     },
     "execution_count": 14,
     "metadata": {},
     "output_type": "execute_result"
    }
   ],
   "source": [
    "house_breakstone_data.head()"
   ]
  },
  {
   "cell_type": "markdown",
   "id": "6478e228",
   "metadata": {},
   "source": [
    "data inspection reveals empty dataframe, hence index is not available"
   ]
  },
  {
   "cell_type": "code",
   "execution_count": null,
   "id": "b2c1c2a0",
   "metadata": {},
   "outputs": [],
   "source": []
  }
 ],
 "metadata": {
  "kernelspec": {
   "display_name": "Python 3 (ipykernel)",
   "language": "python",
   "name": "python3"
  },
  "language_info": {
   "codemirror_mode": {
    "name": "ipython",
    "version": 3
   },
   "file_extension": ".py",
   "mimetype": "text/x-python",
   "name": "python",
   "nbconvert_exporter": "python",
   "pygments_lexer": "ipython3",
   "version": "3.9.16"
  }
 },
 "nbformat": 4,
 "nbformat_minor": 5
}
