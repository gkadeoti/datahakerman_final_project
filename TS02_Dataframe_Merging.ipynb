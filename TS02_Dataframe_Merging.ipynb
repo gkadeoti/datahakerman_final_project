{
 "cells": [
  {
   "cell_type": "markdown",
   "id": "f3e3505b",
   "metadata": {},
   "source": [
    "Given three files in different file formats - CSV, TXT, and JSON, the challenge here is to collate the files into one dataframe. Each file contains 1000 rows. The final dataframe should have 3000 rows..."
   ]
  },
  {
   "cell_type": "markdown",
   "id": "c5ad6ac1",
   "metadata": {},
   "source": [
    "Importing relevant packages..."
   ]
  },
  {
   "cell_type": "code",
   "execution_count": 1,
   "id": "d401a4f5",
   "metadata": {},
   "outputs": [
    {
     "data": {
      "text/html": [
       "<style>.container { width:100% !important; }</style>"
      ],
      "text/plain": [
       "<IPython.core.display.HTML object>"
      ]
     },
     "metadata": {},
     "output_type": "display_data"
    }
   ],
   "source": [
    "import pandas as pd\n",
    "import numpy as np\n",
    "import os\n",
    "pd.set_option(\"display.max_columns\", None)\n",
    "pd.set_option(\"display.max_rows\", None)\n",
    "pd.options.display.max_colwidth = None\n",
    "pd.set_option(\"display.float_format\", lambda x: '%.2f' % x)\n",
    "\n",
    "from IPython.display import display, HTML\n",
    "display(HTML(\"<style>.container { width:100% !important; }</style>\"))"
   ]
  },
  {
   "cell_type": "markdown",
   "id": "91865f51",
   "metadata": {},
   "source": [
    "Check the working directory"
   ]
  },
  {
   "cell_type": "code",
   "execution_count": 2,
   "id": "7dc323b6",
   "metadata": {},
   "outputs": [
    {
     "data": {
      "text/plain": [
       "'/Users/macbook/Documents/workspace_ml/twitter_sentiment_love_island'"
      ]
     },
     "execution_count": 2,
     "metadata": {},
     "output_type": "execute_result"
    }
   ],
   "source": [
    "os.getcwd()"
   ]
  },
  {
   "cell_type": "markdown",
   "id": "df609cd7",
   "metadata": {},
   "source": [
    "Indicate the relevant folders in directory"
   ]
  },
  {
   "cell_type": "code",
   "execution_count": 4,
   "id": "d6d43dfc",
   "metadata": {},
   "outputs": [],
   "source": [
    "main_working_folder = os.getcwd()"
   ]
  },
  {
   "cell_type": "code",
   "execution_count": 5,
   "id": "f8c6b5ca",
   "metadata": {},
   "outputs": [],
   "source": [
    "data_folder ='inputs/data'"
   ]
  },
  {
   "cell_type": "code",
   "execution_count": 6,
   "id": "1bd8752e",
   "metadata": {},
   "outputs": [],
   "source": [
    "output_folder = 'outputs'"
   ]
  },
  {
   "cell_type": "markdown",
   "id": "7ecfaf00",
   "metadata": {},
   "source": [
    "indicate the file path"
   ]
  },
  {
   "cell_type": "code",
   "execution_count": 7,
   "id": "7b0d713c",
   "metadata": {},
   "outputs": [],
   "source": [
    "file_path = os.path.join(main_working_folder,data_folder)"
   ]
  },
  {
   "cell_type": "code",
   "execution_count": 8,
   "id": "bb982497",
   "metadata": {},
   "outputs": [
    {
     "data": {
      "text/plain": [
       "'/Users/macbook/Documents/workspace_ml/twitter_sentiment_love_island/inputs/data'"
      ]
     },
     "execution_count": 8,
     "metadata": {},
     "output_type": "execute_result"
    }
   ],
   "source": [
    "file_path"
   ]
  },
  {
   "cell_type": "markdown",
   "id": "f51ca1c3",
   "metadata": {},
   "source": [
    "check content of file path"
   ]
  },
  {
   "cell_type": "code",
   "execution_count": 18,
   "id": "45af0ee1",
   "metadata": {},
   "outputs": [
    {
     "data": {
      "text/plain": [
       "['json_file.json', 'csv_file.csv', 'txt_file.txt']"
      ]
     },
     "execution_count": 18,
     "metadata": {},
     "output_type": "execute_result"
    }
   ],
   "source": [
    "os.listdir(file_path)"
   ]
  },
  {
   "cell_type": "code",
   "execution_count": 19,
   "id": "ff1bab22",
   "metadata": {},
   "outputs": [],
   "source": [
    "files_list = os.listdir(file_path)"
   ]
  },
  {
   "cell_type": "code",
   "execution_count": 20,
   "id": "660000ca",
   "metadata": {},
   "outputs": [
    {
     "data": {
      "text/plain": [
       "['json_file.json', 'csv_file.csv', 'txt_file.txt']"
      ]
     },
     "execution_count": 20,
     "metadata": {},
     "output_type": "execute_result"
    }
   ],
   "source": [
    "files_list"
   ]
  },
  {
   "cell_type": "markdown",
   "id": "dab2f81a",
   "metadata": {},
   "source": [
    "to read in csv file"
   ]
  },
  {
   "cell_type": "code",
   "execution_count": 21,
   "id": "b5138000",
   "metadata": {},
   "outputs": [],
   "source": [
    "csv_data = pd.read_csv(os.path.join(file_path, files_list[1]))"
   ]
  },
  {
   "cell_type": "markdown",
   "id": "67a208d9",
   "metadata": {},
   "source": [
    "to inspect the csv file"
   ]
  },
  {
   "cell_type": "code",
   "execution_count": 22,
   "id": "e42c9512",
   "metadata": {},
   "outputs": [
    {
     "name": "stdout",
     "output_type": "stream",
     "text": [
      "<class 'pandas.core.frame.DataFrame'>\n",
      "RangeIndex: 1000 entries, 0 to 999\n",
      "Data columns (total 9 columns):\n",
      " #   Column                          Non-Null Count  Dtype  \n",
      "---  ------                          --------------  -----  \n",
      " 0   author.properties.friends       1000 non-null   int64  \n",
      " 1   author.properties.status_count  1000 non-null   int64  \n",
      " 2   author.properties.verified      1000 non-null   bool   \n",
      " 3   content.body                    1000 non-null   object \n",
      " 4   location.country                1000 non-null   object \n",
      " 5   properties.platform             1000 non-null   object \n",
      " 6   properties.sentiment            1000 non-null   int64  \n",
      " 7   location.latitude               1000 non-null   float64\n",
      " 8   location.longitude              1000 non-null   float64\n",
      "dtypes: bool(1), float64(2), int64(3), object(3)\n",
      "memory usage: 63.6+ KB\n"
     ]
    }
   ],
   "source": [
    "csv_data.info()"
   ]
  },
  {
   "cell_type": "markdown",
   "id": "5beda0b0",
   "metadata": {},
   "source": [
    "to format the data types"
   ]
  },
  {
   "cell_type": "code",
   "execution_count": 16,
   "id": "0369a771",
   "metadata": {},
   "outputs": [],
   "source": [
    "csv_data[\"properties.sentiment\"] = csv_data[\"properties.sentiment\"].astype('category')"
   ]
  },
  {
   "cell_type": "markdown",
   "id": "bcfec97b",
   "metadata": {},
   "source": [
    "confirming the data has been formatted"
   ]
  },
  {
   "cell_type": "code",
   "execution_count": 17,
   "id": "d17e0e07",
   "metadata": {},
   "outputs": [
    {
     "name": "stdout",
     "output_type": "stream",
     "text": [
      "<class 'pandas.core.frame.DataFrame'>\n",
      "RangeIndex: 1000 entries, 0 to 999\n",
      "Data columns (total 9 columns):\n",
      " #   Column                          Non-Null Count  Dtype   \n",
      "---  ------                          --------------  -----   \n",
      " 0   author.properties.friends       1000 non-null   int64   \n",
      " 1   author.properties.status_count  1000 non-null   int64   \n",
      " 2   author.properties.verified      1000 non-null   bool    \n",
      " 3   content.body                    1000 non-null   object  \n",
      " 4   location.country                1000 non-null   object  \n",
      " 5   properties.platform             1000 non-null   object  \n",
      " 6   properties.sentiment            1000 non-null   category\n",
      " 7   location.latitude               1000 non-null   float64 \n",
      " 8   location.longitude              1000 non-null   float64 \n",
      "dtypes: bool(1), category(1), float64(2), int64(2), object(3)\n",
      "memory usage: 56.9+ KB\n"
     ]
    }
   ],
   "source": [
    "csv_data.info()"
   ]
  },
  {
   "cell_type": "markdown",
   "id": "2c5b26e6",
   "metadata": {},
   "source": [
    "inspecting samples of the csv data..."
   ]
  },
  {
   "cell_type": "code",
   "execution_count": 23,
   "id": "f1b814b7",
   "metadata": {
    "scrolled": true
   },
   "outputs": [
    {
     "data": {
      "text/html": [
       "<div>\n",
       "<style scoped>\n",
       "    .dataframe tbody tr th:only-of-type {\n",
       "        vertical-align: middle;\n",
       "    }\n",
       "\n",
       "    .dataframe tbody tr th {\n",
       "        vertical-align: top;\n",
       "    }\n",
       "\n",
       "    .dataframe thead th {\n",
       "        text-align: right;\n",
       "    }\n",
       "</style>\n",
       "<table border=\"1\" class=\"dataframe\">\n",
       "  <thead>\n",
       "    <tr style=\"text-align: right;\">\n",
       "      <th></th>\n",
       "      <th>author.properties.friends</th>\n",
       "      <th>author.properties.status_count</th>\n",
       "      <th>author.properties.verified</th>\n",
       "      <th>content.body</th>\n",
       "      <th>location.country</th>\n",
       "      <th>properties.platform</th>\n",
       "      <th>properties.sentiment</th>\n",
       "      <th>location.latitude</th>\n",
       "      <th>location.longitude</th>\n",
       "    </tr>\n",
       "  </thead>\n",
       "  <tbody>\n",
       "    <tr>\n",
       "      <th>202</th>\n",
       "      <td>301</td>\n",
       "      <td>13743</td>\n",
       "      <td>False</td>\n",
       "      <td>Hate when you clearly care for some people but apparently you are 0/10 rating to them.</td>\n",
       "      <td>GB</td>\n",
       "      <td>twitter</td>\n",
       "      <td>-1</td>\n",
       "      <td>56.06</td>\n",
       "      <td>-3.50</td>\n",
       "    </tr>\n",
       "    <tr>\n",
       "      <th>616</th>\n",
       "      <td>1501</td>\n",
       "      <td>4284</td>\n",
       "      <td>False</td>\n",
       "      <td>That moment when my nans gardener asks for my age and my nan shouts 'way to young for you so back away from my grandchild!'. Too funny! 😂👵</td>\n",
       "      <td>GB</td>\n",
       "      <td>twitter</td>\n",
       "      <td>-1</td>\n",
       "      <td>51.58</td>\n",
       "      <td>-1.31</td>\n",
       "    </tr>\n",
       "    <tr>\n",
       "      <th>316</th>\n",
       "      <td>675</td>\n",
       "      <td>32312</td>\n",
       "      <td>False</td>\n",
       "      <td>Can we all just agree @ChrissyCostanza is insanely talented</td>\n",
       "      <td>GB</td>\n",
       "      <td>twitter</td>\n",
       "      <td>0</td>\n",
       "      <td>51.47</td>\n",
       "      <td>-2.49</td>\n",
       "    </tr>\n",
       "  </tbody>\n",
       "</table>\n",
       "</div>"
      ],
      "text/plain": [
       "     author.properties.friends  author.properties.status_count  \\\n",
       "202                        301                           13743   \n",
       "616                       1501                            4284   \n",
       "316                        675                           32312   \n",
       "\n",
       "     author.properties.verified  \\\n",
       "202                       False   \n",
       "616                       False   \n",
       "316                       False   \n",
       "\n",
       "                                                                                                                                   content.body  \\\n",
       "202                                                      Hate when you clearly care for some people but apparently you are 0/10 rating to them.   \n",
       "616  That moment when my nans gardener asks for my age and my nan shouts 'way to young for you so back away from my grandchild!'. Too funny! 😂👵   \n",
       "316                                                                                 Can we all just agree @ChrissyCostanza is insanely talented   \n",
       "\n",
       "    location.country properties.platform  properties.sentiment  \\\n",
       "202               GB             twitter                    -1   \n",
       "616               GB             twitter                    -1   \n",
       "316               GB             twitter                     0   \n",
       "\n",
       "     location.latitude  location.longitude  \n",
       "202              56.06               -3.50  \n",
       "616              51.58               -1.31  \n",
       "316              51.47               -2.49  "
      ]
     },
     "execution_count": 23,
     "metadata": {},
     "output_type": "execute_result"
    }
   ],
   "source": [
    "csv_data.sample(3)"
   ]
  },
  {
   "cell_type": "markdown",
   "id": "2856ef5f",
   "metadata": {},
   "source": [
    "the csv data appears okay and formatted"
   ]
  },
  {
   "cell_type": "markdown",
   "id": "3e5d50dd",
   "metadata": {},
   "source": [
    "next is to read in the txt file"
   ]
  },
  {
   "cell_type": "code",
   "execution_count": 26,
   "id": "25d2e9c7",
   "metadata": {},
   "outputs": [],
   "source": [
    "txt_data = pd.read_csv(os.path.join(file_path, files_list[2]),delimiter=\",\")"
   ]
  },
  {
   "cell_type": "markdown",
   "id": "2b44d462",
   "metadata": {},
   "source": [
    "inspect random samples of the txt data..."
   ]
  },
  {
   "cell_type": "code",
   "execution_count": 28,
   "id": "0e43e7a9",
   "metadata": {},
   "outputs": [
    {
     "data": {
      "text/html": [
       "<div>\n",
       "<style scoped>\n",
       "    .dataframe tbody tr th:only-of-type {\n",
       "        vertical-align: middle;\n",
       "    }\n",
       "\n",
       "    .dataframe tbody tr th {\n",
       "        vertical-align: top;\n",
       "    }\n",
       "\n",
       "    .dataframe thead th {\n",
       "        text-align: right;\n",
       "    }\n",
       "</style>\n",
       "<table border=\"1\" class=\"dataframe\">\n",
       "  <thead>\n",
       "    <tr style=\"text-align: right;\">\n",
       "      <th></th>\n",
       "      <th>author.properties.friends</th>\n",
       "      <th>author.properties.verified</th>\n",
       "      <th>location.longitude</th>\n",
       "      <th>author.properties.status_count</th>\n",
       "      <th>properties.sentiment</th>\n",
       "      <th>location.latitude</th>\n",
       "      <th>location.country</th>\n",
       "      <th>content.body</th>\n",
       "      <th>properties.platform</th>\n",
       "    </tr>\n",
       "  </thead>\n",
       "  <tbody>\n",
       "    <tr>\n",
       "      <th>228</th>\n",
       "      <td>741</td>\n",
       "      <td>False</td>\n",
       "      <td>-3.93</td>\n",
       "      <td>11169.00</td>\n",
       "      <td>-1.00</td>\n",
       "      <td>56.11</td>\n",
       "      <td>GB</td>\n",
       "      <td>we just asked a homeless busker for £3 so Troy could get in fubar😂😂😂😂😂</td>\n",
       "      <td>twitter</td>\n",
       "    </tr>\n",
       "    <tr>\n",
       "      <th>967</th>\n",
       "      <td>1527</td>\n",
       "      <td>False</td>\n",
       "      <td>-0.44</td>\n",
       "      <td>78910.00</td>\n",
       "      <td>0.00</td>\n",
       "      <td>51.54</td>\n",
       "      <td>GB</td>\n",
       "      <td>@Ecsaln @phljns congratulations, you must be very proud</td>\n",
       "      <td>twitter</td>\n",
       "    </tr>\n",
       "    <tr>\n",
       "      <th>816</th>\n",
       "      <td>2558</td>\n",
       "      <td>False</td>\n",
       "      <td>-5.93</td>\n",
       "      <td>29910.00</td>\n",
       "      <td>0.00</td>\n",
       "      <td>54.60</td>\n",
       "      <td>GB</td>\n",
       "      <td>@EdoardoMelilli @StephaneG05 @hbellvitge Any comparative studies +/- outcomes #nephjc</td>\n",
       "      <td>twitter</td>\n",
       "    </tr>\n",
       "  </tbody>\n",
       "</table>\n",
       "</div>"
      ],
      "text/plain": [
       "    author.properties.friends author.properties.verified  location.longitude  \\\n",
       "228                       741                      False               -3.93   \n",
       "967                      1527                      False               -0.44   \n",
       "816                      2558                      False               -5.93   \n",
       "\n",
       "     author.properties.status_count  properties.sentiment  location.latitude  \\\n",
       "228                        11169.00                 -1.00              56.11   \n",
       "967                        78910.00                  0.00              51.54   \n",
       "816                        29910.00                  0.00              54.60   \n",
       "\n",
       "    location.country  \\\n",
       "228               GB   \n",
       "967               GB   \n",
       "816               GB   \n",
       "\n",
       "                                                                              content.body  \\\n",
       "228                 we just asked a homeless busker for £3 so Troy could get in fubar😂😂😂😂😂   \n",
       "967                                @Ecsaln @phljns congratulations, you must be very proud   \n",
       "816  @EdoardoMelilli @StephaneG05 @hbellvitge Any comparative studies +/- outcomes #nephjc   \n",
       "\n",
       "    properties.platform  \n",
       "228             twitter  \n",
       "967             twitter  \n",
       "816             twitter  "
      ]
     },
     "execution_count": 28,
     "metadata": {},
     "output_type": "execute_result"
    }
   ],
   "source": [
    "txt_data.sample(3)"
   ]
  },
  {
   "cell_type": "markdown",
   "id": "86a840aa",
   "metadata": {},
   "source": [
    "check that the txt data and csv data have corresponding data types and shapes"
   ]
  },
  {
   "cell_type": "code",
   "execution_count": 23,
   "id": "99e3d336",
   "metadata": {
    "scrolled": true
   },
   "outputs": [
    {
     "name": "stdout",
     "output_type": "stream",
     "text": [
      "<class 'pandas.core.frame.DataFrame'>\n",
      "RangeIndex: 1000 entries, 0 to 999\n",
      "Data columns (total 9 columns):\n",
      " #   Column                          Non-Null Count  Dtype  \n",
      "---  ------                          --------------  -----  \n",
      " 0   author.properties.friends       1000 non-null   object \n",
      " 1   author.properties.verified      1000 non-null   object \n",
      " 2   location.longitude              999 non-null    float64\n",
      " 3   author.properties.status_count  999 non-null    float64\n",
      " 4   properties.sentiment            999 non-null    float64\n",
      " 5   location.latitude               999 non-null    float64\n",
      " 6   location.country                999 non-null    object \n",
      " 7   content.body                    999 non-null    object \n",
      " 8   properties.platform             998 non-null    object \n",
      "dtypes: float64(4), object(5)\n",
      "memory usage: 70.4+ KB\n"
     ]
    }
   ],
   "source": [
    "txt_data.info()"
   ]
  },
  {
   "cell_type": "code",
   "execution_count": 29,
   "id": "536b795c",
   "metadata": {},
   "outputs": [
    {
     "name": "stdout",
     "output_type": "stream",
     "text": [
      "<class 'pandas.core.frame.DataFrame'>\n",
      "RangeIndex: 1000 entries, 0 to 999\n",
      "Data columns (total 9 columns):\n",
      " #   Column                          Non-Null Count  Dtype  \n",
      "---  ------                          --------------  -----  \n",
      " 0   author.properties.friends       1000 non-null   int64  \n",
      " 1   author.properties.status_count  1000 non-null   int64  \n",
      " 2   author.properties.verified      1000 non-null   bool   \n",
      " 3   content.body                    1000 non-null   object \n",
      " 4   location.country                1000 non-null   object \n",
      " 5   properties.platform             1000 non-null   object \n",
      " 6   properties.sentiment            1000 non-null   int64  \n",
      " 7   location.latitude               1000 non-null   float64\n",
      " 8   location.longitude              1000 non-null   float64\n",
      "dtypes: bool(1), float64(2), int64(3), object(3)\n",
      "memory usage: 63.6+ KB\n"
     ]
    }
   ],
   "source": [
    "csv_data.info()"
   ]
  },
  {
   "cell_type": "code",
   "execution_count": 24,
   "id": "9a4c116f",
   "metadata": {},
   "outputs": [
    {
     "data": {
      "text/plain": [
       "(1000, 9)"
      ]
     },
     "execution_count": 24,
     "metadata": {},
     "output_type": "execute_result"
    }
   ],
   "source": [
    "csv_data.shape"
   ]
  },
  {
   "cell_type": "code",
   "execution_count": 25,
   "id": "f9131c8a",
   "metadata": {},
   "outputs": [
    {
     "data": {
      "text/plain": [
       "(1000, 9)"
      ]
     },
     "execution_count": 25,
     "metadata": {},
     "output_type": "execute_result"
    }
   ],
   "source": [
    "txt_data.shape"
   ]
  },
  {
   "cell_type": "markdown",
   "id": "2560e0b0",
   "metadata": {},
   "source": [
    "both dataframes appear okay"
   ]
  },
  {
   "cell_type": "markdown",
   "id": "048ac964",
   "metadata": {},
   "source": [
    "use pd.concat to combine the csv and txt dataframes.."
   ]
  },
  {
   "cell_type": "code",
   "execution_count": 34,
   "id": "6d40032c",
   "metadata": {},
   "outputs": [],
   "source": [
    "csv_txt_merged = pd.concat([csv_data, txt_data])"
   ]
  },
  {
   "cell_type": "markdown",
   "id": "b1aa5101",
   "metadata": {},
   "source": [
    "inspect the combined dataframe"
   ]
  },
  {
   "cell_type": "code",
   "execution_count": 31,
   "id": "38a33c07",
   "metadata": {},
   "outputs": [
    {
     "name": "stdout",
     "output_type": "stream",
     "text": [
      "<class 'pandas.core.frame.DataFrame'>\n",
      "Int64Index: 2000 entries, 0 to 999\n",
      "Data columns (total 9 columns):\n",
      " #   Column                          Non-Null Count  Dtype  \n",
      "---  ------                          --------------  -----  \n",
      " 0   author.properties.friends       2000 non-null   object \n",
      " 1   author.properties.status_count  1999 non-null   float64\n",
      " 2   author.properties.verified      2000 non-null   object \n",
      " 3   content.body                    1999 non-null   object \n",
      " 4   location.country                1999 non-null   object \n",
      " 5   properties.platform             1998 non-null   object \n",
      " 6   properties.sentiment            1999 non-null   float64\n",
      " 7   location.latitude               1999 non-null   float64\n",
      " 8   location.longitude              1999 non-null   float64\n",
      "dtypes: float64(4), object(5)\n",
      "memory usage: 156.2+ KB\n"
     ]
    }
   ],
   "source": [
    "csv_txt_merged.info()"
   ]
  },
  {
   "cell_type": "code",
   "execution_count": 28,
   "id": "bc653333",
   "metadata": {
    "scrolled": true
   },
   "outputs": [
    {
     "data": {
      "text/plain": [
       "(2000, 9)"
      ]
     },
     "execution_count": 28,
     "metadata": {},
     "output_type": "execute_result"
    }
   ],
   "source": [
    "csv_txt_merged.shape"
   ]
  },
  {
   "cell_type": "markdown",
   "id": "3c48aee0",
   "metadata": {},
   "source": [
    "check random samples"
   ]
  },
  {
   "cell_type": "code",
   "execution_count": 35,
   "id": "b074ac04",
   "metadata": {},
   "outputs": [
    {
     "data": {
      "text/html": [
       "<div>\n",
       "<style scoped>\n",
       "    .dataframe tbody tr th:only-of-type {\n",
       "        vertical-align: middle;\n",
       "    }\n",
       "\n",
       "    .dataframe tbody tr th {\n",
       "        vertical-align: top;\n",
       "    }\n",
       "\n",
       "    .dataframe thead th {\n",
       "        text-align: right;\n",
       "    }\n",
       "</style>\n",
       "<table border=\"1\" class=\"dataframe\">\n",
       "  <thead>\n",
       "    <tr style=\"text-align: right;\">\n",
       "      <th></th>\n",
       "      <th>author.properties.friends</th>\n",
       "      <th>author.properties.status_count</th>\n",
       "      <th>author.properties.verified</th>\n",
       "      <th>content.body</th>\n",
       "      <th>location.country</th>\n",
       "      <th>properties.platform</th>\n",
       "      <th>properties.sentiment</th>\n",
       "      <th>location.latitude</th>\n",
       "      <th>location.longitude</th>\n",
       "    </tr>\n",
       "  </thead>\n",
       "  <tbody>\n",
       "    <tr>\n",
       "      <th>177</th>\n",
       "      <td>240</td>\n",
       "      <td>3415.00</td>\n",
       "      <td>False</td>\n",
       "      <td>There reaches a point when u begin to wonder if ur just a punch bag to people for their problems because your so resilient...🤔</td>\n",
       "      <td>GB</td>\n",
       "      <td>twitter</td>\n",
       "      <td>-1.00</td>\n",
       "      <td>52.62</td>\n",
       "      <td>-2.48</td>\n",
       "    </tr>\n",
       "    <tr>\n",
       "      <th>549</th>\n",
       "      <td>10386</td>\n",
       "      <td>90631.00</td>\n",
       "      <td>False</td>\n",
       "      <td>@C0URTN3Y_23 I'm crazy</td>\n",
       "      <td>GB</td>\n",
       "      <td>twitter</td>\n",
       "      <td>-1.00</td>\n",
       "      <td>51.50</td>\n",
       "      <td>-3.18</td>\n",
       "    </tr>\n",
       "    <tr>\n",
       "      <th>850</th>\n",
       "      <td>167</td>\n",
       "      <td>733.00</td>\n",
       "      <td>False</td>\n",
       "      <td>@whatbrittsaw + @edwardtekeli are killing me in this group chat😂</td>\n",
       "      <td>GB</td>\n",
       "      <td>twitter</td>\n",
       "      <td>-1.00</td>\n",
       "      <td>53.94</td>\n",
       "      <td>-1.21</td>\n",
       "    </tr>\n",
       "  </tbody>\n",
       "</table>\n",
       "</div>"
      ],
      "text/plain": [
       "    author.properties.friends  author.properties.status_count  \\\n",
       "177                       240                         3415.00   \n",
       "549                     10386                        90631.00   \n",
       "850                       167                          733.00   \n",
       "\n",
       "    author.properties.verified  \\\n",
       "177                      False   \n",
       "549                      False   \n",
       "850                      False   \n",
       "\n",
       "                                                                                                                       content.body  \\\n",
       "177  There reaches a point when u begin to wonder if ur just a punch bag to people for their problems because your so resilient...🤔   \n",
       "549                                                                                                          @C0URTN3Y_23 I'm crazy   \n",
       "850                                                                @whatbrittsaw + @edwardtekeli are killing me in this group chat😂   \n",
       "\n",
       "    location.country properties.platform  properties.sentiment  \\\n",
       "177               GB             twitter                 -1.00   \n",
       "549               GB             twitter                 -1.00   \n",
       "850               GB             twitter                 -1.00   \n",
       "\n",
       "     location.latitude  location.longitude  \n",
       "177              52.62               -2.48  \n",
       "549              51.50               -3.18  \n",
       "850              53.94               -1.21  "
      ]
     },
     "execution_count": 35,
     "metadata": {},
     "output_type": "execute_result"
    }
   ],
   "source": [
    "csv_txt_merged.sample(3)"
   ]
  },
  {
   "cell_type": "markdown",
   "id": "344a8a4b",
   "metadata": {},
   "source": [
    "Next, load in json file using Python JSON module"
   ]
  },
  {
   "cell_type": "code",
   "execution_count": 37,
   "id": "6db19e8c",
   "metadata": {},
   "outputs": [],
   "source": [
    "import json\n",
    "with open('inputs/data/json_file.json','r') as f:\n",
    "    json_raw = json.loads(f.read())"
   ]
  },
  {
   "cell_type": "markdown",
   "id": "1769c4b9",
   "metadata": {},
   "source": [
    "Use json_normalize to convert json file to pandas dataframe"
   ]
  },
  {
   "cell_type": "code",
   "execution_count": 38,
   "id": "be323636",
   "metadata": {},
   "outputs": [],
   "source": [
    "json_data = pd.json_normalize(json_raw)"
   ]
  },
  {
   "cell_type": "markdown",
   "id": "4388c2dd",
   "metadata": {},
   "source": [
    "inspect json data"
   ]
  },
  {
   "cell_type": "code",
   "execution_count": 32,
   "id": "89526245",
   "metadata": {},
   "outputs": [
    {
     "data": {
      "text/html": [
       "<div>\n",
       "<style scoped>\n",
       "    .dataframe tbody tr th:only-of-type {\n",
       "        vertical-align: middle;\n",
       "    }\n",
       "\n",
       "    .dataframe tbody tr th {\n",
       "        vertical-align: top;\n",
       "    }\n",
       "\n",
       "    .dataframe thead th {\n",
       "        text-align: right;\n",
       "    }\n",
       "</style>\n",
       "<table border=\"1\" class=\"dataframe\">\n",
       "  <thead>\n",
       "    <tr style=\"text-align: right;\">\n",
       "      <th></th>\n",
       "      <th>author.properties.friends</th>\n",
       "      <th>author.properties.verified</th>\n",
       "      <th>author.properties.status_count</th>\n",
       "      <th>location.longitude</th>\n",
       "      <th>location.country</th>\n",
       "      <th>location.latitude</th>\n",
       "      <th>content.body</th>\n",
       "      <th>properties.sentiment</th>\n",
       "      <th>properties.platform</th>\n",
       "    </tr>\n",
       "  </thead>\n",
       "  <tbody>\n",
       "    <tr>\n",
       "      <th>0</th>\n",
       "      <td>150</td>\n",
       "      <td>False</td>\n",
       "      <td>583</td>\n",
       "      <td>-1.45</td>\n",
       "      <td>GB</td>\n",
       "      <td>53.38</td>\n",
       "      <td>To everyone tryin to snapchat me fuck off I'm ugly</td>\n",
       "      <td>-1</td>\n",
       "      <td>twitter</td>\n",
       "    </tr>\n",
       "    <tr>\n",
       "      <th>1</th>\n",
       "      <td>1321</td>\n",
       "      <td>False</td>\n",
       "      <td>86271</td>\n",
       "      <td>-4.20</td>\n",
       "      <td>GB</td>\n",
       "      <td>57.79</td>\n",
       "      <td>@cammiescott have you ever been to Scotland? You should give Nessie a wee visit! (I live near her) #askcamscott</td>\n",
       "      <td>-1</td>\n",
       "      <td>twitter</td>\n",
       "    </tr>\n",
       "    <tr>\n",
       "      <th>2</th>\n",
       "      <td>1952</td>\n",
       "      <td>False</td>\n",
       "      <td>11785</td>\n",
       "      <td>-0.07</td>\n",
       "      <td>GB</td>\n",
       "      <td>51.46</td>\n",
       "      <td>#LoveIsland #zaraholland 😭😭😭😭 https://t.co/LUpQvshkm3</td>\n",
       "      <td>-1</td>\n",
       "      <td>twitter</td>\n",
       "    </tr>\n",
       "  </tbody>\n",
       "</table>\n",
       "</div>"
      ],
      "text/plain": [
       "   author.properties.friends  author.properties.verified  \\\n",
       "0                        150                       False   \n",
       "1                       1321                       False   \n",
       "2                       1952                       False   \n",
       "\n",
       "   author.properties.status_count  location.longitude location.country  \\\n",
       "0                             583               -1.45               GB   \n",
       "1                           86271               -4.20               GB   \n",
       "2                           11785               -0.07               GB   \n",
       "\n",
       "   location.latitude  \\\n",
       "0              53.38   \n",
       "1              57.79   \n",
       "2              51.46   \n",
       "\n",
       "                                                                                                      content.body  \\\n",
       "0                                                               To everyone tryin to snapchat me fuck off I'm ugly   \n",
       "1  @cammiescott have you ever been to Scotland? You should give Nessie a wee visit! (I live near her) #askcamscott   \n",
       "2                                                            #LoveIsland #zaraholland 😭😭😭😭 https://t.co/LUpQvshkm3   \n",
       "\n",
       "   properties.sentiment properties.platform  \n",
       "0                    -1             twitter  \n",
       "1                    -1             twitter  \n",
       "2                    -1             twitter  "
      ]
     },
     "execution_count": 32,
     "metadata": {},
     "output_type": "execute_result"
    }
   ],
   "source": [
    "json_data.head(3)"
   ]
  },
  {
   "cell_type": "code",
   "execution_count": 33,
   "id": "888b1e78",
   "metadata": {},
   "outputs": [
    {
     "data": {
      "text/plain": [
       "(1000, 9)"
      ]
     },
     "execution_count": 33,
     "metadata": {},
     "output_type": "execute_result"
    }
   ],
   "source": [
    "json_data.shape"
   ]
  },
  {
   "cell_type": "code",
   "execution_count": 40,
   "id": "d6fb92fc",
   "metadata": {},
   "outputs": [
    {
     "name": "stdout",
     "output_type": "stream",
     "text": [
      "<class 'pandas.core.frame.DataFrame'>\n",
      "RangeIndex: 1000 entries, 0 to 999\n",
      "Data columns (total 9 columns):\n",
      " #   Column                          Non-Null Count  Dtype  \n",
      "---  ------                          --------------  -----  \n",
      " 0   author.properties.friends       1000 non-null   int64  \n",
      " 1   author.properties.verified      1000 non-null   bool   \n",
      " 2   author.properties.status_count  1000 non-null   int64  \n",
      " 3   location.longitude              1000 non-null   float64\n",
      " 4   location.country                1000 non-null   object \n",
      " 5   location.latitude               1000 non-null   float64\n",
      " 6   content.body                    1000 non-null   object \n",
      " 7   properties.sentiment            1000 non-null   int64  \n",
      " 8   properties.platform             1000 non-null   object \n",
      "dtypes: bool(1), float64(2), int64(3), object(3)\n",
      "memory usage: 63.6+ KB\n"
     ]
    }
   ],
   "source": [
    "json_data.info()"
   ]
  },
  {
   "cell_type": "markdown",
   "id": "1b539e5c",
   "metadata": {},
   "source": [
    " Merge json dataframe to combined txt and csv dataframe"
   ]
  },
  {
   "cell_type": "code",
   "execution_count": 41,
   "id": "ef062b4c",
   "metadata": {},
   "outputs": [],
   "source": [
    "all_merged_data = pd.concat([csv_txt_merged, json_data])"
   ]
  },
  {
   "cell_type": "markdown",
   "id": "827791a6",
   "metadata": {},
   "source": [
    "inspect all merged data dataframe"
   ]
  },
  {
   "cell_type": "code",
   "execution_count": 42,
   "id": "2084f1bf",
   "metadata": {},
   "outputs": [
    {
     "name": "stdout",
     "output_type": "stream",
     "text": [
      "<class 'pandas.core.frame.DataFrame'>\n",
      "Int64Index: 3000 entries, 0 to 999\n",
      "Data columns (total 9 columns):\n",
      " #   Column                          Non-Null Count  Dtype  \n",
      "---  ------                          --------------  -----  \n",
      " 0   author.properties.friends       3000 non-null   object \n",
      " 1   author.properties.status_count  2999 non-null   float64\n",
      " 2   author.properties.verified      3000 non-null   object \n",
      " 3   content.body                    2999 non-null   object \n",
      " 4   location.country                2999 non-null   object \n",
      " 5   properties.platform             2998 non-null   object \n",
      " 6   properties.sentiment            2999 non-null   float64\n",
      " 7   location.latitude               2999 non-null   float64\n",
      " 8   location.longitude              2999 non-null   float64\n",
      "dtypes: float64(4), object(5)\n",
      "memory usage: 234.4+ KB\n"
     ]
    }
   ],
   "source": [
    "all_merged_data.info()"
   ]
  },
  {
   "cell_type": "code",
   "execution_count": 43,
   "id": "a16a1602",
   "metadata": {},
   "outputs": [
    {
     "data": {
      "text/plain": [
       "(3000, 9)"
      ]
     },
     "execution_count": 43,
     "metadata": {},
     "output_type": "execute_result"
    }
   ],
   "source": [
    "all_merged_data.shape"
   ]
  },
  {
   "cell_type": "code",
   "execution_count": 44,
   "id": "b5cf9d41",
   "metadata": {},
   "outputs": [
    {
     "data": {
      "text/html": [
       "<div>\n",
       "<style scoped>\n",
       "    .dataframe tbody tr th:only-of-type {\n",
       "        vertical-align: middle;\n",
       "    }\n",
       "\n",
       "    .dataframe tbody tr th {\n",
       "        vertical-align: top;\n",
       "    }\n",
       "\n",
       "    .dataframe thead th {\n",
       "        text-align: right;\n",
       "    }\n",
       "</style>\n",
       "<table border=\"1\" class=\"dataframe\">\n",
       "  <thead>\n",
       "    <tr style=\"text-align: right;\">\n",
       "      <th></th>\n",
       "      <th>author.properties.friends</th>\n",
       "      <th>author.properties.status_count</th>\n",
       "      <th>author.properties.verified</th>\n",
       "      <th>content.body</th>\n",
       "      <th>location.country</th>\n",
       "      <th>properties.platform</th>\n",
       "      <th>properties.sentiment</th>\n",
       "      <th>location.latitude</th>\n",
       "      <th>location.longitude</th>\n",
       "    </tr>\n",
       "  </thead>\n",
       "  <tbody>\n",
       "    <tr>\n",
       "      <th>731</th>\n",
       "      <td>226</td>\n",
       "      <td>780.00</td>\n",
       "      <td>False</td>\n",
       "      <td>So pissed of rn 😒</td>\n",
       "      <td>GB</td>\n",
       "      <td>twitter</td>\n",
       "      <td>-1.00</td>\n",
       "      <td>51.89</td>\n",
       "      <td>0.55</td>\n",
       "    </tr>\n",
       "    <tr>\n",
       "      <th>149</th>\n",
       "      <td>872</td>\n",
       "      <td>13065.00</td>\n",
       "      <td>False</td>\n",
       "      <td>@neilbyrne_CT Perrrrfect! Enjoy it for me! :-)</td>\n",
       "      <td>GB</td>\n",
       "      <td>twitter</td>\n",
       "      <td>1.00</td>\n",
       "      <td>50.79</td>\n",
       "      <td>-1.08</td>\n",
       "    </tr>\n",
       "    <tr>\n",
       "      <th>924</th>\n",
       "      <td>2503</td>\n",
       "      <td>10958.00</td>\n",
       "      <td>False</td>\n",
       "      <td>Its hotting up #LoveIsland</td>\n",
       "      <td>GB</td>\n",
       "      <td>twitter</td>\n",
       "      <td>-1.00</td>\n",
       "      <td>52.23</td>\n",
       "      <td>0.51</td>\n",
       "    </tr>\n",
       "  </tbody>\n",
       "</table>\n",
       "</div>"
      ],
      "text/plain": [
       "    author.properties.friends  author.properties.status_count  \\\n",
       "731                       226                          780.00   \n",
       "149                       872                        13065.00   \n",
       "924                      2503                        10958.00   \n",
       "\n",
       "    author.properties.verified  \\\n",
       "731                      False   \n",
       "149                      False   \n",
       "924                      False   \n",
       "\n",
       "                                       content.body location.country  \\\n",
       "731                               So pissed of rn 😒               GB   \n",
       "149  @neilbyrne_CT Perrrrfect! Enjoy it for me! :-)               GB   \n",
       "924                      Its hotting up #LoveIsland               GB   \n",
       "\n",
       "    properties.platform  properties.sentiment  location.latitude  \\\n",
       "731             twitter                 -1.00              51.89   \n",
       "149             twitter                  1.00              50.79   \n",
       "924             twitter                 -1.00              52.23   \n",
       "\n",
       "     location.longitude  \n",
       "731                0.55  \n",
       "149               -1.08  \n",
       "924                0.51  "
      ]
     },
     "execution_count": 44,
     "metadata": {},
     "output_type": "execute_result"
    }
   ],
   "source": [
    "all_merged_data.sample(3)"
   ]
  },
  {
   "cell_type": "markdown",
   "id": "dcd1ec9b",
   "metadata": {},
   "source": [
    "Write merged dataframe into CSV file"
   ]
  },
  {
   "cell_type": "markdown",
   "id": "770ce872",
   "metadata": {},
   "source": [
    "To specify a save path"
   ]
  },
  {
   "cell_type": "code",
   "execution_count": 37,
   "id": "795f1f6a",
   "metadata": {},
   "outputs": [],
   "source": [
    "save_path = 'outputs/all_merged_data.csv' "
   ]
  },
  {
   "cell_type": "markdown",
   "id": "b1a850bd",
   "metadata": {},
   "source": [
    "To write to file"
   ]
  },
  {
   "cell_type": "code",
   "execution_count": 38,
   "id": "96c3faa3",
   "metadata": {},
   "outputs": [],
   "source": [
    "all_merged_data.to_csv('outputs/all_merged_data.csv')"
   ]
  },
  {
   "cell_type": "code",
   "execution_count": null,
   "id": "9c72cf81",
   "metadata": {},
   "outputs": [],
   "source": []
  }
 ],
 "metadata": {
  "kernelspec": {
   "display_name": "Python 3 (ipykernel)",
   "language": "python",
   "name": "python3"
  },
  "language_info": {
   "codemirror_mode": {
    "name": "ipython",
    "version": 3
   },
   "file_extension": ".py",
   "mimetype": "text/x-python",
   "name": "python",
   "nbconvert_exporter": "python",
   "pygments_lexer": "ipython3",
   "version": "3.9.16"
  }
 },
 "nbformat": 4,
 "nbformat_minor": 5
}
