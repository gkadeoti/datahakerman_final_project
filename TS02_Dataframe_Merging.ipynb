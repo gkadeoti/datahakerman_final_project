{
 "cells": [
  {
   "cell_type": "code",
   "execution_count": 2,
   "id": "d401a4f5",
   "metadata": {},
   "outputs": [
    {
     "data": {
      "text/html": [
       "<style>.container { width:100% !important; }</style>"
      ],
      "text/plain": [
       "<IPython.core.display.HTML object>"
      ]
     },
     "metadata": {},
     "output_type": "display_data"
    }
   ],
   "source": [
    "import pandas as pd\n",
    "import numpy as np\n",
    "import os\n",
    "pd.set_option(\"display.max_columns\", None)\n",
    "pd.set_option(\"display.max_rows\", None)\n",
    "pd.options.display.max_colwidth = None\n",
    "pd.set_option(\"display.float_format\", lambda x: '%.2f' % x)\n",
    "\n",
    "from IPython.display import display, HTML\n",
    "display(HTML(\"<style>.container { width:100% !important; }</style>\"))"
   ]
  },
  {
   "cell_type": "code",
   "execution_count": 3,
   "id": "7dc323b6",
   "metadata": {},
   "outputs": [
    {
     "data": {
      "text/plain": [
       "'/Users/macbook/Documents/workspace_datahackerman/datahakerman_final_project'"
      ]
     },
     "execution_count": 3,
     "metadata": {},
     "output_type": "execute_result"
    }
   ],
   "source": [
    "os.getcwd()"
   ]
  },
  {
   "cell_type": "code",
   "execution_count": 4,
   "id": "d6d43dfc",
   "metadata": {},
   "outputs": [],
   "source": [
    "main_working_folder = os.getcwd()"
   ]
  },
  {
   "cell_type": "code",
   "execution_count": 5,
   "id": "1bd8752e",
   "metadata": {},
   "outputs": [],
   "source": [
    "output_folder = 'outputs'"
   ]
  },
  {
   "cell_type": "code",
   "execution_count": 6,
   "id": "f56c7ce1",
   "metadata": {},
   "outputs": [],
   "source": [
    "#main_working_folder"
   ]
  },
  {
   "cell_type": "code",
   "execution_count": 7,
   "id": "f8c6b5ca",
   "metadata": {},
   "outputs": [],
   "source": [
    "data_folder ='inputs/data'"
   ]
  },
  {
   "cell_type": "code",
   "execution_count": 8,
   "id": "bd4e5d81",
   "metadata": {},
   "outputs": [
    {
     "data": {
      "text/plain": [
       "['DHP03_Data_Exploration.ipynb',\n",
       " '.DS_Store',\n",
       " 'requirements.txt',\n",
       " 'DHP01_Game_Of_Thrones_API_Access.ipynb',\n",
       " 'environment.yml',\n",
       " 'images',\n",
       " 'DHP02_Dataframe_Merging.ipynb',\n",
       " 'models',\n",
       " 'README.md',\n",
       " 'DHP04_Model_Building.ipynb',\n",
       " '.gitignore',\n",
       " 'Comaprison_tests.ipynb',\n",
       " 'app.py',\n",
       " '.ipynb_checkpoints',\n",
       " 'old environment.yml',\n",
       " '.git',\n",
       " 'jupyter_notebook',\n",
       " 'outputs',\n",
       " 'inputs']"
      ]
     },
     "execution_count": 8,
     "metadata": {},
     "output_type": "execute_result"
    }
   ],
   "source": [
    "os.listdir()"
   ]
  },
  {
   "cell_type": "code",
   "execution_count": 9,
   "id": "7b0d713c",
   "metadata": {},
   "outputs": [],
   "source": [
    "main_path = os.path.join(main_working_folder,data_folder)"
   ]
  },
  {
   "cell_type": "code",
   "execution_count": 10,
   "id": "bb982497",
   "metadata": {},
   "outputs": [
    {
     "data": {
      "text/plain": [
       "'/Users/macbook/Documents/workspace_datahackerman/datahakerman_final_project/inputs/data'"
      ]
     },
     "execution_count": 10,
     "metadata": {},
     "output_type": "execute_result"
    }
   ],
   "source": [
    "main_path"
   ]
  },
  {
   "cell_type": "code",
   "execution_count": 11,
   "id": "45af0ee1",
   "metadata": {},
   "outputs": [
    {
     "data": {
      "text/plain": [
       "['json_file.json', 'csv_file.csv', 'txt_file.txt']"
      ]
     },
     "execution_count": 11,
     "metadata": {},
     "output_type": "execute_result"
    }
   ],
   "source": [
    "os.listdir(main_path)"
   ]
  },
  {
   "cell_type": "code",
   "execution_count": 12,
   "id": "ff1bab22",
   "metadata": {},
   "outputs": [],
   "source": [
    "files_list = os.listdir(main_path)"
   ]
  },
  {
   "cell_type": "code",
   "execution_count": 13,
   "id": "660000ca",
   "metadata": {},
   "outputs": [
    {
     "data": {
      "text/plain": [
       "['json_file.json', 'csv_file.csv', 'txt_file.txt']"
      ]
     },
     "execution_count": 13,
     "metadata": {},
     "output_type": "execute_result"
    }
   ],
   "source": [
    "files_list"
   ]
  },
  {
   "cell_type": "code",
   "execution_count": 14,
   "id": "b5138000",
   "metadata": {},
   "outputs": [],
   "source": [
    "csv_data = pd.read_csv(os.path.join(main_path, files_list[1]))"
   ]
  },
  {
   "cell_type": "code",
   "execution_count": 15,
   "id": "e42c9512",
   "metadata": {},
   "outputs": [
    {
     "name": "stdout",
     "output_type": "stream",
     "text": [
      "<class 'pandas.core.frame.DataFrame'>\n",
      "RangeIndex: 1000 entries, 0 to 999\n",
      "Data columns (total 9 columns):\n",
      " #   Column                          Non-Null Count  Dtype  \n",
      "---  ------                          --------------  -----  \n",
      " 0   author.properties.friends       1000 non-null   int64  \n",
      " 1   author.properties.status_count  1000 non-null   int64  \n",
      " 2   author.properties.verified      1000 non-null   bool   \n",
      " 3   content.body                    1000 non-null   object \n",
      " 4   location.country                1000 non-null   object \n",
      " 5   properties.platform             1000 non-null   object \n",
      " 6   properties.sentiment            1000 non-null   int64  \n",
      " 7   location.latitude               1000 non-null   float64\n",
      " 8   location.longitude              1000 non-null   float64\n",
      "dtypes: bool(1), float64(2), int64(3), object(3)\n",
      "memory usage: 63.6+ KB\n"
     ]
    }
   ],
   "source": [
    "csv_data.info()"
   ]
  },
  {
   "cell_type": "markdown",
   "id": "5beda0b0",
   "metadata": {},
   "source": [
    "adjusting the data types"
   ]
  },
  {
   "cell_type": "code",
   "execution_count": 16,
   "id": "0369a771",
   "metadata": {},
   "outputs": [],
   "source": [
    "csv_data[\"properties.sentiment\"] = csv_data[\"properties.sentiment\"].astype('category')"
   ]
  },
  {
   "cell_type": "code",
   "execution_count": 17,
   "id": "d17e0e07",
   "metadata": {},
   "outputs": [
    {
     "name": "stdout",
     "output_type": "stream",
     "text": [
      "<class 'pandas.core.frame.DataFrame'>\n",
      "RangeIndex: 1000 entries, 0 to 999\n",
      "Data columns (total 9 columns):\n",
      " #   Column                          Non-Null Count  Dtype   \n",
      "---  ------                          --------------  -----   \n",
      " 0   author.properties.friends       1000 non-null   int64   \n",
      " 1   author.properties.status_count  1000 non-null   int64   \n",
      " 2   author.properties.verified      1000 non-null   bool    \n",
      " 3   content.body                    1000 non-null   object  \n",
      " 4   location.country                1000 non-null   object  \n",
      " 5   properties.platform             1000 non-null   object  \n",
      " 6   properties.sentiment            1000 non-null   category\n",
      " 7   location.latitude               1000 non-null   float64 \n",
      " 8   location.longitude              1000 non-null   float64 \n",
      "dtypes: bool(1), category(1), float64(2), int64(2), object(3)\n",
      "memory usage: 56.9+ KB\n"
     ]
    }
   ],
   "source": [
    "csv_data.info()"
   ]
  },
  {
   "cell_type": "code",
   "execution_count": 20,
   "id": "f1b814b7",
   "metadata": {},
   "outputs": [
    {
     "data": {
      "text/html": [
       "<div>\n",
       "<style scoped>\n",
       "    .dataframe tbody tr th:only-of-type {\n",
       "        vertical-align: middle;\n",
       "    }\n",
       "\n",
       "    .dataframe tbody tr th {\n",
       "        vertical-align: top;\n",
       "    }\n",
       "\n",
       "    .dataframe thead th {\n",
       "        text-align: right;\n",
       "    }\n",
       "</style>\n",
       "<table border=\"1\" class=\"dataframe\">\n",
       "  <thead>\n",
       "    <tr style=\"text-align: right;\">\n",
       "      <th></th>\n",
       "      <th>author.properties.friends</th>\n",
       "      <th>author.properties.status_count</th>\n",
       "      <th>author.properties.verified</th>\n",
       "      <th>content.body</th>\n",
       "      <th>location.country</th>\n",
       "      <th>properties.platform</th>\n",
       "      <th>properties.sentiment</th>\n",
       "      <th>location.latitude</th>\n",
       "      <th>location.longitude</th>\n",
       "    </tr>\n",
       "  </thead>\n",
       "  <tbody>\n",
       "    <tr>\n",
       "      <th>0</th>\n",
       "      <td>1689</td>\n",
       "      <td>22566</td>\n",
       "      <td>False</td>\n",
       "      <td>Can't believe I'm missing Love Island 😩</td>\n",
       "      <td>GB</td>\n",
       "      <td>twitter</td>\n",
       "      <td>1</td>\n",
       "      <td>51.57</td>\n",
       "      <td>0.46</td>\n",
       "    </tr>\n",
       "    <tr>\n",
       "      <th>1</th>\n",
       "      <td>114</td>\n",
       "      <td>1377</td>\n",
       "      <td>False</td>\n",
       "      <td>Last tweet about future wedding..... if I actually want a wedding I actually need to find a guy XD we all know I'm a loner. unlovable</td>\n",
       "      <td>GB</td>\n",
       "      <td>twitter</td>\n",
       "      <td>1</td>\n",
       "      <td>52.97</td>\n",
       "      <td>-1.17</td>\n",
       "    </tr>\n",
       "    <tr>\n",
       "      <th>2</th>\n",
       "      <td>568</td>\n",
       "      <td>8375</td>\n",
       "      <td>False</td>\n",
       "      <td>How many times does he wonna say the phrase \"i deal with shit\" #LoveIsland</td>\n",
       "      <td>GB</td>\n",
       "      <td>twitter</td>\n",
       "      <td>-1</td>\n",
       "      <td>51.39</td>\n",
       "      <td>0.03</td>\n",
       "    </tr>\n",
       "  </tbody>\n",
       "</table>\n",
       "</div>"
      ],
      "text/plain": [
       "   author.properties.friends  author.properties.status_count  \\\n",
       "0                       1689                           22566   \n",
       "1                        114                            1377   \n",
       "2                        568                            8375   \n",
       "\n",
       "   author.properties.verified  \\\n",
       "0                       False   \n",
       "1                       False   \n",
       "2                       False   \n",
       "\n",
       "                                                                                                                            content.body  \\\n",
       "0                                                                                                Can't believe I'm missing Love Island 😩   \n",
       "1  Last tweet about future wedding..... if I actually want a wedding I actually need to find a guy XD we all know I'm a loner. unlovable   \n",
       "2                                                             How many times does he wonna say the phrase \"i deal with shit\" #LoveIsland   \n",
       "\n",
       "  location.country properties.platform properties.sentiment  \\\n",
       "0               GB             twitter                    1   \n",
       "1               GB             twitter                    1   \n",
       "2               GB             twitter                   -1   \n",
       "\n",
       "   location.latitude  location.longitude  \n",
       "0              51.57                0.46  \n",
       "1              52.97               -1.17  \n",
       "2              51.39                0.03  "
      ]
     },
     "execution_count": 20,
     "metadata": {},
     "output_type": "execute_result"
    }
   ],
   "source": [
    "csv_data.head(3)"
   ]
  },
  {
   "cell_type": "code",
   "execution_count": 21,
   "id": "25d2e9c7",
   "metadata": {},
   "outputs": [],
   "source": [
    "txt_data = pd.read_csv(os.path.join(main_path, files_list[2]),delimiter=\",\")"
   ]
  },
  {
   "cell_type": "code",
   "execution_count": 22,
   "id": "0e43e7a9",
   "metadata": {},
   "outputs": [
    {
     "data": {
      "text/html": [
       "<div>\n",
       "<style scoped>\n",
       "    .dataframe tbody tr th:only-of-type {\n",
       "        vertical-align: middle;\n",
       "    }\n",
       "\n",
       "    .dataframe tbody tr th {\n",
       "        vertical-align: top;\n",
       "    }\n",
       "\n",
       "    .dataframe thead th {\n",
       "        text-align: right;\n",
       "    }\n",
       "</style>\n",
       "<table border=\"1\" class=\"dataframe\">\n",
       "  <thead>\n",
       "    <tr style=\"text-align: right;\">\n",
       "      <th></th>\n",
       "      <th>author.properties.friends</th>\n",
       "      <th>author.properties.verified</th>\n",
       "      <th>location.longitude</th>\n",
       "      <th>author.properties.status_count</th>\n",
       "      <th>properties.sentiment</th>\n",
       "      <th>location.latitude</th>\n",
       "      <th>location.country</th>\n",
       "      <th>content.body</th>\n",
       "      <th>properties.platform</th>\n",
       "    </tr>\n",
       "  </thead>\n",
       "  <tbody>\n",
       "    <tr>\n",
       "      <th>0</th>\n",
       "      <td>632</td>\n",
       "      <td>False</td>\n",
       "      <td>-2.32</td>\n",
       "      <td>106490.00</td>\n",
       "      <td>0.00</td>\n",
       "      <td>52.12</td>\n",
       "      <td>GB</td>\n",
       "      <td>@moel_bryn https://t.co/qvz1bI2Utb</td>\n",
       "      <td>twitter</td>\n",
       "    </tr>\n",
       "    <tr>\n",
       "      <th>1</th>\n",
       "      <td>278</td>\n",
       "      <td>False</td>\n",
       "      <td>-0.34</td>\n",
       "      <td>31467.00</td>\n",
       "      <td>-1.00</td>\n",
       "      <td>51.60</td>\n",
       "      <td>GB</td>\n",
       "      <td>Who wants to rap battle with me on stream tomorrow 👀</td>\n",
       "      <td>twitter</td>\n",
       "    </tr>\n",
       "    <tr>\n",
       "      <th>2</th>\n",
       "      <td>169</td>\n",
       "      <td>False</td>\n",
       "      <td>-0.28</td>\n",
       "      <td>1185.00</td>\n",
       "      <td>-1.00</td>\n",
       "      <td>51.39</td>\n",
       "      <td>GB</td>\n",
       "      <td>i think she'd Understand but there's like Nothing she can do</td>\n",
       "      <td>twitter</td>\n",
       "    </tr>\n",
       "  </tbody>\n",
       "</table>\n",
       "</div>"
      ],
      "text/plain": [
       "  author.properties.friends author.properties.verified  location.longitude  \\\n",
       "0                       632                      False               -2.32   \n",
       "1                       278                      False               -0.34   \n",
       "2                       169                      False               -0.28   \n",
       "\n",
       "   author.properties.status_count  properties.sentiment  location.latitude  \\\n",
       "0                       106490.00                  0.00              52.12   \n",
       "1                        31467.00                 -1.00              51.60   \n",
       "2                         1185.00                 -1.00              51.39   \n",
       "\n",
       "  location.country  \\\n",
       "0               GB   \n",
       "1               GB   \n",
       "2               GB   \n",
       "\n",
       "                                                   content.body  \\\n",
       "0                            @moel_bryn https://t.co/qvz1bI2Utb   \n",
       "1          Who wants to rap battle with me on stream tomorrow 👀   \n",
       "2  i think she'd Understand but there's like Nothing she can do   \n",
       "\n",
       "  properties.platform  \n",
       "0             twitter  \n",
       "1             twitter  \n",
       "2             twitter  "
      ]
     },
     "execution_count": 22,
     "metadata": {},
     "output_type": "execute_result"
    }
   ],
   "source": [
    "txt_data.head(3)"
   ]
  },
  {
   "cell_type": "code",
   "execution_count": 23,
   "id": "99e3d336",
   "metadata": {},
   "outputs": [
    {
     "name": "stdout",
     "output_type": "stream",
     "text": [
      "<class 'pandas.core.frame.DataFrame'>\n",
      "RangeIndex: 1000 entries, 0 to 999\n",
      "Data columns (total 9 columns):\n",
      " #   Column                          Non-Null Count  Dtype  \n",
      "---  ------                          --------------  -----  \n",
      " 0   author.properties.friends       1000 non-null   object \n",
      " 1   author.properties.verified      1000 non-null   object \n",
      " 2   location.longitude              999 non-null    float64\n",
      " 3   author.properties.status_count  999 non-null    float64\n",
      " 4   properties.sentiment            999 non-null    float64\n",
      " 5   location.latitude               999 non-null    float64\n",
      " 6   location.country                999 non-null    object \n",
      " 7   content.body                    999 non-null    object \n",
      " 8   properties.platform             998 non-null    object \n",
      "dtypes: float64(4), object(5)\n",
      "memory usage: 70.4+ KB\n"
     ]
    }
   ],
   "source": [
    "txt_data.info()"
   ]
  },
  {
   "cell_type": "markdown",
   "id": "048ac964",
   "metadata": {},
   "source": [
    "Combining the csv and txt dataset"
   ]
  },
  {
   "cell_type": "code",
   "execution_count": 24,
   "id": "9a4c116f",
   "metadata": {},
   "outputs": [
    {
     "data": {
      "text/plain": [
       "(1000, 9)"
      ]
     },
     "execution_count": 24,
     "metadata": {},
     "output_type": "execute_result"
    }
   ],
   "source": [
    "csv_data.shape"
   ]
  },
  {
   "cell_type": "code",
   "execution_count": 25,
   "id": "f9131c8a",
   "metadata": {},
   "outputs": [
    {
     "data": {
      "text/plain": [
       "(1000, 9)"
      ]
     },
     "execution_count": 25,
     "metadata": {},
     "output_type": "execute_result"
    }
   ],
   "source": [
    "txt_data.shape"
   ]
  },
  {
   "cell_type": "code",
   "execution_count": 26,
   "id": "6d40032c",
   "metadata": {},
   "outputs": [],
   "source": [
    "csv_txt_merged = pd.concat([csv_data, txt_data])"
   ]
  },
  {
   "cell_type": "code",
   "execution_count": 27,
   "id": "38a33c07",
   "metadata": {},
   "outputs": [
    {
     "name": "stdout",
     "output_type": "stream",
     "text": [
      "<class 'pandas.core.frame.DataFrame'>\n",
      "Int64Index: 2000 entries, 0 to 999\n",
      "Data columns (total 9 columns):\n",
      " #   Column                          Non-Null Count  Dtype  \n",
      "---  ------                          --------------  -----  \n",
      " 0   author.properties.friends       2000 non-null   object \n",
      " 1   author.properties.status_count  1999 non-null   float64\n",
      " 2   author.properties.verified      2000 non-null   object \n",
      " 3   content.body                    1999 non-null   object \n",
      " 4   location.country                1999 non-null   object \n",
      " 5   properties.platform             1998 non-null   object \n",
      " 6   properties.sentiment            1999 non-null   float64\n",
      " 7   location.latitude               1999 non-null   float64\n",
      " 8   location.longitude              1999 non-null   float64\n",
      "dtypes: float64(4), object(5)\n",
      "memory usage: 156.2+ KB\n"
     ]
    }
   ],
   "source": [
    "csv_txt_merged.info()"
   ]
  },
  {
   "cell_type": "code",
   "execution_count": 28,
   "id": "bc653333",
   "metadata": {
    "scrolled": true
   },
   "outputs": [
    {
     "data": {
      "text/plain": [
       "(2000, 9)"
      ]
     },
     "execution_count": 28,
     "metadata": {},
     "output_type": "execute_result"
    }
   ],
   "source": [
    "csv_txt_merged.shape"
   ]
  },
  {
   "cell_type": "markdown",
   "id": "344a8a4b",
   "metadata": {},
   "source": [
    "Next, load in json file using Python JSON module"
   ]
  },
  {
   "cell_type": "code",
   "execution_count": 29,
   "id": "6db19e8c",
   "metadata": {},
   "outputs": [],
   "source": [
    "import json\n",
    "with open('inputs/data/json_file.json','r') as f:\n",
    "    json_raw = json.loads(f.read())"
   ]
  },
  {
   "cell_type": "markdown",
   "id": "1769c4b9",
   "metadata": {},
   "source": [
    "Use json_normalize to convert json file to pandas dataframe"
   ]
  },
  {
   "cell_type": "code",
   "execution_count": 30,
   "id": "be323636",
   "metadata": {},
   "outputs": [],
   "source": [
    "json_data = pd.json_normalize(json_raw)"
   ]
  },
  {
   "cell_type": "code",
   "execution_count": 32,
   "id": "89526245",
   "metadata": {},
   "outputs": [
    {
     "data": {
      "text/html": [
       "<div>\n",
       "<style scoped>\n",
       "    .dataframe tbody tr th:only-of-type {\n",
       "        vertical-align: middle;\n",
       "    }\n",
       "\n",
       "    .dataframe tbody tr th {\n",
       "        vertical-align: top;\n",
       "    }\n",
       "\n",
       "    .dataframe thead th {\n",
       "        text-align: right;\n",
       "    }\n",
       "</style>\n",
       "<table border=\"1\" class=\"dataframe\">\n",
       "  <thead>\n",
       "    <tr style=\"text-align: right;\">\n",
       "      <th></th>\n",
       "      <th>author.properties.friends</th>\n",
       "      <th>author.properties.verified</th>\n",
       "      <th>author.properties.status_count</th>\n",
       "      <th>location.longitude</th>\n",
       "      <th>location.country</th>\n",
       "      <th>location.latitude</th>\n",
       "      <th>content.body</th>\n",
       "      <th>properties.sentiment</th>\n",
       "      <th>properties.platform</th>\n",
       "    </tr>\n",
       "  </thead>\n",
       "  <tbody>\n",
       "    <tr>\n",
       "      <th>0</th>\n",
       "      <td>150</td>\n",
       "      <td>False</td>\n",
       "      <td>583</td>\n",
       "      <td>-1.45</td>\n",
       "      <td>GB</td>\n",
       "      <td>53.38</td>\n",
       "      <td>To everyone tryin to snapchat me fuck off I'm ugly</td>\n",
       "      <td>-1</td>\n",
       "      <td>twitter</td>\n",
       "    </tr>\n",
       "    <tr>\n",
       "      <th>1</th>\n",
       "      <td>1321</td>\n",
       "      <td>False</td>\n",
       "      <td>86271</td>\n",
       "      <td>-4.20</td>\n",
       "      <td>GB</td>\n",
       "      <td>57.79</td>\n",
       "      <td>@cammiescott have you ever been to Scotland? You should give Nessie a wee visit! (I live near her) #askcamscott</td>\n",
       "      <td>-1</td>\n",
       "      <td>twitter</td>\n",
       "    </tr>\n",
       "    <tr>\n",
       "      <th>2</th>\n",
       "      <td>1952</td>\n",
       "      <td>False</td>\n",
       "      <td>11785</td>\n",
       "      <td>-0.07</td>\n",
       "      <td>GB</td>\n",
       "      <td>51.46</td>\n",
       "      <td>#LoveIsland #zaraholland 😭😭😭😭 https://t.co/LUpQvshkm3</td>\n",
       "      <td>-1</td>\n",
       "      <td>twitter</td>\n",
       "    </tr>\n",
       "  </tbody>\n",
       "</table>\n",
       "</div>"
      ],
      "text/plain": [
       "   author.properties.friends  author.properties.verified  \\\n",
       "0                        150                       False   \n",
       "1                       1321                       False   \n",
       "2                       1952                       False   \n",
       "\n",
       "   author.properties.status_count  location.longitude location.country  \\\n",
       "0                             583               -1.45               GB   \n",
       "1                           86271               -4.20               GB   \n",
       "2                           11785               -0.07               GB   \n",
       "\n",
       "   location.latitude  \\\n",
       "0              53.38   \n",
       "1              57.79   \n",
       "2              51.46   \n",
       "\n",
       "                                                                                                      content.body  \\\n",
       "0                                                               To everyone tryin to snapchat me fuck off I'm ugly   \n",
       "1  @cammiescott have you ever been to Scotland? You should give Nessie a wee visit! (I live near her) #askcamscott   \n",
       "2                                                            #LoveIsland #zaraholland 😭😭😭😭 https://t.co/LUpQvshkm3   \n",
       "\n",
       "   properties.sentiment properties.platform  \n",
       "0                    -1             twitter  \n",
       "1                    -1             twitter  \n",
       "2                    -1             twitter  "
      ]
     },
     "execution_count": 32,
     "metadata": {},
     "output_type": "execute_result"
    }
   ],
   "source": [
    "json_data.head(3)"
   ]
  },
  {
   "cell_type": "code",
   "execution_count": 33,
   "id": "888b1e78",
   "metadata": {},
   "outputs": [
    {
     "data": {
      "text/plain": [
       "(1000, 9)"
      ]
     },
     "execution_count": 33,
     "metadata": {},
     "output_type": "execute_result"
    }
   ],
   "source": [
    "json_data.shape"
   ]
  },
  {
   "cell_type": "markdown",
   "id": "1b539e5c",
   "metadata": {},
   "source": [
    " Merge json dataframe to combined txt and csv dataframe"
   ]
  },
  {
   "cell_type": "code",
   "execution_count": 34,
   "id": "ef062b4c",
   "metadata": {},
   "outputs": [],
   "source": [
    "all_merged_data = pd.concat([csv_txt_merged, json_data])"
   ]
  },
  {
   "cell_type": "code",
   "execution_count": 35,
   "id": "2084f1bf",
   "metadata": {},
   "outputs": [
    {
     "name": "stdout",
     "output_type": "stream",
     "text": [
      "<class 'pandas.core.frame.DataFrame'>\n",
      "Int64Index: 3000 entries, 0 to 999\n",
      "Data columns (total 9 columns):\n",
      " #   Column                          Non-Null Count  Dtype  \n",
      "---  ------                          --------------  -----  \n",
      " 0   author.properties.friends       3000 non-null   object \n",
      " 1   author.properties.status_count  2999 non-null   float64\n",
      " 2   author.properties.verified      3000 non-null   object \n",
      " 3   content.body                    2999 non-null   object \n",
      " 4   location.country                2999 non-null   object \n",
      " 5   properties.platform             2998 non-null   object \n",
      " 6   properties.sentiment            2999 non-null   float64\n",
      " 7   location.latitude               2999 non-null   float64\n",
      " 8   location.longitude              2999 non-null   float64\n",
      "dtypes: float64(4), object(5)\n",
      "memory usage: 234.4+ KB\n"
     ]
    }
   ],
   "source": [
    "all_merged_data.info()"
   ]
  },
  {
   "cell_type": "code",
   "execution_count": 36,
   "id": "a16a1602",
   "metadata": {},
   "outputs": [
    {
     "data": {
      "text/plain": [
       "(3000, 9)"
      ]
     },
     "execution_count": 36,
     "metadata": {},
     "output_type": "execute_result"
    }
   ],
   "source": [
    "all_merged_data.shape"
   ]
  },
  {
   "cell_type": "markdown",
   "id": "dcd1ec9b",
   "metadata": {},
   "source": [
    "Write merged dataframe into CSV file"
   ]
  },
  {
   "cell_type": "code",
   "execution_count": 37,
   "id": "795f1f6a",
   "metadata": {},
   "outputs": [],
   "source": [
    "save_path = 'outputs/all_merged_data.csv'"
   ]
  },
  {
   "cell_type": "code",
   "execution_count": 38,
   "id": "96c3faa3",
   "metadata": {},
   "outputs": [],
   "source": [
    "all_merged_data.to_csv('outputs/all_merged_data.csv')"
   ]
  },
  {
   "cell_type": "code",
   "execution_count": null,
   "id": "9c72cf81",
   "metadata": {},
   "outputs": [],
   "source": []
  }
 ],
 "metadata": {
  "kernelspec": {
   "display_name": "Python 3 (ipykernel)",
   "language": "python",
   "name": "python3"
  },
  "language_info": {
   "codemirror_mode": {
    "name": "ipython",
    "version": 3
   },
   "file_extension": ".py",
   "mimetype": "text/x-python",
   "name": "python",
   "nbconvert_exporter": "python",
   "pygments_lexer": "ipython3",
   "version": "3.9.16"
  }
 },
 "nbformat": 4,
 "nbformat_minor": 5
}
