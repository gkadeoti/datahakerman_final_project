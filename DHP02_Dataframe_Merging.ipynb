{
 "cells": [
  {
   "cell_type": "code",
   "execution_count": 1,
   "id": "916905f3",
   "metadata": {},
   "outputs": [
    {
     "data": {
      "text/html": [
       "<style>.container { width:100% !important; }</style>"
      ],
      "text/plain": [
       "<IPython.core.display.HTML object>"
      ]
     },
     "metadata": {},
     "output_type": "display_data"
    }
   ],
   "source": [
    "import pandas as pd\n",
    "import numpy as np\n",
    "import os\n",
    "pd.set_option(\"display.max_columns\", None)\n",
    "pd.set_option(\"display.max_rows\", None)\n",
    "pd.options.display.max_colwidth = None\n",
    "pd.set_option(\"display.float_format\", lambda x: '%.2f' % x)\n",
    "\n",
    "from IPython.display import display, HTML\n",
    "display(HTML(\"<style>.container { width:100% !important; }</style>\"))"
   ]
  },
  {
   "cell_type": "code",
   "execution_count": 4,
   "id": "3b11168d",
   "metadata": {},
   "outputs": [
    {
     "data": {
      "text/plain": [
       "'/Users/macbook/Documents/workspace_datahackerman/datahakerman_final_project'"
      ]
     },
     "execution_count": 4,
     "metadata": {},
     "output_type": "execute_result"
    }
   ],
   "source": [
    "os.getcwd()"
   ]
  },
  {
   "cell_type": "code",
   "execution_count": 5,
   "id": "4ed6dbf1",
   "metadata": {},
   "outputs": [],
   "source": [
    "main_working_folder =  os.getcwd()"
   ]
  },
  {
   "cell_type": "code",
   "execution_count": 7,
   "id": "2262e43d",
   "metadata": {},
   "outputs": [],
   "source": [
    "#main_working_folder"
   ]
  },
  {
   "cell_type": "code",
   "execution_count": 8,
   "id": "23aec64e",
   "metadata": {},
   "outputs": [],
   "source": [
    "data_folder ='data'"
   ]
  },
  {
   "cell_type": "code",
   "execution_count": 9,
   "id": "491b2832",
   "metadata": {},
   "outputs": [
    {
     "data": {
      "text/plain": [
       "['.DS_Store',\n",
       " 'DHP01_Game_Of_Thrones_API_Access.ipynb',\n",
       " 'environment.yml',\n",
       " 'images',\n",
       " 'data.zip',\n",
       " 'DHP02_Dataframe_Merging.ipynb',\n",
       " 'models',\n",
       " 'README.md',\n",
       " '.gitignore',\n",
       " 'Comaprison_tests.ipynb',\n",
       " '.ipynb_checkpoints',\n",
       " '.git',\n",
       " 'data']"
      ]
     },
     "execution_count": 9,
     "metadata": {},
     "output_type": "execute_result"
    }
   ],
   "source": [
    "os.listdir()"
   ]
  },
  {
   "cell_type": "code",
   "execution_count": 10,
   "id": "4f4225e6",
   "metadata": {},
   "outputs": [],
   "source": [
    "main_path = os.path.join(main_working_folder, data_folder)"
   ]
  },
  {
   "cell_type": "code",
   "execution_count": 11,
   "id": "052ae3c9",
   "metadata": {},
   "outputs": [
    {
     "data": {
      "text/plain": [
       "'/Users/macbook/Documents/workspace_datahackerman/datahakerman_final_project/data'"
      ]
     },
     "execution_count": 11,
     "metadata": {},
     "output_type": "execute_result"
    }
   ],
   "source": [
    "main_path"
   ]
  },
  {
   "cell_type": "code",
   "execution_count": 12,
   "id": "db0dd534",
   "metadata": {},
   "outputs": [
    {
     "data": {
      "text/plain": [
       "['json_file.json', 'csv_file.csv', 'txt_file.txt']"
      ]
     },
     "execution_count": 12,
     "metadata": {},
     "output_type": "execute_result"
    }
   ],
   "source": [
    "os.listdir(main_path)"
   ]
  },
  {
   "cell_type": "code",
   "execution_count": 13,
   "id": "65096c87",
   "metadata": {},
   "outputs": [],
   "source": [
    "files_list = os.listdir(main_path)"
   ]
  },
  {
   "cell_type": "code",
   "execution_count": 14,
   "id": "0dc67ac6",
   "metadata": {},
   "outputs": [
    {
     "data": {
      "text/plain": [
       "['json_file.json', 'csv_file.csv', 'txt_file.txt']"
      ]
     },
     "execution_count": 14,
     "metadata": {},
     "output_type": "execute_result"
    }
   ],
   "source": [
    "files_list"
   ]
  },
  {
   "cell_type": "code",
   "execution_count": null,
   "id": "2d5b98b7",
   "metadata": {},
   "outputs": [],
   "source": []
  }
 ],
 "metadata": {
  "kernelspec": {
   "display_name": "Python 3 (ipykernel)",
   "language": "python",
   "name": "python3"
  },
  "language_info": {
   "codemirror_mode": {
    "name": "ipython",
    "version": 3
   },
   "file_extension": ".py",
   "mimetype": "text/x-python",
   "name": "python",
   "nbconvert_exporter": "python",
   "pygments_lexer": "ipython3",
   "version": "3.9.16"
  }
 },
 "nbformat": 4,
 "nbformat_minor": 5
}
