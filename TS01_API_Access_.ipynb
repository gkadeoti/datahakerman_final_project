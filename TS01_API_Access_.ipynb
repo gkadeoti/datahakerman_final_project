{
 "cells": [
  {
   "cell_type": "markdown",
   "id": "f599fc09",
   "metadata": {},
   "source": [
    "\n",
    "This challenge will involve querying an API and extracting information from it. The API in question provides information on Game of Thrones, allowing one to access information on the houses, characters and books.\n",
    "\n",
    "* API URL: http://anapioficeandfire.com/api/{SECTION}/{INDEX}\n",
    "\n",
    "Where SECTION can be either ‘books’, ‘characters’, or ‘houses’ and INDEX is an integer to a certain entry in a section.\n",
    "\n",
    "For example, to access the character Peter Baelish, the full request would be http://anapioficeandfire.com/api/characters/823, where 823 is the index corresponding to that character. \n",
    "\n",
    "It's recommended to read the full documentation, which can be found here: https://anapioficeandfire.com/Documentation\n",
    "`"
   ]
  },
  {
   "cell_type": "markdown",
   "id": "cfb5a9fb",
   "metadata": {},
   "source": [
    "The first step is to confirm acess to the API root url"
   ]
  },
  {
   "cell_type": "code",
   "execution_count": 1,
   "id": "70815f6f",
   "metadata": {},
   "outputs": [
    {
     "data": {
      "text/html": [
       "<style>.container { width:100% !important; }</style>"
      ],
      "text/plain": [
       "<IPython.core.display.HTML object>"
      ]
     },
     "metadata": {},
     "output_type": "display_data"
    }
   ],
   "source": [
    "import pandas as pd\n",
    "import requests\n",
    "pd.set_option(\"display.max_columns\", None)\n",
    "pd.set_option(\"display.max_rows\", None)\n",
    "pd.options.display.max_colwidth = None\n",
    "pd.set_option(\"display.float_format\", lambda x: '%.2f' % x)\n",
    "\n",
    "from IPython.display import display, HTML\n",
    "display(HTML(\"<style>.container { width:100% !important; }</style>\"))"
   ]
  },
  {
   "cell_type": "code",
   "execution_count": 2,
   "id": "3ff16e42",
   "metadata": {},
   "outputs": [],
   "source": [
    "got_url = \"https://anapioficeandfire.com/api/\"\n",
    "got_response = requests.get(got_url)"
   ]
  },
  {
   "cell_type": "code",
   "execution_count": 3,
   "id": "f009d87a",
   "metadata": {},
   "outputs": [
    {
     "data": {
      "text/plain": [
       "'{\"books\":\"https://anapioficeandfire.com/api/books\",\"characters\":\"https://anapioficeandfire.com/api/characters\",\"houses\":\"https://anapioficeandfire.com/api/houses\"}'"
      ]
     },
     "execution_count": 3,
     "metadata": {},
     "output_type": "execute_result"
    }
   ],
   "source": [
    "got_response.text"
   ]
  },
  {
   "cell_type": "code",
   "execution_count": 32,
   "id": "34436c5a",
   "metadata": {},
   "outputs": [
    {
     "data": {
      "text/plain": [
       "<Response [200]>"
      ]
     },
     "execution_count": 32,
     "metadata": {},
     "output_type": "execute_result"
    }
   ],
   "source": [
    "got_response"
   ]
  },
  {
   "cell_type": "markdown",
   "id": "42d967c8",
   "metadata": {},
   "source": [
    "Access to API is confirmed"
   ]
  },
  {
   "cell_type": "markdown",
   "id": "536543a1",
   "metadata": {},
   "source": [
    "### Question 1:\n",
    "\n",
    "a) What index corresponds to the house \"House Breakstone\"?"
   ]
  },
  {
   "cell_type": "markdown",
   "id": "72b20fd5",
   "metadata": {},
   "source": [
    "To read in the houses url"
   ]
  },
  {
   "cell_type": "code",
   "execution_count": 18,
   "id": "63ba9fcd",
   "metadata": {},
   "outputs": [
    {
     "data": {
      "text/plain": [
       "<Response [200]>"
      ]
     },
     "execution_count": 18,
     "metadata": {},
     "output_type": "execute_result"
    }
   ],
   "source": [
    "got_houses_url=\"https://anapioficeandfire.com/api/houses\""
   ]
  },
  {
   "cell_type": "markdown",
   "id": "55db3a55",
   "metadata": {},
   "source": [
    "To specify the query parameters"
   ]
  },
  {
   "cell_type": "code",
   "execution_count": null,
   "id": "facf9942",
   "metadata": {},
   "outputs": [],
   "source": [
    "query_params = {\"name\": \"House Breakstone\",}"
   ]
  },
  {
   "cell_type": "markdown",
   "id": "06d4d064",
   "metadata": {},
   "source": [
    "To make a request to the API"
   ]
  },
  {
   "cell_type": "code",
   "execution_count": null,
   "id": "21611b49",
   "metadata": {},
   "outputs": [],
   "source": [
    "requests.get(got_houses_url, params=query_params)"
   ]
  },
  {
   "cell_type": "code",
   "execution_count": 5,
   "id": "35038762",
   "metadata": {},
   "outputs": [],
   "source": [
    "house_breakstone = requests.get(got_houses_url, params=query_params)"
   ]
  },
  {
   "cell_type": "markdown",
   "id": "3b935787",
   "metadata": {},
   "source": [
    "To check the url"
   ]
  },
  {
   "cell_type": "code",
   "execution_count": 6,
   "id": "7fdd85f4",
   "metadata": {},
   "outputs": [
    {
     "data": {
      "text/plain": [
       "'https://anapioficeandfire.com/api/houses?name=House+Breakstone'"
      ]
     },
     "execution_count": 6,
     "metadata": {},
     "output_type": "execute_result"
    }
   ],
   "source": [
    "house_breakstone.url "
   ]
  },
  {
   "cell_type": "markdown",
   "id": "8fb111db",
   "metadata": {},
   "source": [
    "To read in the result as a json file"
   ]
  },
  {
   "cell_type": "code",
   "execution_count": 7,
   "id": "cae0ba9e",
   "metadata": {},
   "outputs": [],
   "source": [
    "house_breakstone_json = house_breakstone.json()"
   ]
  },
  {
   "cell_type": "code",
   "execution_count": 8,
   "id": "6824cdb5",
   "metadata": {
    "scrolled": true
   },
   "outputs": [
    {
     "data": {
      "text/plain": [
       "[{'url': 'https://anapioficeandfire.com/api/houses/41',\n",
       "  'name': 'House Breakstone',\n",
       "  'region': 'The Vale',\n",
       "  'coatOfArms': 'A red sledge',\n",
       "  'words': '',\n",
       "  'titles': [''],\n",
       "  'seats': [''],\n",
       "  'currentLord': '',\n",
       "  'heir': '',\n",
       "  'overlord': '',\n",
       "  'founded': '',\n",
       "  'founder': '',\n",
       "  'diedOut': '',\n",
       "  'ancestralWeapons': [''],\n",
       "  'cadetBranches': [],\n",
       "  'swornMembers': []}]"
      ]
     },
     "execution_count": 8,
     "metadata": {},
     "output_type": "execute_result"
    }
   ],
   "source": [
    "house_breakstone_json"
   ]
  },
  {
   "cell_type": "markdown",
   "id": "6b8280c2",
   "metadata": {},
   "source": [
    "House Breakstone has an index of `41` as shown in the above"
   ]
  },
  {
   "cell_type": "markdown",
   "id": "39e6422f",
   "metadata": {},
   "source": [
    "### Question 2:\n",
    "\n",
    "b) How many males, females and unknown genders are there in the first 40 characters?\n",
    "Note, index 0 does not correspond to a character, so full range is 1 - 40 both ends inclusive. "
   ]
  },
  {
   "cell_type": "markdown",
   "id": "83be39bb",
   "metadata": {},
   "source": [
    "Write a function to obtain a single character from the API."
   ]
  },
  {
   "cell_type": "code",
   "execution_count": 9,
   "id": "371fb39a",
   "metadata": {},
   "outputs": [],
   "source": [
    "def get_character(index):\n",
    "    url = f\"https://anapioficeandfire.com/api/characters/{index}\"\n",
    "    response = requests.get(url)\n",
    "    result = response.json()\n",
    "    return result"
   ]
  },
  {
   "cell_type": "markdown",
   "id": "cd948729",
   "metadata": {},
   "source": [
    "Write another function to obtain multiple characters from the API"
   ]
  },
  {
   "cell_type": "code",
   "execution_count": 10,
   "id": "21a5ba49",
   "metadata": {},
   "outputs": [],
   "source": [
    "def get_multiple_character(get_character, start_index, end_index):\n",
    "    results = []\n",
    "    for i in range(start_index, end_index + 1):\n",
    "        result = get_character(i)\n",
    "        results.append(result)\n",
    "    return results"
   ]
  },
  {
   "cell_type": "markdown",
   "id": "126f206d",
   "metadata": {},
   "source": [
    "To obtain the first 40 characters..."
   ]
  },
  {
   "cell_type": "code",
   "execution_count": 11,
   "id": "3bdd9751",
   "metadata": {},
   "outputs": [],
   "source": [
    "first40_characters = get_multiple_character(get_character, 1, 40)"
   ]
  },
  {
   "cell_type": "markdown",
   "id": "75bfdbfd",
   "metadata": {},
   "source": [
    "Determine the type..."
   ]
  },
  {
   "cell_type": "code",
   "execution_count": 12,
   "id": "e1732a19",
   "metadata": {},
   "outputs": [
    {
     "data": {
      "text/plain": [
       "list"
      ]
     },
     "execution_count": 12,
     "metadata": {},
     "output_type": "execute_result"
    }
   ],
   "source": [
    "type(first40_characters)"
   ]
  },
  {
   "cell_type": "markdown",
   "id": "b9f5fb6a",
   "metadata": {},
   "source": [
    "To convert the list into a dataframe"
   ]
  },
  {
   "cell_type": "code",
   "execution_count": 13,
   "id": "e4fb93ba",
   "metadata": {},
   "outputs": [],
   "source": [
    "first40_characters_data = pd.DataFrame(first40_characters)"
   ]
  },
  {
   "cell_type": "markdown",
   "id": "ec442fec",
   "metadata": {},
   "source": [
    "To check the shape.."
   ]
  },
  {
   "cell_type": "code",
   "execution_count": 14,
   "id": "6a8da9b8",
   "metadata": {},
   "outputs": [
    {
     "data": {
      "text/plain": [
       "(40, 16)"
      ]
     },
     "execution_count": 14,
     "metadata": {},
     "output_type": "execute_result"
    }
   ],
   "source": [
    "first40_characters_data.shape"
   ]
  },
  {
   "cell_type": "markdown",
   "id": "c9512799",
   "metadata": {},
   "source": [
    "To briefly inspect the the dataframe..."
   ]
  },
  {
   "cell_type": "code",
   "execution_count": 15,
   "id": "8d701707",
   "metadata": {
    "scrolled": true
   },
   "outputs": [
    {
     "name": "stdout",
     "output_type": "stream",
     "text": [
      "<class 'pandas.core.frame.DataFrame'>\n",
      "RangeIndex: 40 entries, 0 to 39\n",
      "Data columns (total 16 columns):\n",
      " #   Column       Non-Null Count  Dtype \n",
      "---  ------       --------------  ----- \n",
      " 0   url          40 non-null     object\n",
      " 1   name         40 non-null     object\n",
      " 2   gender       40 non-null     object\n",
      " 3   culture      40 non-null     object\n",
      " 4   born         40 non-null     object\n",
      " 5   died         40 non-null     object\n",
      " 6   titles       40 non-null     object\n",
      " 7   aliases      40 non-null     object\n",
      " 8   father       40 non-null     object\n",
      " 9   mother       40 non-null     object\n",
      " 10  spouse       40 non-null     object\n",
      " 11  allegiances  40 non-null     object\n",
      " 12  books        40 non-null     object\n",
      " 13  povBooks     40 non-null     object\n",
      " 14  tvSeries     40 non-null     object\n",
      " 15  playedBy     40 non-null     object\n",
      "dtypes: object(16)\n",
      "memory usage: 5.1+ KB\n"
     ]
    }
   ],
   "source": [
    "first40_characters_data.info()"
   ]
  },
  {
   "cell_type": "markdown",
   "id": "ddf36195",
   "metadata": {},
   "source": [
    "To check the unique values (genders)...."
   ]
  },
  {
   "cell_type": "code",
   "execution_count": 16,
   "id": "d900b293",
   "metadata": {},
   "outputs": [
    {
     "data": {
      "text/plain": [
       "array(['Female', 'Male'], dtype=object)"
      ]
     },
     "execution_count": 16,
     "metadata": {},
     "output_type": "execute_result"
    }
   ],
   "source": [
    "first40_characters_data[\"gender\"].unique()"
   ]
  },
  {
   "cell_type": "markdown",
   "id": "00372ea4",
   "metadata": {},
   "source": [
    "To determine the number of each unique value (gender)...."
   ]
  },
  {
   "cell_type": "code",
   "execution_count": 17,
   "id": "2536081b",
   "metadata": {},
   "outputs": [
    {
     "data": {
      "text/plain": [
       "Male      26\n",
       "Female    14\n",
       "Name: gender, dtype: int64"
      ]
     },
     "execution_count": 17,
     "metadata": {},
     "output_type": "execute_result"
    }
   ],
   "source": [
    "first40_characters_data[\"gender\"].value_counts()"
   ]
  },
  {
   "cell_type": "markdown",
   "id": "3e990662",
   "metadata": {},
   "source": [
    "There are `26 male`, `14 female` characters in the first 40 characters. There are `ZERO unknown` genders"
   ]
  },
  {
   "cell_type": "markdown",
   "id": "38b4e9eb",
   "metadata": {},
   "source": [
    "### Question 3"
   ]
  },
  {
   "cell_type": "markdown",
   "id": "59e1dcfc",
   "metadata": {},
   "source": [
    "c) How many books can be accessed from this API?"
   ]
  },
  {
   "cell_type": "markdown",
   "id": "2d3979c5",
   "metadata": {},
   "source": [
    "First, we assume that the `list` of books accessible are contained in the `books` section of the API"
   ]
  },
  {
   "cell_type": "code",
   "execution_count": null,
   "id": "381d3868",
   "metadata": {},
   "outputs": [],
   "source": [
    "got_books_url=\"https://anapioficeandfire.com/api/books\"\n",
    "got_books = requests.get(got_books_url)"
   ]
  },
  {
   "cell_type": "code",
   "execution_count": 19,
   "id": "8b154a8f",
   "metadata": {},
   "outputs": [],
   "source": [
    "got_books_json=got_books.json()"
   ]
  },
  {
   "cell_type": "code",
   "execution_count": 20,
   "id": "9584d757",
   "metadata": {},
   "outputs": [
    {
     "data": {
      "text/plain": [
       "list"
      ]
     },
     "execution_count": 20,
     "metadata": {},
     "output_type": "execute_result"
    }
   ],
   "source": [
    "type(got_books_json)"
   ]
  },
  {
   "cell_type": "code",
   "execution_count": 21,
   "id": "949beb60",
   "metadata": {},
   "outputs": [
    {
     "data": {
      "text/plain": [
       "10"
      ]
     },
     "execution_count": 21,
     "metadata": {},
     "output_type": "execute_result"
    }
   ],
   "source": [
    "len(got_books_json)"
   ]
  },
  {
   "cell_type": "code",
   "execution_count": 1,
   "id": "17a5b3d5",
   "metadata": {},
   "outputs": [
    {
     "ename": "NameError",
     "evalue": "name 'got_books_json' is not defined",
     "output_type": "error",
     "traceback": [
      "\u001b[0;31m---------------------------------------------------------------------------\u001b[0m",
      "\u001b[0;31mNameError\u001b[0m                                 Traceback (most recent call last)",
      "Cell \u001b[0;32mIn[1], line 1\u001b[0m\n\u001b[0;32m----> 1\u001b[0m \u001b[43mgot_books_json\u001b[49m\u001b[38;5;241m.\u001b[39mhead()\n",
      "\u001b[0;31mNameError\u001b[0m: name 'got_books_json' is not defined"
     ]
    }
   ],
   "source": [
    "got_books_json"
   ]
  },
  {
   "cell_type": "code",
   "execution_count": 23,
   "id": "147fb87c",
   "metadata": {},
   "outputs": [],
   "source": [
    "got_books_data = pd.DataFrame(got_books_json)"
   ]
  },
  {
   "cell_type": "code",
   "execution_count": 24,
   "id": "9eabeaf2",
   "metadata": {},
   "outputs": [
    {
     "name": "stdout",
     "output_type": "stream",
     "text": [
      "<class 'pandas.core.frame.DataFrame'>\n",
      "RangeIndex: 10 entries, 0 to 9\n",
      "Data columns (total 11 columns):\n",
      " #   Column         Non-Null Count  Dtype \n",
      "---  ------         --------------  ----- \n",
      " 0   url            10 non-null     object\n",
      " 1   name           10 non-null     object\n",
      " 2   isbn           10 non-null     object\n",
      " 3   authors        10 non-null     object\n",
      " 4   numberOfPages  10 non-null     int64 \n",
      " 5   publisher      10 non-null     object\n",
      " 6   country        10 non-null     object\n",
      " 7   mediaType      10 non-null     object\n",
      " 8   released       10 non-null     object\n",
      " 9   characters     10 non-null     object\n",
      " 10  povCharacters  10 non-null     object\n",
      "dtypes: int64(1), object(10)\n",
      "memory usage: 1008.0+ bytes\n"
     ]
    }
   ],
   "source": [
    "got_books_data.info()"
   ]
  },
  {
   "cell_type": "code",
   "execution_count": 25,
   "id": "1fedaf4f",
   "metadata": {
    "scrolled": false
   },
   "outputs": [
    {
     "data": {
      "text/plain": [
       "array(['https://anapioficeandfire.com/api/books/1',\n",
       "       'https://anapioficeandfire.com/api/books/2',\n",
       "       'https://anapioficeandfire.com/api/books/3',\n",
       "       'https://anapioficeandfire.com/api/books/4',\n",
       "       'https://anapioficeandfire.com/api/books/5',\n",
       "       'https://anapioficeandfire.com/api/books/6',\n",
       "       'https://anapioficeandfire.com/api/books/7',\n",
       "       'https://anapioficeandfire.com/api/books/8',\n",
       "       'https://anapioficeandfire.com/api/books/9',\n",
       "       'https://anapioficeandfire.com/api/books/10'], dtype=object)"
      ]
     },
     "execution_count": 25,
     "metadata": {},
     "output_type": "execute_result"
    }
   ],
   "source": [
    "got_books_data['url'].unique()"
   ]
  },
  {
   "cell_type": "code",
   "execution_count": 26,
   "id": "0ba71964",
   "metadata": {
    "scrolled": true
   },
   "outputs": [
    {
     "data": {
      "text/plain": [
       "url\n",
       "https://anapioficeandfire.com/api/books/1     1\n",
       "https://anapioficeandfire.com/api/books/2     1\n",
       "https://anapioficeandfire.com/api/books/3     1\n",
       "https://anapioficeandfire.com/api/books/4     1\n",
       "https://anapioficeandfire.com/api/books/5     1\n",
       "https://anapioficeandfire.com/api/books/6     1\n",
       "https://anapioficeandfire.com/api/books/7     1\n",
       "https://anapioficeandfire.com/api/books/8     1\n",
       "https://anapioficeandfire.com/api/books/9     1\n",
       "https://anapioficeandfire.com/api/books/10    1\n",
       "Name: count, dtype: int64"
      ]
     },
     "execution_count": 26,
     "metadata": {},
     "output_type": "execute_result"
    }
   ],
   "source": [
    "got_books_data['url'].value_counts()"
   ]
  },
  {
   "cell_type": "markdown",
   "id": "ca13207a",
   "metadata": {},
   "source": [
    "A total of `10 books` can be accessed "
   ]
  },
  {
   "cell_type": "markdown",
   "id": "7b7d28b3",
   "metadata": {},
   "source": [
    "### Question 4:\n",
    "\n",
    "d: How many books does the character 'High Septon' appear in? (ignoring 'povcharacters') \n",
    "\n",
    "Hint: index value of Septon needs to be found first; it is smaller than 20."
   ]
  },
  {
   "cell_type": "markdown",
   "id": "30676a2f",
   "metadata": {},
   "source": [
    "To read in the characters url"
   ]
  },
  {
   "cell_type": "code",
   "execution_count": 23,
   "id": "656a008f",
   "metadata": {},
   "outputs": [],
   "source": [
    "got_characters_url=\"https://www.anapioficeandfire.com/api/characters\""
   ]
  },
  {
   "cell_type": "markdown",
   "id": "7ed88d42",
   "metadata": {},
   "source": [
    "To specify the query parameters"
   ]
  },
  {
   "cell_type": "code",
   "execution_count": 24,
   "id": "8cf174ef",
   "metadata": {},
   "outputs": [],
   "source": [
    "query_params = {\"name\": \"High Septon\", \"hasWords\":\"Septon\"}"
   ]
  },
  {
   "cell_type": "markdown",
   "id": "5187624c",
   "metadata": {},
   "source": [
    "To make a request to the API"
   ]
  },
  {
   "cell_type": "code",
   "execution_count": 25,
   "id": "40cdac20",
   "metadata": {},
   "outputs": [
    {
     "data": {
      "text/plain": [
       "<Response [200]>"
      ]
     },
     "execution_count": 25,
     "metadata": {},
     "output_type": "execute_result"
    }
   ],
   "source": [
    "requests.get(got_characters_url, query_params)"
   ]
  },
  {
   "cell_type": "code",
   "execution_count": 26,
   "id": "98467aab",
   "metadata": {},
   "outputs": [],
   "source": [
    "septon_response = requests.get(got_characters_url, query_params)"
   ]
  },
  {
   "cell_type": "markdown",
   "id": "32f0dd2e",
   "metadata": {},
   "source": [
    "To check the url"
   ]
  },
  {
   "cell_type": "code",
   "execution_count": 27,
   "id": "77f413d7",
   "metadata": {},
   "outputs": [
    {
     "data": {
      "text/plain": [
       "'https://www.anapioficeandfire.com/api/characters?name=High+Septon&hasWords=Septon'"
      ]
     },
     "execution_count": 27,
     "metadata": {},
     "output_type": "execute_result"
    }
   ],
   "source": [
    "septon_response.url "
   ]
  },
  {
   "cell_type": "code",
   "execution_count": 28,
   "id": "0298f8ca",
   "metadata": {},
   "outputs": [
    {
     "data": {
      "text/plain": [
       "<Response [200]>"
      ]
     },
     "execution_count": 28,
     "metadata": {},
     "output_type": "execute_result"
    }
   ],
   "source": [
    "septon_response"
   ]
  },
  {
   "cell_type": "markdown",
   "id": "fadcc9f6",
   "metadata": {},
   "source": [
    "To read in the response as a json file"
   ]
  },
  {
   "cell_type": "code",
   "execution_count": 29,
   "id": "4171d1bb",
   "metadata": {},
   "outputs": [],
   "source": [
    "septon_response_json =septon_response.json()"
   ]
  },
  {
   "cell_type": "code",
   "execution_count": 30,
   "id": "bdbfd4b0",
   "metadata": {},
   "outputs": [
    {
     "data": {
      "text/plain": [
       "[{'url': 'https://www.anapioficeandfire.com/api/characters/15',\n",
       "  'name': 'High Septon',\n",
       "  'gender': 'Male',\n",
       "  'culture': '',\n",
       "  'born': '',\n",
       "  'died': '',\n",
       "  'titles': ['High Septon',\n",
       "   'His High Holiness',\n",
       "   'Father of the Faithful',\n",
       "   'Voice of the Seven on Earth'],\n",
       "  'aliases': ['The High Sparrow'],\n",
       "  'father': '',\n",
       "  'mother': '',\n",
       "  'spouse': '',\n",
       "  'allegiances': [],\n",
       "  'books': ['https://www.anapioficeandfire.com/api/books/5',\n",
       "   'https://www.anapioficeandfire.com/api/books/8'],\n",
       "  'povBooks': [],\n",
       "  'tvSeries': ['Season 5', 'Season 6'],\n",
       "  'playedBy': ['Jonathan Pryce']}]"
      ]
     },
     "execution_count": 30,
     "metadata": {},
     "output_type": "execute_result"
    }
   ],
   "source": [
    "septon_response_json "
   ]
  },
  {
   "cell_type": "markdown",
   "id": "3c77f709",
   "metadata": {},
   "source": [
    "The character `High Septon` appears in two books `5` and `8` as shown above"
   ]
  }
 ],
 "metadata": {
  "kernelspec": {
   "display_name": "Python 3 (ipykernel)",
   "language": "python",
   "name": "python3"
  },
  "language_info": {
   "codemirror_mode": {
    "name": "ipython",
    "version": 3
   },
   "file_extension": ".py",
   "mimetype": "text/x-python",
   "name": "python",
   "nbconvert_exporter": "python",
   "pygments_lexer": "ipython3",
   "version": "3.9.16"
  }
 },
 "nbformat": 4,
 "nbformat_minor": 5
}
