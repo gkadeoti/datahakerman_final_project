{
 "cells": [
  {
   "cell_type": "markdown",
   "id": "737e223f",
   "metadata": {},
   "source": [
    "```\n",
    "This final task involves creating a predictive model for a response variable, given a set of features.\n",
    "​\n",
    "The task is to create a predictive model for the variable ‘properties.sentiment’ using the remaining features in the data set. \n",
    "​\n",
    "The data files attached should be used to create the model.\n",
    "​\n",
    "```"
   ]
  },
  {
   "cell_type": "markdown",
   "id": "109bdbd0",
   "metadata": {},
   "source": [
    " To prepare the dataset for modelling"
   ]
  },
  {
   "cell_type": "code",
   "execution_count": 1,
   "id": "9b35cd3e",
   "metadata": {},
   "outputs": [
    {
     "data": {
      "text/html": [
       "<style>.container { width:100% !important; }</style>"
      ],
      "text/plain": [
       "<IPython.core.display.HTML object>"
      ]
     },
     "metadata": {},
     "output_type": "display_data"
    }
   ],
   "source": [
    "import pandas as pd\n",
    "import numpy as np\n",
    "import os\n",
    "pd.set_option(\"display.max_columns\", None)\n",
    "pd.set_option(\"display.max_rows\", None)\n",
    "pd.options.display.max_colwidth = None\n",
    "pd.set_option(\"display.float_format\", lambda x: '%.2f' % x)\n",
    "\n",
    "from IPython.display import display, HTML\n",
    "display(HTML(\"<style>.container { width:100% !important; }</style>\"))"
   ]
  },
  {
   "cell_type": "code",
   "execution_count": 2,
   "id": "50036567",
   "metadata": {},
   "outputs": [
    {
     "name": "stdout",
     "output_type": "stream",
     "text": [
      "'love_island_data' successfully loaded...\n"
     ]
    }
   ],
   "source": [
    "love_island_data = pd.read_csv('outputs/love_island_data.csv')\n",
    "print(\"'love_island_data' successfully loaded...\")"
   ]
  },
  {
   "cell_type": "markdown",
   "id": "77a371ce",
   "metadata": {},
   "source": [
    "To inspect the data..."
   ]
  },
  {
   "cell_type": "code",
   "execution_count": 3,
   "id": "89a2504b",
   "metadata": {},
   "outputs": [
    {
     "data": {
      "text/plain": [
       "(2999, 11)"
      ]
     },
     "execution_count": 3,
     "metadata": {},
     "output_type": "execute_result"
    }
   ],
   "source": [
    "love_island_data.shape"
   ]
  },
  {
   "cell_type": "code",
   "execution_count": 4,
   "id": "1b523556",
   "metadata": {},
   "outputs": [
    {
     "name": "stdout",
     "output_type": "stream",
     "text": [
      "<class 'pandas.core.frame.DataFrame'>\n",
      "RangeIndex: 2999 entries, 0 to 2998\n",
      "Data columns (total 11 columns):\n",
      " #   Column                          Non-Null Count  Dtype  \n",
      "---  ------                          --------------  -----  \n",
      " 0   Unnamed: 0.1                    2999 non-null   int64  \n",
      " 1   Unnamed: 0                      2999 non-null   int64  \n",
      " 2   author.properties.friends       2999 non-null   int64  \n",
      " 3   author.properties.status_count  2999 non-null   float64\n",
      " 4   author.properties.verified      2999 non-null   bool   \n",
      " 5   content.body                    2999 non-null   object \n",
      " 6   location.country                2999 non-null   object \n",
      " 7   properties.platform             2999 non-null   object \n",
      " 8   properties.sentiment            2999 non-null   float64\n",
      " 9   location.latitude               2999 non-null   float64\n",
      " 10  location.longitude              2999 non-null   float64\n",
      "dtypes: bool(1), float64(4), int64(3), object(3)\n",
      "memory usage: 237.4+ KB\n"
     ]
    }
   ],
   "source": [
    "love_island_data.info()"
   ]
  },
  {
   "cell_type": "markdown",
   "id": "7b37d9c9",
   "metadata": {},
   "source": [
    "To drop duplicate and irrelevant columns in dataframe"
   ]
  },
  {
   "cell_type": "code",
   "execution_count": 5,
   "id": "20c21812",
   "metadata": {},
   "outputs": [],
   "source": [
    "del love_island_data ['Unnamed: 0.1']\n",
    "del love_island_data ['Unnamed: 0']"
   ]
  },
  {
   "cell_type": "code",
   "execution_count": 6,
   "id": "4e83586b",
   "metadata": {},
   "outputs": [
    {
     "name": "stdout",
     "output_type": "stream",
     "text": [
      "<class 'pandas.core.frame.DataFrame'>\n",
      "RangeIndex: 2999 entries, 0 to 2998\n",
      "Data columns (total 9 columns):\n",
      " #   Column                          Non-Null Count  Dtype  \n",
      "---  ------                          --------------  -----  \n",
      " 0   author.properties.friends       2999 non-null   int64  \n",
      " 1   author.properties.status_count  2999 non-null   float64\n",
      " 2   author.properties.verified      2999 non-null   bool   \n",
      " 3   content.body                    2999 non-null   object \n",
      " 4   location.country                2999 non-null   object \n",
      " 5   properties.platform             2999 non-null   object \n",
      " 6   properties.sentiment            2999 non-null   float64\n",
      " 7   location.latitude               2999 non-null   float64\n",
      " 8   location.longitude              2999 non-null   float64\n",
      "dtypes: bool(1), float64(4), int64(1), object(3)\n",
      "memory usage: 190.5+ KB\n"
     ]
    }
   ],
   "source": [
    "love_island_data.info()"
   ]
  },
  {
   "cell_type": "code",
   "execution_count": 7,
   "id": "5c71505c",
   "metadata": {},
   "outputs": [
    {
     "data": {
      "text/html": [
       "<div>\n",
       "<style scoped>\n",
       "    .dataframe tbody tr th:only-of-type {\n",
       "        vertical-align: middle;\n",
       "    }\n",
       "\n",
       "    .dataframe tbody tr th {\n",
       "        vertical-align: top;\n",
       "    }\n",
       "\n",
       "    .dataframe thead th {\n",
       "        text-align: right;\n",
       "    }\n",
       "</style>\n",
       "<table border=\"1\" class=\"dataframe\">\n",
       "  <thead>\n",
       "    <tr style=\"text-align: right;\">\n",
       "      <th></th>\n",
       "      <th>author.properties.friends</th>\n",
       "      <th>author.properties.status_count</th>\n",
       "      <th>author.properties.verified</th>\n",
       "      <th>content.body</th>\n",
       "      <th>location.country</th>\n",
       "      <th>properties.platform</th>\n",
       "      <th>properties.sentiment</th>\n",
       "      <th>location.latitude</th>\n",
       "      <th>location.longitude</th>\n",
       "    </tr>\n",
       "  </thead>\n",
       "  <tbody>\n",
       "    <tr>\n",
       "      <th>0</th>\n",
       "      <td>1689</td>\n",
       "      <td>22566.00</td>\n",
       "      <td>False</td>\n",
       "      <td>Can't believe I'm missing Love Island 😩</td>\n",
       "      <td>GB</td>\n",
       "      <td>twitter</td>\n",
       "      <td>1.00</td>\n",
       "      <td>51.57</td>\n",
       "      <td>0.46</td>\n",
       "    </tr>\n",
       "    <tr>\n",
       "      <th>1</th>\n",
       "      <td>114</td>\n",
       "      <td>1377.00</td>\n",
       "      <td>False</td>\n",
       "      <td>Last tweet about future wedding..... if I actually want a wedding I actually need to find a guy XD we all know I'm a loner. unlovable</td>\n",
       "      <td>GB</td>\n",
       "      <td>twitter</td>\n",
       "      <td>1.00</td>\n",
       "      <td>52.97</td>\n",
       "      <td>-1.17</td>\n",
       "    </tr>\n",
       "    <tr>\n",
       "      <th>2</th>\n",
       "      <td>568</td>\n",
       "      <td>8375.00</td>\n",
       "      <td>False</td>\n",
       "      <td>How many times does he wonna say the phrase \"i deal with shit\" #LoveIsland</td>\n",
       "      <td>GB</td>\n",
       "      <td>twitter</td>\n",
       "      <td>-1.00</td>\n",
       "      <td>51.39</td>\n",
       "      <td>0.03</td>\n",
       "    </tr>\n",
       "  </tbody>\n",
       "</table>\n",
       "</div>"
      ],
      "text/plain": [
       "   author.properties.friends  author.properties.status_count  \\\n",
       "0                       1689                        22566.00   \n",
       "1                        114                         1377.00   \n",
       "2                        568                         8375.00   \n",
       "\n",
       "   author.properties.verified  \\\n",
       "0                       False   \n",
       "1                       False   \n",
       "2                       False   \n",
       "\n",
       "                                                                                                                            content.body  \\\n",
       "0                                                                                                Can't believe I'm missing Love Island 😩   \n",
       "1  Last tweet about future wedding..... if I actually want a wedding I actually need to find a guy XD we all know I'm a loner. unlovable   \n",
       "2                                                             How many times does he wonna say the phrase \"i deal with shit\" #LoveIsland   \n",
       "\n",
       "  location.country properties.platform  properties.sentiment  \\\n",
       "0               GB             twitter                  1.00   \n",
       "1               GB             twitter                  1.00   \n",
       "2               GB             twitter                 -1.00   \n",
       "\n",
       "   location.latitude  location.longitude  \n",
       "0              51.57                0.46  \n",
       "1              52.97               -1.17  \n",
       "2              51.39                0.03  "
      ]
     },
     "execution_count": 7,
     "metadata": {},
     "output_type": "execute_result"
    }
   ],
   "source": [
    "love_island_data.head(3)"
   ]
  },
  {
   "cell_type": "markdown",
   "id": "02e44e7d",
   "metadata": {},
   "source": [
    "setting the train_test_split"
   ]
  },
  {
   "cell_type": "markdown",
   "id": "e28a9bb9",
   "metadata": {},
   "source": [
    "Split is `30%` to `70%` that is, `0.3`, `0.7`"
   ]
  },
  {
   "cell_type": "code",
   "execution_count": 8,
   "id": "b37fc212",
   "metadata": {},
   "outputs": [],
   "source": [
    "from sklearn.model_selection import train_test_split\n",
    "from autogluon.tabular import TabularDataset, TabularPredictor"
   ]
  },
  {
   "cell_type": "code",
   "execution_count": 9,
   "id": "a3ff1ad8",
   "metadata": {},
   "outputs": [],
   "source": [
    "X = love_island_data[[\"author.properties.friends\",\n",
    "                    \"author.properties.status_count\",\n",
    "                    \"author.properties.verified\",\"content.body\",\n",
    "                    \"location.country\",\"properties.platform\",\n",
    "                    \"properties.sentiment\",\"location.latitude\",\n",
    "                    \"location.longitude\"]]"
   ]
  },
  {
   "cell_type": "code",
   "execution_count": 10,
   "id": "2adff69e",
   "metadata": {},
   "outputs": [
    {
     "data": {
      "text/plain": [
       "pandas.core.frame.DataFrame"
      ]
     },
     "execution_count": 10,
     "metadata": {},
     "output_type": "execute_result"
    }
   ],
   "source": [
    "type(X)"
   ]
  },
  {
   "cell_type": "code",
   "execution_count": 11,
   "id": "3633b72a",
   "metadata": {},
   "outputs": [
    {
     "data": {
      "text/html": [
       "<div>\n",
       "<style scoped>\n",
       "    .dataframe tbody tr th:only-of-type {\n",
       "        vertical-align: middle;\n",
       "    }\n",
       "\n",
       "    .dataframe tbody tr th {\n",
       "        vertical-align: top;\n",
       "    }\n",
       "\n",
       "    .dataframe thead th {\n",
       "        text-align: right;\n",
       "    }\n",
       "</style>\n",
       "<table border=\"1\" class=\"dataframe\">\n",
       "  <thead>\n",
       "    <tr style=\"text-align: right;\">\n",
       "      <th></th>\n",
       "      <th>author.properties.friends</th>\n",
       "      <th>author.properties.status_count</th>\n",
       "      <th>author.properties.verified</th>\n",
       "      <th>content.body</th>\n",
       "      <th>location.country</th>\n",
       "      <th>properties.platform</th>\n",
       "      <th>properties.sentiment</th>\n",
       "      <th>location.latitude</th>\n",
       "      <th>location.longitude</th>\n",
       "    </tr>\n",
       "  </thead>\n",
       "  <tbody>\n",
       "    <tr>\n",
       "      <th>0</th>\n",
       "      <td>1689</td>\n",
       "      <td>22566.00</td>\n",
       "      <td>False</td>\n",
       "      <td>Can't believe I'm missing Love Island 😩</td>\n",
       "      <td>GB</td>\n",
       "      <td>twitter</td>\n",
       "      <td>1.00</td>\n",
       "      <td>51.57</td>\n",
       "      <td>0.46</td>\n",
       "    </tr>\n",
       "    <tr>\n",
       "      <th>1</th>\n",
       "      <td>114</td>\n",
       "      <td>1377.00</td>\n",
       "      <td>False</td>\n",
       "      <td>Last tweet about future wedding..... if I actually want a wedding I actually need to find a guy XD we all know I'm a loner. unlovable</td>\n",
       "      <td>GB</td>\n",
       "      <td>twitter</td>\n",
       "      <td>1.00</td>\n",
       "      <td>52.97</td>\n",
       "      <td>-1.17</td>\n",
       "    </tr>\n",
       "    <tr>\n",
       "      <th>2</th>\n",
       "      <td>568</td>\n",
       "      <td>8375.00</td>\n",
       "      <td>False</td>\n",
       "      <td>How many times does he wonna say the phrase \"i deal with shit\" #LoveIsland</td>\n",
       "      <td>GB</td>\n",
       "      <td>twitter</td>\n",
       "      <td>-1.00</td>\n",
       "      <td>51.39</td>\n",
       "      <td>0.03</td>\n",
       "    </tr>\n",
       "  </tbody>\n",
       "</table>\n",
       "</div>"
      ],
      "text/plain": [
       "   author.properties.friends  author.properties.status_count  \\\n",
       "0                       1689                        22566.00   \n",
       "1                        114                         1377.00   \n",
       "2                        568                         8375.00   \n",
       "\n",
       "   author.properties.verified  \\\n",
       "0                       False   \n",
       "1                       False   \n",
       "2                       False   \n",
       "\n",
       "                                                                                                                            content.body  \\\n",
       "0                                                                                                Can't believe I'm missing Love Island 😩   \n",
       "1  Last tweet about future wedding..... if I actually want a wedding I actually need to find a guy XD we all know I'm a loner. unlovable   \n",
       "2                                                             How many times does he wonna say the phrase \"i deal with shit\" #LoveIsland   \n",
       "\n",
       "  location.country properties.platform  properties.sentiment  \\\n",
       "0               GB             twitter                  1.00   \n",
       "1               GB             twitter                  1.00   \n",
       "2               GB             twitter                 -1.00   \n",
       "\n",
       "   location.latitude  location.longitude  \n",
       "0              51.57                0.46  \n",
       "1              52.97               -1.17  \n",
       "2              51.39                0.03  "
      ]
     },
     "execution_count": 11,
     "metadata": {},
     "output_type": "execute_result"
    }
   ],
   "source": [
    "X.head(3)"
   ]
  },
  {
   "cell_type": "code",
   "execution_count": 12,
   "id": "4dc0c7e0",
   "metadata": {},
   "outputs": [],
   "source": [
    "y = love_island_data[\"properties.sentiment\"]"
   ]
  },
  {
   "cell_type": "code",
   "execution_count": 13,
   "id": "fb212d8d",
   "metadata": {},
   "outputs": [
    {
     "data": {
      "text/plain": [
       "pandas.core.series.Series"
      ]
     },
     "execution_count": 13,
     "metadata": {},
     "output_type": "execute_result"
    }
   ],
   "source": [
    "type(y)"
   ]
  },
  {
   "cell_type": "code",
   "execution_count": 14,
   "id": "b38ddfe6",
   "metadata": {},
   "outputs": [
    {
     "data": {
      "text/plain": [
       "0    1.00\n",
       "1    1.00\n",
       "2   -1.00\n",
       "3   -1.00\n",
       "4    0.00\n",
       "Name: properties.sentiment, dtype: float64"
      ]
     },
     "execution_count": 14,
     "metadata": {},
     "output_type": "execute_result"
    }
   ],
   "source": [
    "y.head()"
   ]
  },
  {
   "cell_type": "code",
   "execution_count": 15,
   "id": "2baaa7b1",
   "metadata": {},
   "outputs": [],
   "source": [
    "train_data, test_data = train_test_split(love_island_data,test_size = 0.30, random_state =42)"
   ]
  },
  {
   "cell_type": "code",
   "execution_count": 16,
   "id": "6152c3bc",
   "metadata": {},
   "outputs": [
    {
     "data": {
      "text/plain": [
       "((2099, 9), (900, 9))"
      ]
     },
     "execution_count": 16,
     "metadata": {},
     "output_type": "execute_result"
    }
   ],
   "source": [
    "train_data.shape, test_data.shape"
   ]
  },
  {
   "cell_type": "code",
   "execution_count": 17,
   "id": "bfaade59",
   "metadata": {},
   "outputs": [
    {
     "data": {
      "text/html": [
       "<div>\n",
       "<style scoped>\n",
       "    .dataframe tbody tr th:only-of-type {\n",
       "        vertical-align: middle;\n",
       "    }\n",
       "\n",
       "    .dataframe tbody tr th {\n",
       "        vertical-align: top;\n",
       "    }\n",
       "\n",
       "    .dataframe thead th {\n",
       "        text-align: right;\n",
       "    }\n",
       "</style>\n",
       "<table border=\"1\" class=\"dataframe\">\n",
       "  <thead>\n",
       "    <tr style=\"text-align: right;\">\n",
       "      <th></th>\n",
       "      <th>author.properties.friends</th>\n",
       "      <th>author.properties.status_count</th>\n",
       "      <th>author.properties.verified</th>\n",
       "      <th>content.body</th>\n",
       "      <th>location.country</th>\n",
       "      <th>properties.platform</th>\n",
       "      <th>properties.sentiment</th>\n",
       "      <th>location.latitude</th>\n",
       "      <th>location.longitude</th>\n",
       "    </tr>\n",
       "  </thead>\n",
       "  <tbody>\n",
       "    <tr>\n",
       "      <th>858</th>\n",
       "      <td>2723</td>\n",
       "      <td>27039.00</td>\n",
       "      <td>False</td>\n",
       "      <td>Ain't gna stress it anymore😴</td>\n",
       "      <td>GB</td>\n",
       "      <td>twitter</td>\n",
       "      <td>-1.00</td>\n",
       "      <td>51.45</td>\n",
       "      <td>-0.98</td>\n",
       "    </tr>\n",
       "    <tr>\n",
       "      <th>1011</th>\n",
       "      <td>278</td>\n",
       "      <td>31474.00</td>\n",
       "      <td>False</td>\n",
       "      <td>@Wackkyyy Yes if you take your shirt off like you did in the skype call. 👀</td>\n",
       "      <td>GB</td>\n",
       "      <td>twitter</td>\n",
       "      <td>-1.00</td>\n",
       "      <td>51.60</td>\n",
       "      <td>-0.34</td>\n",
       "    </tr>\n",
       "    <tr>\n",
       "      <th>48</th>\n",
       "      <td>422</td>\n",
       "      <td>1083.00</td>\n",
       "      <td>False</td>\n",
       "      <td>New Music Alert  https://t.co/nDKbwFcD7d</td>\n",
       "      <td>GB</td>\n",
       "      <td>twitter</td>\n",
       "      <td>1.00</td>\n",
       "      <td>51.51</td>\n",
       "      <td>-0.12</td>\n",
       "    </tr>\n",
       "  </tbody>\n",
       "</table>\n",
       "</div>"
      ],
      "text/plain": [
       "      author.properties.friends  author.properties.status_count  \\\n",
       "858                        2723                        27039.00   \n",
       "1011                        278                        31474.00   \n",
       "48                          422                         1083.00   \n",
       "\n",
       "      author.properties.verified  \\\n",
       "858                        False   \n",
       "1011                       False   \n",
       "48                         False   \n",
       "\n",
       "                                                                    content.body  \\\n",
       "858                                                 Ain't gna stress it anymore😴   \n",
       "1011  @Wackkyyy Yes if you take your shirt off like you did in the skype call. 👀   \n",
       "48                                      New Music Alert  https://t.co/nDKbwFcD7d   \n",
       "\n",
       "     location.country properties.platform  properties.sentiment  \\\n",
       "858                GB             twitter                 -1.00   \n",
       "1011               GB             twitter                 -1.00   \n",
       "48                 GB             twitter                  1.00   \n",
       "\n",
       "      location.latitude  location.longitude  \n",
       "858               51.45               -0.98  \n",
       "1011              51.60               -0.34  \n",
       "48                51.51               -0.12  "
      ]
     },
     "execution_count": 17,
     "metadata": {},
     "output_type": "execute_result"
    }
   ],
   "source": [
    "train_data.head(3)"
   ]
  },
  {
   "cell_type": "code",
   "execution_count": 18,
   "id": "ab261a76",
   "metadata": {},
   "outputs": [
    {
     "data": {
      "text/html": [
       "<div>\n",
       "<style scoped>\n",
       "    .dataframe tbody tr th:only-of-type {\n",
       "        vertical-align: middle;\n",
       "    }\n",
       "\n",
       "    .dataframe tbody tr th {\n",
       "        vertical-align: top;\n",
       "    }\n",
       "\n",
       "    .dataframe thead th {\n",
       "        text-align: right;\n",
       "    }\n",
       "</style>\n",
       "<table border=\"1\" class=\"dataframe\">\n",
       "  <thead>\n",
       "    <tr style=\"text-align: right;\">\n",
       "      <th></th>\n",
       "      <th>author.properties.friends</th>\n",
       "      <th>author.properties.status_count</th>\n",
       "      <th>author.properties.verified</th>\n",
       "      <th>content.body</th>\n",
       "      <th>location.country</th>\n",
       "      <th>properties.platform</th>\n",
       "      <th>properties.sentiment</th>\n",
       "      <th>location.latitude</th>\n",
       "      <th>location.longitude</th>\n",
       "    </tr>\n",
       "  </thead>\n",
       "  <tbody>\n",
       "    <tr>\n",
       "      <th>1376</th>\n",
       "      <td>282</td>\n",
       "      <td>2085.00</td>\n",
       "      <td>False</td>\n",
       "      <td>@Donforester Many established 1st generation immigrants want to restrict immigration. Many 2nd generation eg Irish more welcoming</td>\n",
       "      <td>GB</td>\n",
       "      <td>twitter</td>\n",
       "      <td>0.00</td>\n",
       "      <td>53.42</td>\n",
       "      <td>-2.92</td>\n",
       "    </tr>\n",
       "    <tr>\n",
       "      <th>932</th>\n",
       "      <td>51</td>\n",
       "      <td>12533.00</td>\n",
       "      <td>False</td>\n",
       "      <td>@smollyalexander thank u hunty</td>\n",
       "      <td>GB</td>\n",
       "      <td>twitter</td>\n",
       "      <td>1.00</td>\n",
       "      <td>53.37</td>\n",
       "      <td>-2.17</td>\n",
       "    </tr>\n",
       "    <tr>\n",
       "      <th>144</th>\n",
       "      <td>931</td>\n",
       "      <td>307.00</td>\n",
       "      <td>False</td>\n",
       "      <td>Hedge removal part one...!! @ Dalkeith https://t.co/slEBFhE0w9</td>\n",
       "      <td>GB</td>\n",
       "      <td>twitter</td>\n",
       "      <td>-1.00</td>\n",
       "      <td>55.87</td>\n",
       "      <td>-3.07</td>\n",
       "    </tr>\n",
       "  </tbody>\n",
       "</table>\n",
       "</div>"
      ],
      "text/plain": [
       "      author.properties.friends  author.properties.status_count  \\\n",
       "1376                        282                         2085.00   \n",
       "932                          51                        12533.00   \n",
       "144                         931                          307.00   \n",
       "\n",
       "      author.properties.verified  \\\n",
       "1376                       False   \n",
       "932                        False   \n",
       "144                        False   \n",
       "\n",
       "                                                                                                                           content.body  \\\n",
       "1376  @Donforester Many established 1st generation immigrants want to restrict immigration. Many 2nd generation eg Irish more welcoming   \n",
       "932                                                                                                      @smollyalexander thank u hunty   \n",
       "144                                                                      Hedge removal part one...!! @ Dalkeith https://t.co/slEBFhE0w9   \n",
       "\n",
       "     location.country properties.platform  properties.sentiment  \\\n",
       "1376               GB             twitter                  0.00   \n",
       "932                GB             twitter                  1.00   \n",
       "144                GB             twitter                 -1.00   \n",
       "\n",
       "      location.latitude  location.longitude  \n",
       "1376              53.42               -2.92  \n",
       "932               53.37               -2.17  \n",
       "144               55.87               -3.07  "
      ]
     },
     "execution_count": 18,
     "metadata": {},
     "output_type": "execute_result"
    }
   ],
   "source": [
    "test_data.head(3)"
   ]
  },
  {
   "cell_type": "markdown",
   "id": "8a1551cd",
   "metadata": {},
   "source": [
    "Model Building using Autogluon Tabular Predictor"
   ]
  },
  {
   "cell_type": "code",
   "execution_count": 19,
   "id": "19a84eab",
   "metadata": {},
   "outputs": [],
   "source": [
    "label = 'properties.sentiment'"
   ]
  },
  {
   "cell_type": "code",
   "execution_count": 20,
   "id": "5da0c463",
   "metadata": {},
   "outputs": [
    {
     "name": "stderr",
     "output_type": "stream",
     "text": [
      "Warning: path already exists! This predictor may overwrite an existing predictor! path=\"models/latest\"\n",
      "Beginning AutoGluon training ...\n",
      "AutoGluon will save models to \"models/latest/\"\n",
      "AutoGluon Version:  0.7.0\n",
      "Python Version:     3.9.16\n",
      "Operating System:   Darwin\n",
      "Platform Machine:   x86_64\n",
      "Platform Version:   Darwin Kernel Version 20.6.0: Thu Jul  6 22:12:47 PDT 2023; root:xnu-7195.141.49.702.12~1/RELEASE_X86_64\n",
      "Train Data Rows:    2099\n",
      "Train Data Columns: 8\n",
      "Label Column: properties.sentiment\n",
      "Preprocessing data ...\n",
      "AutoGluon infers your prediction problem is: 'multiclass' (because dtype of label-column == float, but few unique label-values observed and label-values can be converted to int).\n",
      "\t3 unique label values:  [-1.0, 1.0, 0.0]\n",
      "\tIf 'multiclass' is not the correct problem_type, please manually specify the problem_type parameter during predictor init (You may specify problem_type as one of: ['binary', 'multiclass', 'regression'])\n",
      "Train Data Class Count: 3\n",
      "Using Feature Generators to preprocess the data ...\n",
      "Fitting AutoMLPipelineFeatureGenerator...\n",
      "\tAvailable Memory:                    5461.5 MB\n",
      "\tTrain Data (Original)  Memory Usage: 0.71 MB (0.0% of available memory)\n",
      "\tInferring data type of each feature based on column values. Set feature_metadata_in to manually specify special dtypes of the features.\n",
      "\tStage 1 Generators:\n",
      "\t\tFitting AsTypeFeatureGenerator...\n",
      "\t\t\tNote: Converting 1 features to boolean dtype as they only contain 2 unique values.\n",
      "\tStage 2 Generators:\n",
      "\t\tFitting FillNaFeatureGenerator...\n",
      "\tStage 3 Generators:\n",
      "\t\tFitting IdentityFeatureGenerator...\n",
      "\t\tFitting CategoryFeatureGenerator...\n",
      "\t\t\tFitting CategoryMemoryMinimizeFeatureGenerator...\n",
      "\t\tFitting TextSpecialFeatureGenerator...\n",
      "\t\t\tFitting BinnedFeatureGenerator...\n",
      "\t\t\tFitting DropDuplicatesFeatureGenerator...\n",
      "\t\tFitting TextNgramFeatureGenerator...\n",
      "\t\t\tFitting CountVectorizer for text features: ['content.body']\n",
      "\t\t\tCountVectorizer fit with vocabulary size = 90\n",
      "\tStage 4 Generators:\n",
      "\t\tFitting DropUniqueFeatureGenerator...\n",
      "\tUseless Original Features (Count: 1): ['properties.platform']\n",
      "\t\tThese features carry no predictive signal and should be manually investigated.\n",
      "\t\tThis is typically a feature which has the same value for all rows.\n",
      "\t\tThese features do not need to be present at inference time.\n",
      "\tTypes of features in original data (raw dtype, special dtypes):\n",
      "\t\t('bool', [])         : 1 | ['author.properties.verified']\n",
      "\t\t('float', [])        : 3 | ['author.properties.status_count', 'location.latitude', 'location.longitude']\n",
      "\t\t('int', [])          : 1 | ['author.properties.friends']\n",
      "\t\t('object', [])       : 1 | ['location.country']\n",
      "\t\t('object', ['text']) : 1 | ['content.body']\n",
      "\tTypes of features in processed data (raw dtype, special dtypes):\n",
      "\t\t('category', [])                    :  1 | ['location.country']\n",
      "\t\t('float', [])                       :  3 | ['author.properties.status_count', 'location.latitude', 'location.longitude']\n",
      "\t\t('int', [])                         :  1 | ['author.properties.friends']\n",
      "\t\t('int', ['binned', 'text_special']) : 26 | ['content.body.char_count', 'content.body.word_count', 'content.body.capital_ratio', 'content.body.lower_ratio', 'content.body.digit_ratio', ...]\n",
      "\t\t('int', ['bool'])                   :  1 | ['author.properties.verified']\n",
      "\t\t('int', ['text_ngram'])             : 91 | ['__nlp__.about', '__nlp__.all', '__nlp__.am', '__nlp__.an', '__nlp__.and', ...]\n",
      "\t1.4s = Fit runtime\n",
      "\t7 features in original data used to generate 123 features in processed data.\n",
      "\tTrain Data (Processed) Memory Usage: 0.51 MB (0.0% of available memory)\n",
      "Data preprocessing and feature engineering runtime = 1.6s ...\n",
      "AutoGluon will gauge predictive performance using evaluation metric: 'accuracy'\n",
      "\tTo change this, specify the eval_metric parameter of Predictor()\n",
      "Automatically generating train/validation split with holdout_frac=0.2, Train Rows: 1679, Val Rows: 420\n",
      "Fitting 13 L1 models ...\n",
      "Fitting model: KNeighborsUnif ...\n",
      "\t0.4643\t = Validation score   (accuracy)\n",
      "\t7.47s\t = Training   runtime\n",
      "\t0.08s\t = Validation runtime\n",
      "Fitting model: KNeighborsDist ...\n",
      "\t0.4429\t = Validation score   (accuracy)\n",
      "\t0.1s\t = Training   runtime\n",
      "\t0.01s\t = Validation runtime\n",
      "Fitting model: NeuralNetFastAI ...\n",
      "No improvement since epoch 3: early stopping\n",
      "\t0.6262\t = Validation score   (accuracy)\n",
      "\t4.35s\t = Training   runtime\n",
      "\t0.03s\t = Validation runtime\n",
      "Fitting model: LightGBMXT ...\n",
      "\tWarning: Exception caused LightGBMXT to fail during training (ImportError)... Skipping this model.\n",
      "\t\t`import lightgbm` failed. If you are using Mac OSX, Please try 'brew install libomp'. Detailed info: dlopen(/Users/macbook/opt/anaconda3/envs/twittersentiment_env/lib/python3.9/site-packages/lightgbm/lib_lightgbm.so, 6): Library not loaded: /usr/local/opt/libomp/lib/libomp.dylib\n",
      "  Referenced from: /Users/macbook/opt/anaconda3/envs/twittersentiment_env/lib/python3.9/site-packages/lightgbm/lib_lightgbm.so\n",
      "  Reason: image not found\n",
      "Fitting model: LightGBM ...\n",
      "\tWarning: Exception caused LightGBM to fail during training (ImportError)... Skipping this model.\n",
      "\t\t`import lightgbm` failed. If you are using Mac OSX, Please try 'brew install libomp'. Detailed info: dlopen(/Users/macbook/opt/anaconda3/envs/twittersentiment_env/lib/python3.9/site-packages/lightgbm/lib_lightgbm.so, 6): Library not loaded: /usr/local/opt/libomp/lib/libomp.dylib\n",
      "  Referenced from: /Users/macbook/opt/anaconda3/envs/twittersentiment_env/lib/python3.9/site-packages/lightgbm/lib_lightgbm.so\n",
      "  Reason: image not found\n",
      "Fitting model: RandomForestGini ...\n",
      "\t0.6571\t = Validation score   (accuracy)\n",
      "\t1.59s\t = Training   runtime\n",
      "\t0.08s\t = Validation runtime\n",
      "Fitting model: RandomForestEntr ...\n",
      "\t0.6357\t = Validation score   (accuracy)\n",
      "\t1.04s\t = Training   runtime\n",
      "\t0.08s\t = Validation runtime\n",
      "Fitting model: CatBoost ...\n",
      "\t0.6762\t = Validation score   (accuracy)\n",
      "\t4.8s\t = Training   runtime\n",
      "\t0.01s\t = Validation runtime\n",
      "Fitting model: ExtraTreesGini ...\n",
      "\t0.6595\t = Validation score   (accuracy)\n",
      "\t0.91s\t = Training   runtime\n",
      "\t0.07s\t = Validation runtime\n",
      "Fitting model: ExtraTreesEntr ...\n",
      "\t0.6738\t = Validation score   (accuracy)\n",
      "\t0.9s\t = Training   runtime\n",
      "\t0.08s\t = Validation runtime\n",
      "Fitting model: XGBoost ...\n",
      "\t0.6548\t = Validation score   (accuracy)\n",
      "\t1.68s\t = Training   runtime\n",
      "\t0.01s\t = Validation runtime\n",
      "Fitting model: NeuralNetTorch ...\n",
      "\t0.6357\t = Validation score   (accuracy)\n",
      "\t5.28s\t = Training   runtime\n",
      "\t0.03s\t = Validation runtime\n",
      "Fitting model: LightGBMLarge ...\n",
      "\tWarning: Exception caused LightGBMLarge to fail during training (ImportError)... Skipping this model.\n",
      "\t\t`import lightgbm` failed. If you are using Mac OSX, Please try 'brew install libomp'. Detailed info: dlopen(/Users/macbook/opt/anaconda3/envs/twittersentiment_env/lib/python3.9/site-packages/lightgbm/lib_lightgbm.so, 6): Library not loaded: /usr/local/opt/libomp/lib/libomp.dylib\n",
      "  Referenced from: /Users/macbook/opt/anaconda3/envs/twittersentiment_env/lib/python3.9/site-packages/lightgbm/lib_lightgbm.so\n",
      "  Reason: image not found\n",
      "Fitting model: WeightedEnsemble_L2 ...\n",
      "\t0.6833\t = Validation score   (accuracy)\n",
      "\t0.65s\t = Training   runtime\n",
      "\t0.0s\t = Validation runtime\n",
      "AutoGluon training complete, total runtime = 33.16s ... Best model: \"WeightedEnsemble_L2\"\n",
      "TabularPredictor saved. To load, use: predictor = TabularPredictor.load(\"models/latest/\")\n"
     ]
    },
    {
     "name": "stdout",
     "output_type": "stream",
     "text": [
      "CPU times: user 36.2 s, sys: 2.79 s, total: 39 s\n",
      "Wall time: 33.3 s\n"
     ]
    }
   ],
   "source": [
    "%%time\n",
    "\n",
    "save_path = 'models/latest'\n",
    "predictor = TabularPredictor(label=label, path=save_path).fit(train_data)"
   ]
  },
  {
   "cell_type": "code",
   "execution_count": 21,
   "id": "5586418d",
   "metadata": {},
   "outputs": [],
   "source": [
    "predictor = TabularPredictor.load(\"models/latest\")"
   ]
  },
  {
   "cell_type": "code",
   "execution_count": 22,
   "id": "64a305eb",
   "metadata": {},
   "outputs": [
    {
     "data": {
      "text/html": [
       "<div>\n",
       "<style scoped>\n",
       "    .dataframe tbody tr th:only-of-type {\n",
       "        vertical-align: middle;\n",
       "    }\n",
       "\n",
       "    .dataframe tbody tr th {\n",
       "        vertical-align: top;\n",
       "    }\n",
       "\n",
       "    .dataframe thead th {\n",
       "        text-align: right;\n",
       "    }\n",
       "</style>\n",
       "<table border=\"1\" class=\"dataframe\">\n",
       "  <thead>\n",
       "    <tr style=\"text-align: right;\">\n",
       "      <th></th>\n",
       "      <th>model</th>\n",
       "      <th>score_val</th>\n",
       "      <th>pred_time_val</th>\n",
       "      <th>fit_time</th>\n",
       "      <th>pred_time_val_marginal</th>\n",
       "      <th>fit_time_marginal</th>\n",
       "      <th>stack_level</th>\n",
       "      <th>can_infer</th>\n",
       "      <th>fit_order</th>\n",
       "    </tr>\n",
       "  </thead>\n",
       "  <tbody>\n",
       "    <tr>\n",
       "      <th>0</th>\n",
       "      <td>WeightedEnsemble_L2</td>\n",
       "      <td>0.68</td>\n",
       "      <td>0.18</td>\n",
       "      <td>9.64</td>\n",
       "      <td>0.00</td>\n",
       "      <td>0.65</td>\n",
       "      <td>2</td>\n",
       "      <td>True</td>\n",
       "      <td>11</td>\n",
       "    </tr>\n",
       "    <tr>\n",
       "      <th>1</th>\n",
       "      <td>CatBoost</td>\n",
       "      <td>0.68</td>\n",
       "      <td>0.01</td>\n",
       "      <td>4.80</td>\n",
       "      <td>0.01</td>\n",
       "      <td>4.80</td>\n",
       "      <td>1</td>\n",
       "      <td>True</td>\n",
       "      <td>6</td>\n",
       "    </tr>\n",
       "    <tr>\n",
       "      <th>2</th>\n",
       "      <td>ExtraTreesEntr</td>\n",
       "      <td>0.67</td>\n",
       "      <td>0.08</td>\n",
       "      <td>0.90</td>\n",
       "      <td>0.08</td>\n",
       "      <td>0.90</td>\n",
       "      <td>1</td>\n",
       "      <td>True</td>\n",
       "      <td>8</td>\n",
       "    </tr>\n",
       "    <tr>\n",
       "      <th>3</th>\n",
       "      <td>ExtraTreesGini</td>\n",
       "      <td>0.66</td>\n",
       "      <td>0.07</td>\n",
       "      <td>0.91</td>\n",
       "      <td>0.07</td>\n",
       "      <td>0.91</td>\n",
       "      <td>1</td>\n",
       "      <td>True</td>\n",
       "      <td>7</td>\n",
       "    </tr>\n",
       "    <tr>\n",
       "      <th>4</th>\n",
       "      <td>RandomForestGini</td>\n",
       "      <td>0.66</td>\n",
       "      <td>0.08</td>\n",
       "      <td>1.59</td>\n",
       "      <td>0.08</td>\n",
       "      <td>1.59</td>\n",
       "      <td>1</td>\n",
       "      <td>True</td>\n",
       "      <td>4</td>\n",
       "    </tr>\n",
       "    <tr>\n",
       "      <th>5</th>\n",
       "      <td>XGBoost</td>\n",
       "      <td>0.65</td>\n",
       "      <td>0.01</td>\n",
       "      <td>1.68</td>\n",
       "      <td>0.01</td>\n",
       "      <td>1.68</td>\n",
       "      <td>1</td>\n",
       "      <td>True</td>\n",
       "      <td>9</td>\n",
       "    </tr>\n",
       "    <tr>\n",
       "      <th>6</th>\n",
       "      <td>NeuralNetTorch</td>\n",
       "      <td>0.64</td>\n",
       "      <td>0.03</td>\n",
       "      <td>5.28</td>\n",
       "      <td>0.03</td>\n",
       "      <td>5.28</td>\n",
       "      <td>1</td>\n",
       "      <td>True</td>\n",
       "      <td>10</td>\n",
       "    </tr>\n",
       "    <tr>\n",
       "      <th>7</th>\n",
       "      <td>RandomForestEntr</td>\n",
       "      <td>0.64</td>\n",
       "      <td>0.08</td>\n",
       "      <td>1.04</td>\n",
       "      <td>0.08</td>\n",
       "      <td>1.04</td>\n",
       "      <td>1</td>\n",
       "      <td>True</td>\n",
       "      <td>5</td>\n",
       "    </tr>\n",
       "    <tr>\n",
       "      <th>8</th>\n",
       "      <td>NeuralNetFastAI</td>\n",
       "      <td>0.63</td>\n",
       "      <td>0.03</td>\n",
       "      <td>4.35</td>\n",
       "      <td>0.03</td>\n",
       "      <td>4.35</td>\n",
       "      <td>1</td>\n",
       "      <td>True</td>\n",
       "      <td>3</td>\n",
       "    </tr>\n",
       "    <tr>\n",
       "      <th>9</th>\n",
       "      <td>KNeighborsUnif</td>\n",
       "      <td>0.46</td>\n",
       "      <td>0.08</td>\n",
       "      <td>7.47</td>\n",
       "      <td>0.08</td>\n",
       "      <td>7.47</td>\n",
       "      <td>1</td>\n",
       "      <td>True</td>\n",
       "      <td>1</td>\n",
       "    </tr>\n",
       "    <tr>\n",
       "      <th>10</th>\n",
       "      <td>KNeighborsDist</td>\n",
       "      <td>0.44</td>\n",
       "      <td>0.01</td>\n",
       "      <td>0.10</td>\n",
       "      <td>0.01</td>\n",
       "      <td>0.10</td>\n",
       "      <td>1</td>\n",
       "      <td>True</td>\n",
       "      <td>2</td>\n",
       "    </tr>\n",
       "  </tbody>\n",
       "</table>\n",
       "</div>"
      ],
      "text/plain": [
       "                  model  score_val  pred_time_val  fit_time  \\\n",
       "0   WeightedEnsemble_L2       0.68           0.18      9.64   \n",
       "1              CatBoost       0.68           0.01      4.80   \n",
       "2        ExtraTreesEntr       0.67           0.08      0.90   \n",
       "3        ExtraTreesGini       0.66           0.07      0.91   \n",
       "4      RandomForestGini       0.66           0.08      1.59   \n",
       "5               XGBoost       0.65           0.01      1.68   \n",
       "6        NeuralNetTorch       0.64           0.03      5.28   \n",
       "7      RandomForestEntr       0.64           0.08      1.04   \n",
       "8       NeuralNetFastAI       0.63           0.03      4.35   \n",
       "9        KNeighborsUnif       0.46           0.08      7.47   \n",
       "10       KNeighborsDist       0.44           0.01      0.10   \n",
       "\n",
       "    pred_time_val_marginal  fit_time_marginal  stack_level  can_infer  \\\n",
       "0                     0.00               0.65            2       True   \n",
       "1                     0.01               4.80            1       True   \n",
       "2                     0.08               0.90            1       True   \n",
       "3                     0.07               0.91            1       True   \n",
       "4                     0.08               1.59            1       True   \n",
       "5                     0.01               1.68            1       True   \n",
       "6                     0.03               5.28            1       True   \n",
       "7                     0.08               1.04            1       True   \n",
       "8                     0.03               4.35            1       True   \n",
       "9                     0.08               7.47            1       True   \n",
       "10                    0.01               0.10            1       True   \n",
       "\n",
       "    fit_order  \n",
       "0          11  \n",
       "1           6  \n",
       "2           8  \n",
       "3           7  \n",
       "4           4  \n",
       "5           9  \n",
       "6          10  \n",
       "7           5  \n",
       "8           3  \n",
       "9           1  \n",
       "10          2  "
      ]
     },
     "execution_count": 22,
     "metadata": {},
     "output_type": "execute_result"
    }
   ],
   "source": [
    "predictor.leaderboard(silent=True)"
   ]
  },
  {
   "cell_type": "markdown",
   "id": "96a422eb",
   "metadata": {},
   "source": [
    "## Model Evaluation"
   ]
  },
  {
   "cell_type": "markdown",
   "id": "6ff4b84e",
   "metadata": {},
   "source": [
    "load test data to make predictions"
   ]
  },
  {
   "cell_type": "code",
   "execution_count": 23,
   "id": "e29f3b2a",
   "metadata": {},
   "outputs": [],
   "source": [
    "y_test = test_data[label]"
   ]
  },
  {
   "cell_type": "code",
   "execution_count": 24,
   "id": "7b21f86f",
   "metadata": {},
   "outputs": [
    {
     "data": {
      "text/plain": [
       "1376    0.00\n",
       "932     1.00\n",
       "144    -1.00\n",
       "1752    0.00\n",
       "51     -1.00\n",
       "Name: properties.sentiment, dtype: float64"
      ]
     },
     "execution_count": 24,
     "metadata": {},
     "output_type": "execute_result"
    }
   ],
   "source": [
    "y_test.head()"
   ]
  },
  {
   "cell_type": "markdown",
   "id": "33ca4dfd",
   "metadata": {},
   "source": [
    "Define the values to predict"
   ]
  },
  {
   "cell_type": "code",
   "execution_count": 25,
   "id": "9fea6293",
   "metadata": {},
   "outputs": [],
   "source": [
    "y_test = test_data[label]"
   ]
  },
  {
   "cell_type": "code",
   "execution_count": 26,
   "id": "f60572fe",
   "metadata": {},
   "outputs": [
    {
     "data": {
      "text/plain": [
       "1376    0.00\n",
       "932     1.00\n",
       "144    -1.00\n",
       "1752    0.00\n",
       "51     -1.00\n",
       "Name: properties.sentiment, dtype: float64"
      ]
     },
     "execution_count": 26,
     "metadata": {},
     "output_type": "execute_result"
    }
   ],
   "source": [
    "y_test [0:5]"
   ]
  },
  {
   "cell_type": "markdown",
   "id": "9d1ba292",
   "metadata": {},
   "source": [
    "Delete label/target column to avoid cheating."
   ]
  },
  {
   "cell_type": "code",
   "execution_count": 27,
   "id": "1b9614d1",
   "metadata": {},
   "outputs": [],
   "source": [
    "test_data_nolab = test_data.drop(columns=[label])"
   ]
  },
  {
   "cell_type": "code",
   "execution_count": 28,
   "id": "94e99b09",
   "metadata": {
    "scrolled": true
   },
   "outputs": [
    {
     "data": {
      "text/html": [
       "<div>\n",
       "<style scoped>\n",
       "    .dataframe tbody tr th:only-of-type {\n",
       "        vertical-align: middle;\n",
       "    }\n",
       "\n",
       "    .dataframe tbody tr th {\n",
       "        vertical-align: top;\n",
       "    }\n",
       "\n",
       "    .dataframe thead th {\n",
       "        text-align: right;\n",
       "    }\n",
       "</style>\n",
       "<table border=\"1\" class=\"dataframe\">\n",
       "  <thead>\n",
       "    <tr style=\"text-align: right;\">\n",
       "      <th></th>\n",
       "      <th>author.properties.friends</th>\n",
       "      <th>author.properties.status_count</th>\n",
       "      <th>author.properties.verified</th>\n",
       "      <th>content.body</th>\n",
       "      <th>location.country</th>\n",
       "      <th>properties.platform</th>\n",
       "      <th>location.latitude</th>\n",
       "      <th>location.longitude</th>\n",
       "    </tr>\n",
       "  </thead>\n",
       "  <tbody>\n",
       "    <tr>\n",
       "      <th>1376</th>\n",
       "      <td>282</td>\n",
       "      <td>2085.00</td>\n",
       "      <td>False</td>\n",
       "      <td>@Donforester Many established 1st generation immigrants want to restrict immigration. Many 2nd generation eg Irish more welcoming</td>\n",
       "      <td>GB</td>\n",
       "      <td>twitter</td>\n",
       "      <td>53.42</td>\n",
       "      <td>-2.92</td>\n",
       "    </tr>\n",
       "    <tr>\n",
       "      <th>932</th>\n",
       "      <td>51</td>\n",
       "      <td>12533.00</td>\n",
       "      <td>False</td>\n",
       "      <td>@smollyalexander thank u hunty</td>\n",
       "      <td>GB</td>\n",
       "      <td>twitter</td>\n",
       "      <td>53.37</td>\n",
       "      <td>-2.17</td>\n",
       "    </tr>\n",
       "    <tr>\n",
       "      <th>144</th>\n",
       "      <td>931</td>\n",
       "      <td>307.00</td>\n",
       "      <td>False</td>\n",
       "      <td>Hedge removal part one...!! @ Dalkeith https://t.co/slEBFhE0w9</td>\n",
       "      <td>GB</td>\n",
       "      <td>twitter</td>\n",
       "      <td>55.87</td>\n",
       "      <td>-3.07</td>\n",
       "    </tr>\n",
       "  </tbody>\n",
       "</table>\n",
       "</div>"
      ],
      "text/plain": [
       "      author.properties.friends  author.properties.status_count  \\\n",
       "1376                        282                         2085.00   \n",
       "932                          51                        12533.00   \n",
       "144                         931                          307.00   \n",
       "\n",
       "      author.properties.verified  \\\n",
       "1376                       False   \n",
       "932                        False   \n",
       "144                        False   \n",
       "\n",
       "                                                                                                                           content.body  \\\n",
       "1376  @Donforester Many established 1st generation immigrants want to restrict immigration. Many 2nd generation eg Irish more welcoming   \n",
       "932                                                                                                      @smollyalexander thank u hunty   \n",
       "144                                                                      Hedge removal part one...!! @ Dalkeith https://t.co/slEBFhE0w9   \n",
       "\n",
       "     location.country properties.platform  location.latitude  \\\n",
       "1376               GB             twitter              53.42   \n",
       "932                GB             twitter              53.37   \n",
       "144                GB             twitter              55.87   \n",
       "\n",
       "      location.longitude  \n",
       "1376               -2.92  \n",
       "932                -2.17  \n",
       "144                -3.07  "
      ]
     },
     "execution_count": 28,
     "metadata": {},
     "output_type": "execute_result"
    }
   ],
   "source": [
    "test_data_nolab.head(3)"
   ]
  },
  {
   "cell_type": "markdown",
   "id": "2e355fc0",
   "metadata": {},
   "source": [
    "confirming defined save path & predictor"
   ]
  },
  {
   "cell_type": "code",
   "execution_count": 29,
   "id": "035de9dc",
   "metadata": {},
   "outputs": [
    {
     "data": {
      "text/plain": [
       "'models/latest'"
      ]
     },
     "execution_count": 29,
     "metadata": {},
     "output_type": "execute_result"
    }
   ],
   "source": [
    "save_path"
   ]
  },
  {
   "cell_type": "code",
   "execution_count": 30,
   "id": "fc9411af",
   "metadata": {},
   "outputs": [
    {
     "data": {
      "text/plain": [
       "<autogluon.tabular.predictor.predictor.TabularPredictor at 0x144558880>"
      ]
     },
     "execution_count": 30,
     "metadata": {},
     "output_type": "execute_result"
    }
   ],
   "source": [
    "predictor"
   ]
  },
  {
   "cell_type": "code",
   "execution_count": 31,
   "id": "7bae9f8e",
   "metadata": {},
   "outputs": [],
   "source": [
    "save_model_predictor = TabularPredictor.load(save_path)"
   ]
  },
  {
   "cell_type": "code",
   "execution_count": 32,
   "id": "8943f76f",
   "metadata": {},
   "outputs": [
    {
     "data": {
      "text/plain": [
       "<autogluon.tabular.predictor.predictor.TabularPredictor at 0x1035471f0>"
      ]
     },
     "execution_count": 32,
     "metadata": {},
     "output_type": "execute_result"
    }
   ],
   "source": [
    "save_model_predictor"
   ]
  },
  {
   "cell_type": "code",
   "execution_count": 33,
   "id": "a6e1f467",
   "metadata": {},
   "outputs": [],
   "source": [
    "y_pred = save_model_predictor.predict(test_data_nolab)"
   ]
  },
  {
   "cell_type": "code",
   "execution_count": 34,
   "id": "7fd6a5c5",
   "metadata": {},
   "outputs": [
    {
     "data": {
      "text/plain": [
       "1376   -1.00\n",
       "932    -1.00\n",
       "144    -1.00\n",
       "1752    0.00\n",
       "51     -1.00\n",
       "Name: properties.sentiment, dtype: float64"
      ]
     },
     "execution_count": 34,
     "metadata": {},
     "output_type": "execute_result"
    }
   ],
   "source": [
    "y_pred[0:5]"
   ]
  },
  {
   "cell_type": "code",
   "execution_count": 35,
   "id": "d606f132",
   "metadata": {},
   "outputs": [
    {
     "name": "stderr",
     "output_type": "stream",
     "text": [
      "Evaluation: accuracy on test data: 0.6188888888888889\n",
      "Evaluations on test data:\n",
      "{\n",
      "    \"accuracy\": 0.6188888888888889,\n",
      "    \"balanced_accuracy\": 0.5567001055973813,\n",
      "    \"mcc\": 0.37610238921351147\n",
      "}\n"
     ]
    }
   ],
   "source": [
    "perf = predictor.evaluate_predictions(y_true=y_test, y_pred=y_pred, auxiliary_metrics=True)"
   ]
  },
  {
   "cell_type": "markdown",
   "id": "969f9240",
   "metadata": {},
   "source": [
    "# Predictor Leaderboard"
   ]
  },
  {
   "cell_type": "markdown",
   "id": "fc0264cb",
   "metadata": {},
   "source": [
    "Comparing the perfomance of autogluon models with the Predictor Leaderboard"
   ]
  },
  {
   "cell_type": "code",
   "execution_count": 36,
   "id": "5f004788",
   "metadata": {},
   "outputs": [
    {
     "data": {
      "text/html": [
       "<div>\n",
       "<style scoped>\n",
       "    .dataframe tbody tr th:only-of-type {\n",
       "        vertical-align: middle;\n",
       "    }\n",
       "\n",
       "    .dataframe tbody tr th {\n",
       "        vertical-align: top;\n",
       "    }\n",
       "\n",
       "    .dataframe thead th {\n",
       "        text-align: right;\n",
       "    }\n",
       "</style>\n",
       "<table border=\"1\" class=\"dataframe\">\n",
       "  <thead>\n",
       "    <tr style=\"text-align: right;\">\n",
       "      <th></th>\n",
       "      <th>model</th>\n",
       "      <th>score_test</th>\n",
       "      <th>score_val</th>\n",
       "      <th>pred_time_test</th>\n",
       "      <th>pred_time_val</th>\n",
       "      <th>fit_time</th>\n",
       "      <th>pred_time_test_marginal</th>\n",
       "      <th>pred_time_val_marginal</th>\n",
       "      <th>fit_time_marginal</th>\n",
       "      <th>stack_level</th>\n",
       "      <th>can_infer</th>\n",
       "      <th>fit_order</th>\n",
       "    </tr>\n",
       "  </thead>\n",
       "  <tbody>\n",
       "    <tr>\n",
       "      <th>0</th>\n",
       "      <td>RandomForestGini</td>\n",
       "      <td>0.64</td>\n",
       "      <td>0.66</td>\n",
       "      <td>0.17</td>\n",
       "      <td>0.08</td>\n",
       "      <td>1.59</td>\n",
       "      <td>0.17</td>\n",
       "      <td>0.08</td>\n",
       "      <td>1.59</td>\n",
       "      <td>1</td>\n",
       "      <td>True</td>\n",
       "      <td>4</td>\n",
       "    </tr>\n",
       "    <tr>\n",
       "      <th>1</th>\n",
       "      <td>ExtraTreesGini</td>\n",
       "      <td>0.62</td>\n",
       "      <td>0.66</td>\n",
       "      <td>0.16</td>\n",
       "      <td>0.07</td>\n",
       "      <td>0.91</td>\n",
       "      <td>0.16</td>\n",
       "      <td>0.07</td>\n",
       "      <td>0.91</td>\n",
       "      <td>1</td>\n",
       "      <td>True</td>\n",
       "      <td>7</td>\n",
       "    </tr>\n",
       "    <tr>\n",
       "      <th>2</th>\n",
       "      <td>WeightedEnsemble_L2</td>\n",
       "      <td>0.62</td>\n",
       "      <td>0.68</td>\n",
       "      <td>0.41</td>\n",
       "      <td>0.18</td>\n",
       "      <td>9.64</td>\n",
       "      <td>0.01</td>\n",
       "      <td>0.00</td>\n",
       "      <td>0.65</td>\n",
       "      <td>2</td>\n",
       "      <td>True</td>\n",
       "      <td>11</td>\n",
       "    </tr>\n",
       "    <tr>\n",
       "      <th>3</th>\n",
       "      <td>ExtraTreesEntr</td>\n",
       "      <td>0.62</td>\n",
       "      <td>0.67</td>\n",
       "      <td>0.16</td>\n",
       "      <td>0.08</td>\n",
       "      <td>0.90</td>\n",
       "      <td>0.16</td>\n",
       "      <td>0.08</td>\n",
       "      <td>0.90</td>\n",
       "      <td>1</td>\n",
       "      <td>True</td>\n",
       "      <td>8</td>\n",
       "    </tr>\n",
       "    <tr>\n",
       "      <th>4</th>\n",
       "      <td>RandomForestEntr</td>\n",
       "      <td>0.61</td>\n",
       "      <td>0.64</td>\n",
       "      <td>0.16</td>\n",
       "      <td>0.08</td>\n",
       "      <td>1.04</td>\n",
       "      <td>0.16</td>\n",
       "      <td>0.08</td>\n",
       "      <td>1.04</td>\n",
       "      <td>1</td>\n",
       "      <td>True</td>\n",
       "      <td>5</td>\n",
       "    </tr>\n",
       "    <tr>\n",
       "      <th>5</th>\n",
       "      <td>CatBoost</td>\n",
       "      <td>0.61</td>\n",
       "      <td>0.68</td>\n",
       "      <td>0.02</td>\n",
       "      <td>0.01</td>\n",
       "      <td>4.80</td>\n",
       "      <td>0.02</td>\n",
       "      <td>0.01</td>\n",
       "      <td>4.80</td>\n",
       "      <td>1</td>\n",
       "      <td>True</td>\n",
       "      <td>6</td>\n",
       "    </tr>\n",
       "    <tr>\n",
       "      <th>6</th>\n",
       "      <td>XGBoost</td>\n",
       "      <td>0.60</td>\n",
       "      <td>0.65</td>\n",
       "      <td>0.04</td>\n",
       "      <td>0.01</td>\n",
       "      <td>1.68</td>\n",
       "      <td>0.04</td>\n",
       "      <td>0.01</td>\n",
       "      <td>1.68</td>\n",
       "      <td>1</td>\n",
       "      <td>True</td>\n",
       "      <td>9</td>\n",
       "    </tr>\n",
       "    <tr>\n",
       "      <th>7</th>\n",
       "      <td>NeuralNetTorch</td>\n",
       "      <td>0.58</td>\n",
       "      <td>0.64</td>\n",
       "      <td>0.04</td>\n",
       "      <td>0.03</td>\n",
       "      <td>5.28</td>\n",
       "      <td>0.04</td>\n",
       "      <td>0.03</td>\n",
       "      <td>5.28</td>\n",
       "      <td>1</td>\n",
       "      <td>True</td>\n",
       "      <td>10</td>\n",
       "    </tr>\n",
       "    <tr>\n",
       "      <th>8</th>\n",
       "      <td>NeuralNetFastAI</td>\n",
       "      <td>0.57</td>\n",
       "      <td>0.63</td>\n",
       "      <td>0.04</td>\n",
       "      <td>0.03</td>\n",
       "      <td>4.35</td>\n",
       "      <td>0.04</td>\n",
       "      <td>0.03</td>\n",
       "      <td>4.35</td>\n",
       "      <td>1</td>\n",
       "      <td>True</td>\n",
       "      <td>3</td>\n",
       "    </tr>\n",
       "    <tr>\n",
       "      <th>9</th>\n",
       "      <td>KNeighborsUnif</td>\n",
       "      <td>0.42</td>\n",
       "      <td>0.46</td>\n",
       "      <td>0.02</td>\n",
       "      <td>0.08</td>\n",
       "      <td>7.47</td>\n",
       "      <td>0.02</td>\n",
       "      <td>0.08</td>\n",
       "      <td>7.47</td>\n",
       "      <td>1</td>\n",
       "      <td>True</td>\n",
       "      <td>1</td>\n",
       "    </tr>\n",
       "    <tr>\n",
       "      <th>10</th>\n",
       "      <td>KNeighborsDist</td>\n",
       "      <td>0.41</td>\n",
       "      <td>0.44</td>\n",
       "      <td>0.02</td>\n",
       "      <td>0.01</td>\n",
       "      <td>0.10</td>\n",
       "      <td>0.02</td>\n",
       "      <td>0.01</td>\n",
       "      <td>0.10</td>\n",
       "      <td>1</td>\n",
       "      <td>True</td>\n",
       "      <td>2</td>\n",
       "    </tr>\n",
       "  </tbody>\n",
       "</table>\n",
       "</div>"
      ],
      "text/plain": [
       "                  model  score_test  score_val  pred_time_test  pred_time_val  \\\n",
       "0      RandomForestGini        0.64       0.66            0.17           0.08   \n",
       "1        ExtraTreesGini        0.62       0.66            0.16           0.07   \n",
       "2   WeightedEnsemble_L2        0.62       0.68            0.41           0.18   \n",
       "3        ExtraTreesEntr        0.62       0.67            0.16           0.08   \n",
       "4      RandomForestEntr        0.61       0.64            0.16           0.08   \n",
       "5              CatBoost        0.61       0.68            0.02           0.01   \n",
       "6               XGBoost        0.60       0.65            0.04           0.01   \n",
       "7        NeuralNetTorch        0.58       0.64            0.04           0.03   \n",
       "8       NeuralNetFastAI        0.57       0.63            0.04           0.03   \n",
       "9        KNeighborsUnif        0.42       0.46            0.02           0.08   \n",
       "10       KNeighborsDist        0.41       0.44            0.02           0.01   \n",
       "\n",
       "    fit_time  pred_time_test_marginal  pred_time_val_marginal  \\\n",
       "0       1.59                     0.17                    0.08   \n",
       "1       0.91                     0.16                    0.07   \n",
       "2       9.64                     0.01                    0.00   \n",
       "3       0.90                     0.16                    0.08   \n",
       "4       1.04                     0.16                    0.08   \n",
       "5       4.80                     0.02                    0.01   \n",
       "6       1.68                     0.04                    0.01   \n",
       "7       5.28                     0.04                    0.03   \n",
       "8       4.35                     0.04                    0.03   \n",
       "9       7.47                     0.02                    0.08   \n",
       "10      0.10                     0.02                    0.01   \n",
       "\n",
       "    fit_time_marginal  stack_level  can_infer  fit_order  \n",
       "0                1.59            1       True          4  \n",
       "1                0.91            1       True          7  \n",
       "2                0.65            2       True         11  \n",
       "3                0.90            1       True          8  \n",
       "4                1.04            1       True          5  \n",
       "5                4.80            1       True          6  \n",
       "6                1.68            1       True          9  \n",
       "7                5.28            1       True         10  \n",
       "8                4.35            1       True          3  \n",
       "9                7.47            1       True          1  \n",
       "10               0.10            1       True          2  "
      ]
     },
     "execution_count": 36,
     "metadata": {},
     "output_type": "execute_result"
    }
   ],
   "source": [
    "save_model_predictor.leaderboard(test_data, silent=True)"
   ]
  },
  {
   "cell_type": "markdown",
   "id": "c589d37a",
   "metadata": {},
   "source": [
    "## Feature Importance"
   ]
  },
  {
   "cell_type": "markdown",
   "id": "56d23ca8",
   "metadata": {},
   "source": [
    "Checking the importance of different features (columns) on the test and train data"
   ]
  },
  {
   "cell_type": "markdown",
   "id": "c5867318",
   "metadata": {},
   "source": [
    "For `test_data`..."
   ]
  },
  {
   "cell_type": "code",
   "execution_count": 37,
   "id": "af7e391a",
   "metadata": {
    "scrolled": true
   },
   "outputs": [
    {
     "name": "stderr",
     "output_type": "stream",
     "text": [
      "These features in provided data are not utilized by the predictor and will be ignored: ['properties.platform']\n"
     ]
    },
    {
     "data": {
      "text/html": [
       "<div>\n",
       "<style scoped>\n",
       "    .dataframe tbody tr th:only-of-type {\n",
       "        vertical-align: middle;\n",
       "    }\n",
       "\n",
       "    .dataframe tbody tr th {\n",
       "        vertical-align: top;\n",
       "    }\n",
       "\n",
       "    .dataframe thead th {\n",
       "        text-align: right;\n",
       "    }\n",
       "</style>\n",
       "<table border=\"1\" class=\"dataframe\">\n",
       "  <thead>\n",
       "    <tr style=\"text-align: right;\">\n",
       "      <th></th>\n",
       "      <th>importance</th>\n",
       "      <th>stddev</th>\n",
       "      <th>p_value</th>\n",
       "      <th>n</th>\n",
       "      <th>p99_high</th>\n",
       "      <th>p99_low</th>\n",
       "    </tr>\n",
       "  </thead>\n",
       "  <tbody>\n",
       "    <tr>\n",
       "      <th>content.body</th>\n",
       "      <td>0.24</td>\n",
       "      <td>0.01</td>\n",
       "      <td>0.00</td>\n",
       "      <td>5</td>\n",
       "      <td>0.25</td>\n",
       "      <td>0.22</td>\n",
       "    </tr>\n",
       "    <tr>\n",
       "      <th>location.longitude</th>\n",
       "      <td>0.00</td>\n",
       "      <td>0.00</td>\n",
       "      <td>0.02</td>\n",
       "      <td>5</td>\n",
       "      <td>0.01</td>\n",
       "      <td>-0.00</td>\n",
       "    </tr>\n",
       "    <tr>\n",
       "      <th>location.latitude</th>\n",
       "      <td>0.00</td>\n",
       "      <td>0.00</td>\n",
       "      <td>0.32</td>\n",
       "      <td>5</td>\n",
       "      <td>0.01</td>\n",
       "      <td>-0.01</td>\n",
       "    </tr>\n",
       "    <tr>\n",
       "      <th>author.properties.status_count</th>\n",
       "      <td>0.00</td>\n",
       "      <td>0.00</td>\n",
       "      <td>0.04</td>\n",
       "      <td>5</td>\n",
       "      <td>0.00</td>\n",
       "      <td>-0.00</td>\n",
       "    </tr>\n",
       "    <tr>\n",
       "      <th>author.properties.friends</th>\n",
       "      <td>0.00</td>\n",
       "      <td>0.00</td>\n",
       "      <td>0.50</td>\n",
       "      <td>5</td>\n",
       "      <td>0.01</td>\n",
       "      <td>-0.01</td>\n",
       "    </tr>\n",
       "    <tr>\n",
       "      <th>author.properties.verified</th>\n",
       "      <td>0.00</td>\n",
       "      <td>0.00</td>\n",
       "      <td>0.50</td>\n",
       "      <td>5</td>\n",
       "      <td>0.00</td>\n",
       "      <td>0.00</td>\n",
       "    </tr>\n",
       "    <tr>\n",
       "      <th>location.country</th>\n",
       "      <td>0.00</td>\n",
       "      <td>0.00</td>\n",
       "      <td>0.50</td>\n",
       "      <td>5</td>\n",
       "      <td>0.00</td>\n",
       "      <td>0.00</td>\n",
       "    </tr>\n",
       "  </tbody>\n",
       "</table>\n",
       "</div>"
      ],
      "text/plain": [
       "                                importance  stddev  p_value  n  p99_high  \\\n",
       "content.body                          0.24    0.01     0.00  5      0.25   \n",
       "location.longitude                    0.00    0.00     0.02  5      0.01   \n",
       "location.latitude                     0.00    0.00     0.32  5      0.01   \n",
       "author.properties.status_count        0.00    0.00     0.04  5      0.00   \n",
       "author.properties.friends             0.00    0.00     0.50  5      0.01   \n",
       "author.properties.verified            0.00    0.00     0.50  5      0.00   \n",
       "location.country                      0.00    0.00     0.50  5      0.00   \n",
       "\n",
       "                                p99_low  \n",
       "content.body                       0.22  \n",
       "location.longitude                -0.00  \n",
       "location.latitude                 -0.01  \n",
       "author.properties.status_count    -0.00  \n",
       "author.properties.friends         -0.01  \n",
       "author.properties.verified         0.00  \n",
       "location.country                   0.00  "
      ]
     },
     "execution_count": 37,
     "metadata": {},
     "output_type": "execute_result"
    }
   ],
   "source": [
    "save_model_predictor.feature_importance(test_data, silent=True)"
   ]
  },
  {
   "cell_type": "markdown",
   "id": "311863b0",
   "metadata": {},
   "source": [
    "For `train_data`..."
   ]
  },
  {
   "cell_type": "code",
   "execution_count": 38,
   "id": "5f85cf81",
   "metadata": {
    "scrolled": true
   },
   "outputs": [
    {
     "name": "stderr",
     "output_type": "stream",
     "text": [
      "These features in provided data are not utilized by the predictor and will be ignored: ['properties.platform']\n"
     ]
    },
    {
     "data": {
      "text/html": [
       "<div>\n",
       "<style scoped>\n",
       "    .dataframe tbody tr th:only-of-type {\n",
       "        vertical-align: middle;\n",
       "    }\n",
       "\n",
       "    .dataframe tbody tr th {\n",
       "        vertical-align: top;\n",
       "    }\n",
       "\n",
       "    .dataframe thead th {\n",
       "        text-align: right;\n",
       "    }\n",
       "</style>\n",
       "<table border=\"1\" class=\"dataframe\">\n",
       "  <thead>\n",
       "    <tr style=\"text-align: right;\">\n",
       "      <th></th>\n",
       "      <th>importance</th>\n",
       "      <th>stddev</th>\n",
       "      <th>p_value</th>\n",
       "      <th>n</th>\n",
       "      <th>p99_high</th>\n",
       "      <th>p99_low</th>\n",
       "    </tr>\n",
       "  </thead>\n",
       "  <tbody>\n",
       "    <tr>\n",
       "      <th>content.body</th>\n",
       "      <td>0.40</td>\n",
       "      <td>0.01</td>\n",
       "      <td>0.00</td>\n",
       "      <td>5</td>\n",
       "      <td>0.42</td>\n",
       "      <td>0.39</td>\n",
       "    </tr>\n",
       "    <tr>\n",
       "      <th>author.properties.status_count</th>\n",
       "      <td>0.02</td>\n",
       "      <td>0.00</td>\n",
       "      <td>0.00</td>\n",
       "      <td>5</td>\n",
       "      <td>0.02</td>\n",
       "      <td>0.01</td>\n",
       "    </tr>\n",
       "    <tr>\n",
       "      <th>location.latitude</th>\n",
       "      <td>0.02</td>\n",
       "      <td>0.00</td>\n",
       "      <td>0.00</td>\n",
       "      <td>5</td>\n",
       "      <td>0.02</td>\n",
       "      <td>0.01</td>\n",
       "    </tr>\n",
       "    <tr>\n",
       "      <th>location.longitude</th>\n",
       "      <td>0.02</td>\n",
       "      <td>0.00</td>\n",
       "      <td>0.00</td>\n",
       "      <td>5</td>\n",
       "      <td>0.02</td>\n",
       "      <td>0.01</td>\n",
       "    </tr>\n",
       "    <tr>\n",
       "      <th>author.properties.friends</th>\n",
       "      <td>0.01</td>\n",
       "      <td>0.00</td>\n",
       "      <td>0.00</td>\n",
       "      <td>5</td>\n",
       "      <td>0.02</td>\n",
       "      <td>0.01</td>\n",
       "    </tr>\n",
       "    <tr>\n",
       "      <th>author.properties.verified</th>\n",
       "      <td>0.00</td>\n",
       "      <td>0.00</td>\n",
       "      <td>0.50</td>\n",
       "      <td>5</td>\n",
       "      <td>0.00</td>\n",
       "      <td>0.00</td>\n",
       "    </tr>\n",
       "    <tr>\n",
       "      <th>location.country</th>\n",
       "      <td>0.00</td>\n",
       "      <td>0.00</td>\n",
       "      <td>0.50</td>\n",
       "      <td>5</td>\n",
       "      <td>0.00</td>\n",
       "      <td>0.00</td>\n",
       "    </tr>\n",
       "  </tbody>\n",
       "</table>\n",
       "</div>"
      ],
      "text/plain": [
       "                                importance  stddev  p_value  n  p99_high  \\\n",
       "content.body                          0.40    0.01     0.00  5      0.42   \n",
       "author.properties.status_count        0.02    0.00     0.00  5      0.02   \n",
       "location.latitude                     0.02    0.00     0.00  5      0.02   \n",
       "location.longitude                    0.02    0.00     0.00  5      0.02   \n",
       "author.properties.friends             0.01    0.00     0.00  5      0.02   \n",
       "author.properties.verified            0.00    0.00     0.50  5      0.00   \n",
       "location.country                      0.00    0.00     0.50  5      0.00   \n",
       "\n",
       "                                p99_low  \n",
       "content.body                       0.39  \n",
       "author.properties.status_count     0.01  \n",
       "location.latitude                  0.01  \n",
       "location.longitude                 0.01  \n",
       "author.properties.friends          0.01  \n",
       "author.properties.verified         0.00  \n",
       "location.country                   0.00  "
      ]
     },
     "execution_count": 38,
     "metadata": {},
     "output_type": "execute_result"
    }
   ],
   "source": [
    "save_model_predictor.feature_importance(train_data, silent=True)"
   ]
  },
  {
   "cell_type": "markdown",
   "id": "b8a8eb6f",
   "metadata": {},
   "source": [
    "## Bringing it all together"
   ]
  },
  {
   "cell_type": "code",
   "execution_count": 39,
   "id": "a6349d8c",
   "metadata": {},
   "outputs": [],
   "source": [
    "test_data[\"predicted_sentiment\"] = y_pred"
   ]
  },
  {
   "cell_type": "code",
   "execution_count": 40,
   "id": "5a254a5e",
   "metadata": {},
   "outputs": [
    {
     "data": {
      "text/html": [
       "<div>\n",
       "<style scoped>\n",
       "    .dataframe tbody tr th:only-of-type {\n",
       "        vertical-align: middle;\n",
       "    }\n",
       "\n",
       "    .dataframe tbody tr th {\n",
       "        vertical-align: top;\n",
       "    }\n",
       "\n",
       "    .dataframe thead th {\n",
       "        text-align: right;\n",
       "    }\n",
       "</style>\n",
       "<table border=\"1\" class=\"dataframe\">\n",
       "  <thead>\n",
       "    <tr style=\"text-align: right;\">\n",
       "      <th></th>\n",
       "      <th>author.properties.friends</th>\n",
       "      <th>author.properties.status_count</th>\n",
       "      <th>author.properties.verified</th>\n",
       "      <th>content.body</th>\n",
       "      <th>location.country</th>\n",
       "      <th>properties.platform</th>\n",
       "      <th>properties.sentiment</th>\n",
       "      <th>location.latitude</th>\n",
       "      <th>location.longitude</th>\n",
       "      <th>predicted_sentiment</th>\n",
       "    </tr>\n",
       "  </thead>\n",
       "  <tbody>\n",
       "    <tr>\n",
       "      <th>1376</th>\n",
       "      <td>282</td>\n",
       "      <td>2085.00</td>\n",
       "      <td>False</td>\n",
       "      <td>@Donforester Many established 1st generation immigrants want to restrict immigration. Many 2nd generation eg Irish more welcoming</td>\n",
       "      <td>GB</td>\n",
       "      <td>twitter</td>\n",
       "      <td>0.00</td>\n",
       "      <td>53.42</td>\n",
       "      <td>-2.92</td>\n",
       "      <td>-1.00</td>\n",
       "    </tr>\n",
       "    <tr>\n",
       "      <th>932</th>\n",
       "      <td>51</td>\n",
       "      <td>12533.00</td>\n",
       "      <td>False</td>\n",
       "      <td>@smollyalexander thank u hunty</td>\n",
       "      <td>GB</td>\n",
       "      <td>twitter</td>\n",
       "      <td>1.00</td>\n",
       "      <td>53.37</td>\n",
       "      <td>-2.17</td>\n",
       "      <td>-1.00</td>\n",
       "    </tr>\n",
       "    <tr>\n",
       "      <th>144</th>\n",
       "      <td>931</td>\n",
       "      <td>307.00</td>\n",
       "      <td>False</td>\n",
       "      <td>Hedge removal part one...!! @ Dalkeith https://t.co/slEBFhE0w9</td>\n",
       "      <td>GB</td>\n",
       "      <td>twitter</td>\n",
       "      <td>-1.00</td>\n",
       "      <td>55.87</td>\n",
       "      <td>-3.07</td>\n",
       "      <td>-1.00</td>\n",
       "    </tr>\n",
       "    <tr>\n",
       "      <th>1752</th>\n",
       "      <td>458</td>\n",
       "      <td>966.00</td>\n",
       "      <td>False</td>\n",
       "      <td>https://t.co/dvUtHRAPG4</td>\n",
       "      <td>GB</td>\n",
       "      <td>twitter</td>\n",
       "      <td>0.00</td>\n",
       "      <td>50.96</td>\n",
       "      <td>-0.56</td>\n",
       "      <td>0.00</td>\n",
       "    </tr>\n",
       "    <tr>\n",
       "      <th>51</th>\n",
       "      <td>680</td>\n",
       "      <td>3691.00</td>\n",
       "      <td>False</td>\n",
       "      <td>@MargevonMarge Blimey. You still haven't served enough time here? #EUref #Remain</td>\n",
       "      <td>GB</td>\n",
       "      <td>twitter</td>\n",
       "      <td>-1.00</td>\n",
       "      <td>53.55</td>\n",
       "      <td>-0.66</td>\n",
       "      <td>-1.00</td>\n",
       "    </tr>\n",
       "  </tbody>\n",
       "</table>\n",
       "</div>"
      ],
      "text/plain": [
       "      author.properties.friends  author.properties.status_count  \\\n",
       "1376                        282                         2085.00   \n",
       "932                          51                        12533.00   \n",
       "144                         931                          307.00   \n",
       "1752                        458                          966.00   \n",
       "51                          680                         3691.00   \n",
       "\n",
       "      author.properties.verified  \\\n",
       "1376                       False   \n",
       "932                        False   \n",
       "144                        False   \n",
       "1752                       False   \n",
       "51                         False   \n",
       "\n",
       "                                                                                                                           content.body  \\\n",
       "1376  @Donforester Many established 1st generation immigrants want to restrict immigration. Many 2nd generation eg Irish more welcoming   \n",
       "932                                                                                                      @smollyalexander thank u hunty   \n",
       "144                                                                      Hedge removal part one...!! @ Dalkeith https://t.co/slEBFhE0w9   \n",
       "1752                                                                                                            https://t.co/dvUtHRAPG4   \n",
       "51                                                     @MargevonMarge Blimey. You still haven't served enough time here? #EUref #Remain   \n",
       "\n",
       "     location.country properties.platform  properties.sentiment  \\\n",
       "1376               GB             twitter                  0.00   \n",
       "932                GB             twitter                  1.00   \n",
       "144                GB             twitter                 -1.00   \n",
       "1752               GB             twitter                  0.00   \n",
       "51                 GB             twitter                 -1.00   \n",
       "\n",
       "      location.latitude  location.longitude  predicted_sentiment  \n",
       "1376              53.42               -2.92                -1.00  \n",
       "932               53.37               -2.17                -1.00  \n",
       "144               55.87               -3.07                -1.00  \n",
       "1752              50.96               -0.56                 0.00  \n",
       "51                53.55               -0.66                -1.00  "
      ]
     },
     "execution_count": 40,
     "metadata": {},
     "output_type": "execute_result"
    }
   ],
   "source": [
    "test_data.head()"
   ]
  },
  {
   "cell_type": "code",
   "execution_count": 41,
   "id": "b82b6ed6",
   "metadata": {},
   "outputs": [
    {
     "name": "stdout",
     "output_type": "stream",
     "text": [
      "<class 'pandas.core.frame.DataFrame'>\n",
      "Int64Index: 900 entries, 1376 to 1005\n",
      "Data columns (total 10 columns):\n",
      " #   Column                          Non-Null Count  Dtype  \n",
      "---  ------                          --------------  -----  \n",
      " 0   author.properties.friends       900 non-null    int64  \n",
      " 1   author.properties.status_count  900 non-null    float64\n",
      " 2   author.properties.verified      900 non-null    bool   \n",
      " 3   content.body                    900 non-null    object \n",
      " 4   location.country                900 non-null    object \n",
      " 5   properties.platform             900 non-null    object \n",
      " 6   properties.sentiment            900 non-null    float64\n",
      " 7   location.latitude               900 non-null    float64\n",
      " 8   location.longitude              900 non-null    float64\n",
      " 9   predicted_sentiment             900 non-null    float64\n",
      "dtypes: bool(1), float64(5), int64(1), object(3)\n",
      "memory usage: 103.5+ KB\n"
     ]
    }
   ],
   "source": [
    "test_data.info()"
   ]
  },
  {
   "cell_type": "markdown",
   "id": "8470b4e8",
   "metadata": {},
   "source": [
    "## Using input for prediction"
   ]
  },
  {
   "cell_type": "code",
   "execution_count": 42,
   "id": "87dcd777",
   "metadata": {},
   "outputs": [
    {
     "data": {
      "text/plain": [
       "array([False,  True])"
      ]
     },
     "execution_count": 42,
     "metadata": {},
     "output_type": "execute_result"
    }
   ],
   "source": [
    "test_data[\"author.properties.verified\"].unique()"
   ]
  },
  {
   "cell_type": "code",
   "execution_count": 43,
   "id": "10b597ae",
   "metadata": {},
   "outputs": [
    {
     "data": {
      "text/plain": [
       "array(['twitter'], dtype=object)"
      ]
     },
     "execution_count": 43,
     "metadata": {},
     "output_type": "execute_result"
    }
   ],
   "source": [
    "test_data[\"properties.platform\"].unique()"
   ]
  },
  {
   "cell_type": "code",
   "execution_count": 44,
   "id": "6c5ae37d",
   "metadata": {},
   "outputs": [
    {
     "data": {
      "text/plain": [
       "array([ 0.,  1., -1.])"
      ]
     },
     "execution_count": 44,
     "metadata": {},
     "output_type": "execute_result"
    }
   ],
   "source": [
    "test_data[\"properties.sentiment\"].unique()"
   ]
  },
  {
   "cell_type": "code",
   "execution_count": 45,
   "id": "ae69a782",
   "metadata": {},
   "outputs": [],
   "source": [
    "## Creating sample input\n",
    "input_data_dict = {\n",
    "    'author.properties.friends': 958,\n",
    "    'author.properties.status_count': 7024,\n",
    "    'author.properties.verified': 'False',\n",
    "    'content.body': '#LoveIsland is the biggest show in Europe right now!!',\n",
    "    'location.country': 'GB',\n",
    "    'location.latitude': 53.3887,\n",
    "    'location.longitude': -1.4699\n",
    "}"
   ]
  },
  {
   "cell_type": "code",
   "execution_count": 46,
   "id": "4345706e",
   "metadata": {},
   "outputs": [
    {
     "data": {
      "text/plain": [
       "{'author.properties.friends': 958,\n",
       " 'author.properties.status_count': 7024,\n",
       " 'author.properties.verified': 'False',\n",
       " 'content.body': '#LoveIsland is the biggest show in Europe right now!!',\n",
       " 'location.country': 'GB',\n",
       " 'location.latitude': 53.3887,\n",
       " 'location.longitude': -1.4699}"
      ]
     },
     "execution_count": 46,
     "metadata": {},
     "output_type": "execute_result"
    }
   ],
   "source": [
    "input_data_dict"
   ]
  },
  {
   "cell_type": "code",
   "execution_count": 47,
   "id": "f72f0860",
   "metadata": {},
   "outputs": [],
   "source": [
    "input_data = pd.DataFrame([input_data_dict])"
   ]
  },
  {
   "cell_type": "code",
   "execution_count": 48,
   "id": "ccfea658",
   "metadata": {},
   "outputs": [
    {
     "data": {
      "text/html": [
       "<div>\n",
       "<style scoped>\n",
       "    .dataframe tbody tr th:only-of-type {\n",
       "        vertical-align: middle;\n",
       "    }\n",
       "\n",
       "    .dataframe tbody tr th {\n",
       "        vertical-align: top;\n",
       "    }\n",
       "\n",
       "    .dataframe thead th {\n",
       "        text-align: right;\n",
       "    }\n",
       "</style>\n",
       "<table border=\"1\" class=\"dataframe\">\n",
       "  <thead>\n",
       "    <tr style=\"text-align: right;\">\n",
       "      <th></th>\n",
       "      <th>author.properties.friends</th>\n",
       "      <th>author.properties.status_count</th>\n",
       "      <th>author.properties.verified</th>\n",
       "      <th>content.body</th>\n",
       "      <th>location.country</th>\n",
       "      <th>location.latitude</th>\n",
       "      <th>location.longitude</th>\n",
       "    </tr>\n",
       "  </thead>\n",
       "  <tbody>\n",
       "    <tr>\n",
       "      <th>0</th>\n",
       "      <td>958</td>\n",
       "      <td>7024</td>\n",
       "      <td>False</td>\n",
       "      <td>#LoveIsland is the biggest show in Europe right now!!</td>\n",
       "      <td>GB</td>\n",
       "      <td>53.39</td>\n",
       "      <td>-1.47</td>\n",
       "    </tr>\n",
       "  </tbody>\n",
       "</table>\n",
       "</div>"
      ],
      "text/plain": [
       "   author.properties.friends  author.properties.status_count  \\\n",
       "0                        958                            7024   \n",
       "\n",
       "  author.properties.verified  \\\n",
       "0                      False   \n",
       "\n",
       "                                            content.body location.country  \\\n",
       "0  #LoveIsland is the biggest show in Europe right now!!               GB   \n",
       "\n",
       "   location.latitude  location.longitude  \n",
       "0              53.39               -1.47  "
      ]
     },
     "execution_count": 48,
     "metadata": {},
     "output_type": "execute_result"
    }
   ],
   "source": [
    "input_data"
   ]
  },
  {
   "cell_type": "code",
   "execution_count": 49,
   "id": "f8b0e516",
   "metadata": {},
   "outputs": [
    {
     "data": {
      "text/plain": [
       "0   1.00\n",
       "Name: properties.sentiment, dtype: float64"
      ]
     },
     "execution_count": 49,
     "metadata": {},
     "output_type": "execute_result"
    }
   ],
   "source": [
    "save_model_predictor.predict(input_data)"
   ]
  },
  {
   "cell_type": "code",
   "execution_count": 50,
   "id": "97be9024",
   "metadata": {},
   "outputs": [
    {
     "data": {
      "text/plain": [
       "1.0"
      ]
     },
     "execution_count": 50,
     "metadata": {},
     "output_type": "execute_result"
    }
   ],
   "source": [
    "save_model_predictor.predict(input_data)[0]"
   ]
  }
 ],
 "metadata": {
  "kernelspec": {
   "display_name": "Python 3 (ipykernel)",
   "language": "python",
   "name": "python3"
  },
  "language_info": {
   "codemirror_mode": {
    "name": "ipython",
    "version": 3
   },
   "file_extension": ".py",
   "mimetype": "text/x-python",
   "name": "python",
   "nbconvert_exporter": "python",
   "pygments_lexer": "ipython3",
   "version": "3.9.16"
  }
 },
 "nbformat": 4,
 "nbformat_minor": 5
}
