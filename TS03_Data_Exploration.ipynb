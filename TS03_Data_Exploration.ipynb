{
 "cells": [
  {
   "cell_type": "code",
   "execution_count": 2,
   "id": "0b9e420b",
   "metadata": {},
   "outputs": [
    {
     "data": {
      "text/html": [
       "<style>.container { width:100% !important; }</style>"
      ],
      "text/plain": [
       "<IPython.core.display.HTML object>"
      ]
     },
     "metadata": {},
     "output_type": "display_data"
    }
   ],
   "source": [
    "import pandas as pd\n",
    "import numpy as np\n",
    "import os\n",
    "pd.set_option(\"display.max_columns\", None)\n",
    "pd.set_option(\"display.max_rows\", None)\n",
    "pd.options.display.max_colwidth = None\n",
    "pd.set_option(\"display.float_format\", lambda x: '%.2f' % x)\n",
    "\n",
    "from IPython.display import display, HTML\n",
    "display(HTML(\"<style>.container { width:100% !important; }</style>\"))"
   ]
  },
  {
   "cell_type": "code",
   "execution_count": 3,
   "id": "1aa078be",
   "metadata": {},
   "outputs": [],
   "source": [
    "#pip install -U scikit-learn -q\n",
    "#pip install matplotlib -q"
   ]
  },
  {
   "cell_type": "code",
   "execution_count": 4,
   "id": "8c4dacfa",
   "metadata": {},
   "outputs": [
    {
     "data": {
      "text/plain": [
       "'/Users/macbook/Documents/workspace_datahackerman/datahakerman_final_project'"
      ]
     },
     "execution_count": 4,
     "metadata": {},
     "output_type": "execute_result"
    }
   ],
   "source": [
    "os.getcwd()"
   ]
  },
  {
   "cell_type": "code",
   "execution_count": 5,
   "id": "45ecd7ef",
   "metadata": {},
   "outputs": [],
   "source": [
    "# Load the merged dataset for exploration"
   ]
  },
  {
   "cell_type": "code",
   "execution_count": 6,
   "id": "40797be3",
   "metadata": {},
   "outputs": [
    {
     "name": "stdout",
     "output_type": "stream",
     "text": [
      "'all_merged_data' successfully loaded...\n"
     ]
    }
   ],
   "source": [
    "all_merged_data = pd.read_csv('outputs/all_merged_data.csv')\n",
    "print(\"'all_merged_data' successfully loaded...\")"
   ]
  },
  {
   "cell_type": "code",
   "execution_count": 7,
   "id": "46528f47",
   "metadata": {
    "scrolled": true
   },
   "outputs": [
    {
     "name": "stdout",
     "output_type": "stream",
     "text": [
      "<class 'pandas.core.frame.DataFrame'>\n",
      "RangeIndex: 3000 entries, 0 to 2999\n",
      "Data columns (total 10 columns):\n",
      " #   Column                          Non-Null Count  Dtype  \n",
      "---  ------                          --------------  -----  \n",
      " 0   Unnamed: 0                      3000 non-null   int64  \n",
      " 1   author.properties.friends       3000 non-null   object \n",
      " 2   author.properties.status_count  2999 non-null   float64\n",
      " 3   author.properties.verified      3000 non-null   object \n",
      " 4   content.body                    2999 non-null   object \n",
      " 5   location.country                2999 non-null   object \n",
      " 6   properties.platform             2998 non-null   object \n",
      " 7   properties.sentiment            2999 non-null   float64\n",
      " 8   location.latitude               2999 non-null   float64\n",
      " 9   location.longitude              2999 non-null   float64\n",
      "dtypes: float64(4), int64(1), object(5)\n",
      "memory usage: 234.5+ KB\n"
     ]
    }
   ],
   "source": [
    "all_merged_data.info()"
   ]
  },
  {
   "cell_type": "markdown",
   "id": "da2e8b8b",
   "metadata": {},
   "source": [
    "### Checking for null values"
   ]
  },
  {
   "cell_type": "code",
   "execution_count": 8,
   "id": "faf014ea",
   "metadata": {},
   "outputs": [],
   "source": [
    "# Function to check for missing data\n",
    "def check_null(x):\n",
    "    # Counts missing data values\n",
    "    missing_data_count=x.isnull().sum().sort_values(ascending = False)\n",
    "    percentage = (x.isnull().sum()/x.isnull().count()*100).sort_values(ascending = False)\n",
    "    # Missing data statistics, if any\n",
    "    missing_data = pd.concat([missing_data_count,percentage],axis=1,keys=['Missing Data','Percentage'])\n",
    "    # Note the axis values for row and column respectively\n",
    "    # Checks how many rows with missing data\n",
    "    missing_data_rows=pd.isnull(x).any(axis=1).sum()\n",
    "    # Checks how many columns with missing data\n",
    "    missing_data_columns=pd.isnull(x).any(axis=0).sum()\n",
    "    # Print summary information\n",
    "    print (\"The checked data has\" + \" \" + str(x.shape[1]) + \" \" + \" \" + \"columns.\\n\" \\\n",
    "           \"There are\" + \" \" + str(missing_data_columns) + \" \" + \\\n",
    "           \"columns with missing data and...\\n\" + \\\n",
    "           \"...a total of\" + \" \" + str(missing_data_rows)+ \" \" + \\\n",
    "           \"rows with missing data.\")\n",
    "    x_null = x[x.isnull().any(axis=1)]\n",
    "    print (missing_data)\n",
    "    # Return missing data\n",
    "    return x_null"
   ]
  },
  {
   "cell_type": "code",
   "execution_count": 9,
   "id": "3b0d29e9",
   "metadata": {
    "scrolled": true
   },
   "outputs": [
    {
     "name": "stdout",
     "output_type": "stream",
     "text": [
      "The checked data has 10  columns.\n",
      "There are 7 columns with missing data and...\n",
      "...a total of 2 rows with missing data.\n",
      "                                Missing Data  Percentage\n",
      "properties.platform                        2        0.07\n",
      "author.properties.status_count             1        0.03\n",
      "content.body                               1        0.03\n",
      "location.country                           1        0.03\n",
      "properties.sentiment                       1        0.03\n",
      "location.latitude                          1        0.03\n",
      "location.longitude                         1        0.03\n",
      "Unnamed: 0                                 0        0.00\n",
      "author.properties.friends                  0        0.00\n",
      "author.properties.verified                 0        0.00\n"
     ]
    },
    {
     "data": {
      "text/html": [
       "<div>\n",
       "<style scoped>\n",
       "    .dataframe tbody tr th:only-of-type {\n",
       "        vertical-align: middle;\n",
       "    }\n",
       "\n",
       "    .dataframe tbody tr th {\n",
       "        vertical-align: top;\n",
       "    }\n",
       "\n",
       "    .dataframe thead th {\n",
       "        text-align: right;\n",
       "    }\n",
       "</style>\n",
       "<table border=\"1\" class=\"dataframe\">\n",
       "  <thead>\n",
       "    <tr style=\"text-align: right;\">\n",
       "      <th></th>\n",
       "      <th>Unnamed: 0</th>\n",
       "      <th>author.properties.friends</th>\n",
       "      <th>author.properties.status_count</th>\n",
       "      <th>author.properties.verified</th>\n",
       "      <th>content.body</th>\n",
       "      <th>location.country</th>\n",
       "      <th>properties.platform</th>\n",
       "      <th>properties.sentiment</th>\n",
       "      <th>location.latitude</th>\n",
       "      <th>location.longitude</th>\n",
       "    </tr>\n",
       "  </thead>\n",
       "  <tbody>\n",
       "    <tr>\n",
       "      <th>1551</th>\n",
       "      <td>551</td>\n",
       "      <td>854</td>\n",
       "      <td>3688.00</td>\n",
       "      <td>False</td>\n",
       "      <td>@DrunkenOldQrow @FancyWeiss</td>\n",
       "      <td>GB</td>\n",
       "      <td>NaN</td>\n",
       "      <td>1.00</td>\n",
       "      <td>52.05</td>\n",
       "      <td>-2.70</td>\n",
       "    </tr>\n",
       "    <tr>\n",
       "      <th>1552</th>\n",
       "      <td>552</td>\n",
       "      <td>|| TELL ME YOUR NAME! XD</td>\n",
       "      <td>NaN</td>\n",
       "      <td>twitter</td>\n",
       "      <td>NaN</td>\n",
       "      <td>NaN</td>\n",
       "      <td>NaN</td>\n",
       "      <td>NaN</td>\n",
       "      <td>NaN</td>\n",
       "      <td>NaN</td>\n",
       "    </tr>\n",
       "  </tbody>\n",
       "</table>\n",
       "</div>"
      ],
      "text/plain": [
       "      Unnamed: 0 author.properties.friends  author.properties.status_count   \n",
       "1551         551                       854                         3688.00  \\\n",
       "1552         552  || TELL ME YOUR NAME! XD                             NaN   \n",
       "\n",
       "     author.properties.verified                  content.body   \n",
       "1551                      False  @DrunkenOldQrow @FancyWeiss   \\\n",
       "1552                    twitter                           NaN   \n",
       "\n",
       "     location.country properties.platform  properties.sentiment   \n",
       "1551               GB                 NaN                  1.00  \\\n",
       "1552              NaN                 NaN                   NaN   \n",
       "\n",
       "      location.latitude  location.longitude  \n",
       "1551              52.05               -2.70  \n",
       "1552                NaN                 NaN  "
      ]
     },
     "execution_count": 9,
     "metadata": {},
     "output_type": "execute_result"
    }
   ],
   "source": [
    "check_null(all_merged_data)"
   ]
  },
  {
   "cell_type": "code",
   "execution_count": 10,
   "id": "80f2c14e",
   "metadata": {},
   "outputs": [],
   "source": [
    "Dropping the rows with null values"
   ]
  },
  {
   "cell_type": "code",
   "execution_count": 11,
   "id": "747d9a47",
   "metadata": {},
   "outputs": [],
   "source": [
    "love_island_data = all_merged_data.dropna(axis = 0)"
   ]
  },
  {
   "cell_type": "code",
   "execution_count": 12,
   "id": "7e603875",
   "metadata": {},
   "outputs": [
    {
     "data": {
      "text/plain": [
       "(2998, 10)"
      ]
     },
     "execution_count": 12,
     "metadata": {},
     "output_type": "execute_result"
    }
   ],
   "source": [
    "love_island_data.shape"
   ]
  },
  {
   "cell_type": "code",
   "execution_count": 13,
   "id": "3bd6fa20",
   "metadata": {
    "scrolled": true
   },
   "outputs": [
    {
     "name": "stdout",
     "output_type": "stream",
     "text": [
      "<class 'pandas.core.frame.DataFrame'>\n",
      "Index: 2998 entries, 0 to 2999\n",
      "Data columns (total 10 columns):\n",
      " #   Column                          Non-Null Count  Dtype  \n",
      "---  ------                          --------------  -----  \n",
      " 0   Unnamed: 0                      2998 non-null   int64  \n",
      " 1   author.properties.friends       2998 non-null   object \n",
      " 2   author.properties.status_count  2998 non-null   float64\n",
      " 3   author.properties.verified      2998 non-null   object \n",
      " 4   content.body                    2998 non-null   object \n",
      " 5   location.country                2998 non-null   object \n",
      " 6   properties.platform             2998 non-null   object \n",
      " 7   properties.sentiment            2998 non-null   float64\n",
      " 8   location.latitude               2998 non-null   float64\n",
      " 9   location.longitude              2998 non-null   float64\n",
      "dtypes: float64(4), int64(1), object(5)\n",
      "memory usage: 257.6+ KB\n"
     ]
    }
   ],
   "source": [
    "love_island_data.info()"
   ]
  },
  {
   "cell_type": "code",
   "execution_count": 14,
   "id": "bfdf2a9a",
   "metadata": {},
   "outputs": [],
   "source": [
    "# Adjusting the data type"
   ]
  },
  {
   "cell_type": "code",
   "execution_count": 15,
   "id": "da8c89e9",
   "metadata": {},
   "outputs": [
    {
     "name": "stderr",
     "output_type": "stream",
     "text": [
      "/var/folders/n2/0q6gp6m97kg9g1l1rytccwd00000gn/T/ipykernel_5027/3306529330.py:1: SettingWithCopyWarning: \n",
      "A value is trying to be set on a copy of a slice from a DataFrame.\n",
      "Try using .loc[row_indexer,col_indexer] = value instead\n",
      "\n",
      "See the caveats in the documentation: https://pandas.pydata.org/pandas-docs/stable/user_guide/indexing.html#returning-a-view-versus-a-copy\n",
      "  love_island_data['author.properties.friends'] = love_island_data['author.properties.friends'].astype(int)\n"
     ]
    }
   ],
   "source": [
    "love_island_data['author.properties.friends'] = love_island_data['author.properties.friends'].astype(int)"
   ]
  },
  {
   "cell_type": "code",
   "execution_count": null,
   "id": "2add4916",
   "metadata": {},
   "outputs": [],
   "source": [
    "Write adjusted dataframe to csv file"
   ]
  },
  {
   "cell_type": "code",
   "execution_count": 16,
   "id": "9a47b5e1",
   "metadata": {},
   "outputs": [],
   "source": [
    "save_path = 'outputs/love_island_data.csv'"
   ]
  },
  {
   "cell_type": "code",
   "execution_count": 17,
   "id": "5a31e6d1",
   "metadata": {},
   "outputs": [],
   "source": [
    "love_island_data.to_csv('outputs/love_island_data.csv')"
   ]
  },
  {
   "cell_type": "markdown",
   "id": "ee5c7349",
   "metadata": {},
   "source": [
    "## Table 1 - Country Statistics"
   ]
  },
  {
   "cell_type": "code",
   "execution_count": null,
   "id": "e46eb429",
   "metadata": {},
   "outputs": [],
   "source": [
    "love_island_country = love_island_data['location.country'].value_counts()\n",
    "love_island_country"
   ]
  },
  {
   "cell_type": "markdown",
   "id": "3489fdf6",
   "metadata": {},
   "source": [
    "Country Code | Status Count| Countries |\n",
    "| --- | --- | --- |\n",
    "| GB | 2991 | Great Britain |\n",
    "| GG | 5    | Guernsey |\n",
    "| JE | 2    | Jersey |\n",
    "| IM | 1    | Isle of Man |"
   ]
  },
  {
   "cell_type": "markdown",
   "id": "f4b1cd85",
   "metadata": {},
   "source": [
    "## Plot 1 - Sentiment Counts"
   ]
  },
  {
   "cell_type": "code",
   "execution_count": null,
   "id": "4368da98",
   "metadata": {},
   "outputs": [],
   "source": [
    "love_island_sentiment = love_island_data['properties.sentiment'].value_counts()\n",
    "love_island_sentiment"
   ]
  },
  {
   "cell_type": "code",
   "execution_count": null,
   "id": "0fd7c7c1",
   "metadata": {},
   "outputs": [],
   "source": [
    "import matplotlib.pyplot as plt\n",
    "sent_count = np.array([1403, 968, 628])\n",
    "sentiment = [\"Negative\", \"Neutral\", \"Positive\"]\n",
    "sent_colors = [\"blue\", \"yellow\", \"red\"]\n",
    "\n",
    "plt.pie(sent_count, labels = sentiment, colors = sent_colors)\n",
    "print(f\"The sentiments are positive 1, neutral 0 and negative -1\")\n",
    "save_path = 'images/SentimentCount.svg'\n",
    "plt.show()"
   ]
  },
  {
   "cell_type": "markdown",
   "id": "44a0959c",
   "metadata": {},
   "source": [
    "## Plot 2 - Distribution of Friends and Status Count Relationship"
   ]
  },
  {
   "cell_type": "code",
   "execution_count": null,
   "id": "1535bafd",
   "metadata": {},
   "outputs": [],
   "source": [
    "love_island_data_copy = love_island_data.copy()\n",
    "love_island_data_copy['LogStatusCount'] = np.log(love_island_data_copy['author.properties.status_count'])\n",
    "love_island_data_copy['LogFriends'] = np.log(love_island_data_copy['author.properties.friends'])"
   ]
  },
  {
   "cell_type": "code",
   "execution_count": null,
   "id": "af83281b",
   "metadata": {},
   "outputs": [],
   "source": [
    "love_island_data_copy['LogStatusCount'].min(), love_island_data_copy['LogStatusCount'].max()"
   ]
  },
  {
   "cell_type": "code",
   "execution_count": null,
   "id": "1eab6fd9",
   "metadata": {},
   "outputs": [],
   "source": [
    "love_island_data_copy['LogFriends'].min(), love_island_data_copy['LogFriends'].max()"
   ]
  },
  {
   "cell_type": "code",
   "execution_count": null,
   "id": "0c0e544e",
   "metadata": {},
   "outputs": [],
   "source": [
    "bins=np.linspace(-1,15,100)\n",
    "love_island_data_copy['LogFriends'].hist(bins=bins, figsize=(15,8),alpha=0.5,label=\"Friends\")\n",
    "love_island_data_copy['LogStatusCount'].hist(bins=bins, figsize=(15,8),alpha=0.5,label=\"StatusCount\")\n",
    "plt.legend()\n",
    "plt.xlabel(\"Friends/StatusCount\")\n",
    "plt.ylabel(\"Counts\")\n",
    "plt.title(\"Histogram Distribution of Friends and Status Relationship\")\n",
    "plt.grid(None)\n",
    "save_path = 'images/Friends-StatusCount.svg'\n",
    "plt.show()"
   ]
  },
  {
   "cell_type": "code",
   "execution_count": null,
   "id": "c3639abf",
   "metadata": {},
   "outputs": [],
   "source": [
    "love_island_data['author.properties.friends'].corr(love_island_data['author.properties.status_count'])"
   ]
  },
  {
   "cell_type": "markdown",
   "id": "db2f5111",
   "metadata": {},
   "source": [
    "The correlation is about 5.66%, not significant"
   ]
  },
  {
   "cell_type": "code",
   "execution_count": null,
   "id": "ac90336e",
   "metadata": {},
   "outputs": [],
   "source": [
    "love_island_data['author.properties.friends'].corr(love_island_data['properties.sentiment'])"
   ]
  },
  {
   "cell_type": "code",
   "execution_count": null,
   "id": "90a9a5f4",
   "metadata": {},
   "outputs": [],
   "source": [
    "love_island_data['author.properties.status_count'].corr(love_island_data['properties.sentiment'])"
   ]
  },
  {
   "cell_type": "code",
   "execution_count": null,
   "id": "52982baf",
   "metadata": {},
   "outputs": [],
   "source": [
    "love_island_coordinates = pd.DataFrame(love_island_data,columns=['location.latitude','location.longitude', 'properties.sentiment'])"
   ]
  },
  {
   "cell_type": "code",
   "execution_count": null,
   "id": "02a60d4c",
   "metadata": {},
   "outputs": [],
   "source": [
    "love_island_coordinates.head(4)"
   ]
  },
  {
   "cell_type": "markdown",
   "id": "491352de",
   "metadata": {},
   "source": [
    "Since all the countries in the dataset are United Kingdom territories, we shall focus on plotting on a UK map base."
   ]
  },
  {
   "cell_type": "markdown",
   "id": "2a11de14",
   "metadata": {},
   "source": [
    "To use folium package..."
   ]
  },
  {
   "cell_type": "code",
   "execution_count": null,
   "id": "ce3275c8",
   "metadata": {},
   "outputs": [],
   "source": [
    "import folium"
   ]
  },
  {
   "cell_type": "code",
   "execution_count": null,
   "id": "fd27e6cc",
   "metadata": {},
   "outputs": [],
   "source": [
    "# Creating a base map for the plot with the coordinates of the UK\n",
    "uk_map = folium.Map(location=[55.3781, 3.4360],zoom_start=6)\n",
    "uk_map"
   ]
  },
  {
   "cell_type": "code",
   "execution_count": null,
   "id": "cbab859e",
   "metadata": {},
   "outputs": [],
   "source": [
    "Longitude = love_island_coordinates['location.longitude']\n",
    "Latitude = love_island_coordinates['location.latitude']\n",
    "Latitude.head(4)"
   ]
  },
  {
   "cell_type": "markdown",
   "id": "fce08458",
   "metadata": {},
   "source": [
    "To visualize the sentiments, assign colors to represent the sentiments as follows\n",
    "Sentiment | Colour\n",
    "--- | ---\n",
    "Negative (-1.00) | RED\n",
    "Neutral (0.00) | YELLOW\n",
    "Positive(1.00) | GREEN"
   ]
  },
  {
   "cell_type": "code",
   "execution_count": null,
   "id": "a39c6535",
   "metadata": {},
   "outputs": [],
   "source": [
    "# Positive Sentiment Coordinates\n",
    "love_island_positive_coords = love_island_coordinates.loc[love_island_coordinates['properties.sentiment'] == 1]\n",
    "love_island_positive_coords.reset_index(drop=True,inplace=True)\n",
    "love_island_positive_coords.head()"
   ]
  },
  {
   "cell_type": "code",
   "execution_count": null,
   "id": "2f73dead",
   "metadata": {},
   "outputs": [],
   "source": [
    "# Neutral Sentiment Coordinates\n",
    "love_island_neutral_coords = love_island_coordinates.loc[love_island_coordinates['properties.sentiment'] == 0]\n",
    "love_island_neutral_coords.reset_index(drop=True,inplace=True)\n",
    "love_island_neutral_coords.head()"
   ]
  },
  {
   "cell_type": "code",
   "execution_count": null,
   "id": "bf8fbe8b",
   "metadata": {},
   "outputs": [],
   "source": [
    "# Negative Sentiment Coordinates\n",
    "love_island_negative_coords = love_island_coordinates.loc[love_island_coordinates['properties.sentiment'] == -1]\n",
    "love_island_negative_coords.reset_index(drop=True,inplace=True)\n",
    "love_island_negative_coords.head()"
   ]
  },
  {
   "cell_type": "code",
   "execution_count": null,
   "id": "2a59d430",
   "metadata": {},
   "outputs": [],
   "source": [
    "# Create a holding object for our map\n",
    "tweetpoint = folium.map.FeatureGroup()\n",
    "for lat, lng, in zip(df_positive_coords['Latitude'], df_positive_coords['Longitude']):\n",
    "    tweetpoint.add_child\n",
    "    (folium.CircleMarker(\n",
    "        [lat, lng],\n",
    "        radius=0.2,\n",
    "        color=\"green\",\n",
    "        fill=True,\n",
    "        fill_color=\"green\",\n",
    "        fill_opacity=0.6\n",
    "    )\n",
    "    \n",
    ")\n",
    "    uk_map.add_child(tweetpoint)"
   ]
  }
 ],
 "metadata": {
  "kernelspec": {
   "display_name": "Python 3 (ipykernel)",
   "language": "python",
   "name": "python3"
  },
  "language_info": {
   "codemirror_mode": {
    "name": "ipython",
    "version": 3
   },
   "file_extension": ".py",
   "mimetype": "text/x-python",
   "name": "python",
   "nbconvert_exporter": "python",
   "pygments_lexer": "ipython3",
   "version": "3.9.16"
  }
 },
 "nbformat": 4,
 "nbformat_minor": 5
}
