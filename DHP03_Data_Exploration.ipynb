{
 "cells": [
  {
   "cell_type": "code",
   "execution_count": 2,
   "id": "0b9e420b",
   "metadata": {},
   "outputs": [
    {
     "data": {
      "text/html": [
       "<style>.container { width:100% !important; }</style>"
      ],
      "text/plain": [
       "<IPython.core.display.HTML object>"
      ]
     },
     "metadata": {},
     "output_type": "display_data"
    }
   ],
   "source": [
    "import pandas as pd\n",
    "import numpy as np\n",
    "import os\n",
    "pd.set_option(\"display.max_columns\", None)\n",
    "pd.set_option(\"display.max_rows\", None)\n",
    "pd.options.display.max_colwidth = None\n",
    "pd.set_option(\"display.float_format\", lambda x: '%.2f' % x)\n",
    "\n",
    "from IPython.display import display, HTML\n",
    "display(HTML(\"<style>.container { width:100% !important; }</style>\"))"
   ]
  },
  {
   "cell_type": "code",
   "execution_count": 3,
   "id": "601973a2",
   "metadata": {},
   "outputs": [
    {
     "data": {
      "text/plain": [
       "'/Users/macbook/Documents/workspace_datahackerman/datahakerman_final_project'"
      ]
     },
     "execution_count": 3,
     "metadata": {},
     "output_type": "execute_result"
    }
   ],
   "source": [
    "os.getcwd()"
   ]
  },
  {
   "cell_type": "code",
   "execution_count": 4,
   "id": "c2833c60",
   "metadata": {},
   "outputs": [],
   "source": [
    "# Load the merged dataset for exploration"
   ]
  },
  {
   "cell_type": "code",
   "execution_count": 5,
   "id": "40797be3",
   "metadata": {},
   "outputs": [
    {
     "name": "stdout",
     "output_type": "stream",
     "text": [
      "'all_merged_data' successfully loaded...\n"
     ]
    }
   ],
   "source": [
    "love_island_data = pd.read_csv('outputs/all_merged_data.csv')\n",
    "print(\"'all_merged_data' successfully loaded...\")"
   ]
  },
  {
   "cell_type": "code",
   "execution_count": 6,
   "id": "450e657a",
   "metadata": {
    "scrolled": true
   },
   "outputs": [
    {
     "name": "stdout",
     "output_type": "stream",
     "text": [
      "<class 'pandas.core.frame.DataFrame'>\n",
      "RangeIndex: 3000 entries, 0 to 2999\n",
      "Data columns (total 10 columns):\n",
      " #   Column                          Non-Null Count  Dtype  \n",
      "---  ------                          --------------  -----  \n",
      " 0   Unnamed: 0                      3000 non-null   int64  \n",
      " 1   author.properties.friends       3000 non-null   object \n",
      " 2   author.properties.status_count  2999 non-null   float64\n",
      " 3   author.properties.verified      3000 non-null   object \n",
      " 4   content.body                    2999 non-null   object \n",
      " 5   location.country                2999 non-null   object \n",
      " 6   properties.platform             2998 non-null   object \n",
      " 7   properties.sentiment            2999 non-null   float64\n",
      " 8   location.latitude               2999 non-null   float64\n",
      " 9   location.longitude              2999 non-null   float64\n",
      "dtypes: float64(4), int64(1), object(5)\n",
      "memory usage: 234.5+ KB\n"
     ]
    }
   ],
   "source": [
    "love_island_data.info()"
   ]
  },
  {
   "cell_type": "markdown",
   "id": "efb95b2f",
   "metadata": {},
   "source": [
    "### Checking for null values"
   ]
  },
  {
   "cell_type": "code",
   "execution_count": 33,
   "id": "e9e57f1f",
   "metadata": {},
   "outputs": [],
   "source": [
    "# Function to check for missing data\n",
    "def check_null(x):\n",
    "    # Counts missing data values\n",
    "    missing_data_count=x.isnull().sum().sort_values(ascending = False)\n",
    "    percentage = (x.isnull().sum()/x.isnull().count()*100).sort_values(ascending = False)\n",
    "    # Missing data statistics, if any\n",
    "    missing_data = pd.concat([missing_data_count,percentage],axis=1,keys=['Missing Data','Percentage'])\n",
    "    # Note the axis values for row and column respectively\n",
    "    # Checks how many rows with missing data\n",
    "    missing_data_rows=pd.isnull(x).any(axis=1).sum()\n",
    "    # Checks how many columns with missing data\n",
    "    missing_data_columns=pd.isnull(x).any(axis=0).sum()\n",
    "    # Print summary information\n",
    "    print (\"The checked data has\" + \" \" + str(x.shape[1]) + \" \" + \" \" + \"columns.\\n\" \\\n",
    "           \"There are\" + \" \" + str(missing_data_columns) + \" \" + \\\n",
    "           \"columns with missing data and...\\n\" + \\\n",
    "           \"...a total of\" + \" \" + str(missing_data_rows)+ \" \" + \\\n",
    "           \"rows with missing data.\")\n",
    "    x_null = x[x.isnull().any(axis=1)]\n",
    "    print (missing_data)\n",
    "    # Return missing data\n",
    "    return x_null"
   ]
  },
  {
   "cell_type": "code",
   "execution_count": 34,
   "id": "f8e25421",
   "metadata": {},
   "outputs": [
    {
     "name": "stdout",
     "output_type": "stream",
     "text": [
      "The checked data has 10  columns.\n",
      "There are 7 columns with missing data and...\n",
      "...a total of 2 rows with missing data.\n",
      "                                Missing Data  Percentage\n",
      "properties.platform                        2        0.07\n",
      "author.properties.status_count             1        0.03\n",
      "content.body                               1        0.03\n",
      "location.country                           1        0.03\n",
      "properties.sentiment                       1        0.03\n",
      "location.latitude                          1        0.03\n",
      "location.longitude                         1        0.03\n",
      "Unnamed: 0                                 0        0.00\n",
      "author.properties.friends                  0        0.00\n",
      "author.properties.verified                 0        0.00\n"
     ]
    },
    {
     "data": {
      "text/html": [
       "<div>\n",
       "<style scoped>\n",
       "    .dataframe tbody tr th:only-of-type {\n",
       "        vertical-align: middle;\n",
       "    }\n",
       "\n",
       "    .dataframe tbody tr th {\n",
       "        vertical-align: top;\n",
       "    }\n",
       "\n",
       "    .dataframe thead th {\n",
       "        text-align: right;\n",
       "    }\n",
       "</style>\n",
       "<table border=\"1\" class=\"dataframe\">\n",
       "  <thead>\n",
       "    <tr style=\"text-align: right;\">\n",
       "      <th></th>\n",
       "      <th>Unnamed: 0</th>\n",
       "      <th>author.properties.friends</th>\n",
       "      <th>author.properties.status_count</th>\n",
       "      <th>author.properties.verified</th>\n",
       "      <th>content.body</th>\n",
       "      <th>location.country</th>\n",
       "      <th>properties.platform</th>\n",
       "      <th>properties.sentiment</th>\n",
       "      <th>location.latitude</th>\n",
       "      <th>location.longitude</th>\n",
       "    </tr>\n",
       "  </thead>\n",
       "  <tbody>\n",
       "    <tr>\n",
       "      <th>1551</th>\n",
       "      <td>551</td>\n",
       "      <td>854</td>\n",
       "      <td>3688.00</td>\n",
       "      <td>False</td>\n",
       "      <td>@DrunkenOldQrow @FancyWeiss</td>\n",
       "      <td>GB</td>\n",
       "      <td>NaN</td>\n",
       "      <td>1.00</td>\n",
       "      <td>52.05</td>\n",
       "      <td>-2.70</td>\n",
       "    </tr>\n",
       "    <tr>\n",
       "      <th>1552</th>\n",
       "      <td>552</td>\n",
       "      <td>|| TELL ME YOUR NAME! XD</td>\n",
       "      <td>NaN</td>\n",
       "      <td>twitter</td>\n",
       "      <td>NaN</td>\n",
       "      <td>NaN</td>\n",
       "      <td>NaN</td>\n",
       "      <td>NaN</td>\n",
       "      <td>NaN</td>\n",
       "      <td>NaN</td>\n",
       "    </tr>\n",
       "  </tbody>\n",
       "</table>\n",
       "</div>"
      ],
      "text/plain": [
       "      Unnamed: 0 author.properties.friends  author.properties.status_count   \n",
       "1551         551                       854                         3688.00  \\\n",
       "1552         552  || TELL ME YOUR NAME! XD                             NaN   \n",
       "\n",
       "     author.properties.verified                  content.body   \n",
       "1551                      False  @DrunkenOldQrow @FancyWeiss   \\\n",
       "1552                    twitter                           NaN   \n",
       "\n",
       "     location.country properties.platform  properties.sentiment   \n",
       "1551               GB                 NaN                  1.00  \\\n",
       "1552              NaN                 NaN                   NaN   \n",
       "\n",
       "      location.latitude  location.longitude  \n",
       "1551              52.05               -2.70  \n",
       "1552                NaN                 NaN  "
      ]
     },
     "execution_count": 34,
     "metadata": {},
     "output_type": "execute_result"
    }
   ],
   "source": [
    "check_null(love_island_data)"
   ]
  },
  {
   "cell_type": "code",
   "execution_count": 35,
   "id": "f05b4805",
   "metadata": {},
   "outputs": [],
   "source": [
    "love_island_data1552 = love_island_data.iloc[1551,:]"
   ]
  },
  {
   "cell_type": "code",
   "execution_count": 37,
   "id": "db6dad3e",
   "metadata": {},
   "outputs": [
    {
     "data": {
      "text/plain": [
       "properties.platform\n",
       "twitter    2998\n",
       "Name: count, dtype: int64"
      ]
     },
     "execution_count": 37,
     "metadata": {},
     "output_type": "execute_result"
    }
   ],
   "source": [
    "love_island_data[\"properties.platform\"].value_counts()"
   ]
  },
  {
   "cell_type": "code",
   "execution_count": 36,
   "id": "d492122f",
   "metadata": {},
   "outputs": [
    {
     "data": {
      "text/plain": [
       "Unnamed: 0                                                 551\n",
       "author.properties.friends                                  854\n",
       "author.properties.status_count                         3688.00\n",
       "author.properties.verified                               False\n",
       "content.body                      @DrunkenOldQrow @FancyWeiss \n",
       "location.country                                            GB\n",
       "properties.platform                                        NaN\n",
       "properties.sentiment                                      1.00\n",
       "location.latitude                                        52.05\n",
       "location.longitude                                       -2.70\n",
       "Name: 1551, dtype: object"
      ]
     },
     "execution_count": 36,
     "metadata": {},
     "output_type": "execute_result"
    }
   ],
   "source": [
    "love_island_data1552 "
   ]
  },
  {
   "cell_type": "code",
   "execution_count": 38,
   "id": "54e0715d",
   "metadata": {},
   "outputs": [
    {
     "name": "stdout",
     "output_type": "stream",
     "text": [
      "The checked data has 10  columns.\n",
      "There are 7 columns with missing data and...\n",
      "...a total of 2 rows with missing data.\n",
      "                                Missing Data  Percentage\n",
      "properties.platform                        2        0.07\n",
      "author.properties.status_count             1        0.03\n",
      "content.body                               1        0.03\n",
      "location.country                           1        0.03\n",
      "properties.sentiment                       1        0.03\n",
      "location.latitude                          1        0.03\n",
      "location.longitude                         1        0.03\n",
      "Unnamed: 0                                 0        0.00\n",
      "author.properties.friends                  0        0.00\n",
      "author.properties.verified                 0        0.00\n"
     ]
    },
    {
     "data": {
      "text/html": [
       "<div>\n",
       "<style scoped>\n",
       "    .dataframe tbody tr th:only-of-type {\n",
       "        vertical-align: middle;\n",
       "    }\n",
       "\n",
       "    .dataframe tbody tr th {\n",
       "        vertical-align: top;\n",
       "    }\n",
       "\n",
       "    .dataframe thead th {\n",
       "        text-align: right;\n",
       "    }\n",
       "</style>\n",
       "<table border=\"1\" class=\"dataframe\">\n",
       "  <thead>\n",
       "    <tr style=\"text-align: right;\">\n",
       "      <th></th>\n",
       "      <th>Unnamed: 0</th>\n",
       "      <th>author.properties.friends</th>\n",
       "      <th>author.properties.status_count</th>\n",
       "      <th>author.properties.verified</th>\n",
       "      <th>content.body</th>\n",
       "      <th>location.country</th>\n",
       "      <th>properties.platform</th>\n",
       "      <th>properties.sentiment</th>\n",
       "      <th>location.latitude</th>\n",
       "      <th>location.longitude</th>\n",
       "    </tr>\n",
       "  </thead>\n",
       "  <tbody>\n",
       "    <tr>\n",
       "      <th>1551</th>\n",
       "      <td>551</td>\n",
       "      <td>854</td>\n",
       "      <td>3688.00</td>\n",
       "      <td>False</td>\n",
       "      <td>@DrunkenOldQrow @FancyWeiss</td>\n",
       "      <td>GB</td>\n",
       "      <td>NaN</td>\n",
       "      <td>1.00</td>\n",
       "      <td>52.05</td>\n",
       "      <td>-2.70</td>\n",
       "    </tr>\n",
       "    <tr>\n",
       "      <th>1552</th>\n",
       "      <td>552</td>\n",
       "      <td>|| TELL ME YOUR NAME! XD</td>\n",
       "      <td>NaN</td>\n",
       "      <td>twitter</td>\n",
       "      <td>NaN</td>\n",
       "      <td>NaN</td>\n",
       "      <td>NaN</td>\n",
       "      <td>NaN</td>\n",
       "      <td>NaN</td>\n",
       "      <td>NaN</td>\n",
       "    </tr>\n",
       "  </tbody>\n",
       "</table>\n",
       "</div>"
      ],
      "text/plain": [
       "      Unnamed: 0 author.properties.friends  author.properties.status_count   \n",
       "1551         551                       854                         3688.00  \\\n",
       "1552         552  || TELL ME YOUR NAME! XD                             NaN   \n",
       "\n",
       "     author.properties.verified                  content.body   \n",
       "1551                      False  @DrunkenOldQrow @FancyWeiss   \\\n",
       "1552                    twitter                           NaN   \n",
       "\n",
       "     location.country properties.platform  properties.sentiment   \n",
       "1551               GB                 NaN                  1.00  \\\n",
       "1552              NaN                 NaN                   NaN   \n",
       "\n",
       "      location.latitude  location.longitude  \n",
       "1551              52.05               -2.70  \n",
       "1552                NaN                 NaN  "
      ]
     },
     "execution_count": 38,
     "metadata": {},
     "output_type": "execute_result"
    }
   ],
   "source": [
    "check_null(love_island_data)"
   ]
  },
  {
   "cell_type": "code",
   "execution_count": 45,
   "id": "c7e3a420",
   "metadata": {},
   "outputs": [
    {
     "ename": "ModuleNotFoundError",
     "evalue": "No module named 'sklearn'",
     "output_type": "error",
     "traceback": [
      "\u001b[0;31m---------------------------------------------------------------------------\u001b[0m",
      "\u001b[0;31mModuleNotFoundError\u001b[0m                       Traceback (most recent call last)",
      "Cell \u001b[0;32mIn[45], line 3\u001b[0m\n\u001b[1;32m      1\u001b[0m \u001b[38;5;66;03m# source: https://stackoverflow.com/questions/25239958/impute-categorical-missing-values-in-scikit-learn\u001b[39;00m\n\u001b[0;32m----> 3\u001b[0m \u001b[38;5;28;01mfrom\u001b[39;00m \u001b[38;5;21;01msklearn\u001b[39;00m\u001b[38;5;21;01m.\u001b[39;00m\u001b[38;5;21;01mprocessing\u001b[39;00m \u001b[38;5;28;01mimport\u001b[39;00m Imputer\n\u001b[1;32m      4\u001b[0m \u001b[38;5;28;01mfrom\u001b[39;00m \u001b[38;5;21;01msklearn\u001b[39;00m\u001b[38;5;21;01m.\u001b[39;00m\u001b[38;5;21;01mbase\u001b[39;00m \u001b[38;5;28;01mimport\u001b[39;00m BaseEstimator, TransformerMixin\n\u001b[1;32m      5\u001b[0m \u001b[38;5;28;01mclass\u001b[39;00m \u001b[38;5;21;01mDataFrameSelector\u001b[39;00m(BaseEstimator, TransformerMixin):\n",
      "\u001b[0;31mModuleNotFoundError\u001b[0m: No module named 'sklearn'"
     ]
    }
   ],
   "source": [
    "# source: https://stackoverflow.com/questions/25239958/impute-categorical-missing-values-in-scikit-learn\n",
    "\n",
    "from sklearn.processing import Imputer\n",
    "from sklearn.base import BaseEstimator, TransformerMixin\n",
    "class DataFrameSelector(BaseEstimator, TransformerMixin):\n",
    "    def __init__(self, strategy='mean', filler = 'NA'):\n",
    "        self.strategy = strategy\n",
    "        self.filler = filler\n",
    "        \n",
    "    def fit(self, X, y=None):\n",
    "        if self.strategy in ['mean','median']:\n",
    "            if not all(X.dtypes == np.number):\n",
    "                raise ValueError('dtypes mismatch np.number dtype is required for' + self.strategy)\n",
    "            if self.strategy == 'mean':\n",
    "                self.fill = X.mean()\n",
    "        elif self.strategy == 'median':\n",
    "            self.fill - X.median()\n",
    "        elif self.strategy == 'mode':\n",
    "            self.fill - X.mode(),iloc[0]\n",
    "        elif self.strategy == 'median':\n",
    "            self.fill - X.median()\n",
    "        elif self.strategy == 'fill':\n",
    "            if type(self.fill) is list and type(X) is pd.DataFrame:\n",
    "                self.fill = ([(cname,v) for cname,v in zip(X.columns, self.fill)])\n",
    "        return self\n",
    "    \n",
    "    def transform(self, X, y=None):\n",
    "        return X.fillna(self.fill)"
   ]
  },
  {
   "cell_type": "code",
   "execution_count": null,
   "id": "9d925a1f",
   "metadata": {},
   "outputs": [],
   "source": [
    "# adjusting the data types"
   ]
  },
  {
   "cell_type": "code",
   "execution_count": null,
   "id": "2f7263fa",
   "metadata": {},
   "outputs": [],
   "source": [
    "type(love_island_data['author.properties.friends'])"
   ]
  },
  {
   "cell_type": "code",
   "execution_count": null,
   "id": "c86d2d45",
   "metadata": {},
   "outputs": [],
   "source": [
    "love_island_data['author.properties.friends'] = pd.to_numeric(love_island_data['author.properties.friends'])"
   ]
  },
  {
   "cell_type": "code",
   "execution_count": null,
   "id": "f8fd1578",
   "metadata": {},
   "outputs": [],
   "source": [
    "love_island_data"
   ]
  },
  {
   "cell_type": "code",
   "execution_count": null,
   "id": "06ffd225",
   "metadata": {},
   "outputs": [],
   "source": [
    "all_merged_data['author.properties.friends'] = all_merged_data['author.properties.friends'].astype(int64)"
   ]
  },
  {
   "cell_type": "code",
   "execution_count": null,
   "id": "436e8fdd",
   "metadata": {},
   "outputs": [],
   "source": []
  },
  {
   "cell_type": "code",
   "execution_count": null,
   "id": "7ae5bd57",
   "metadata": {},
   "outputs": [],
   "source": [
    "all_merged_data['location.country'].unique()"
   ]
  },
  {
   "cell_type": "markdown",
   "id": "7fefae17",
   "metadata": {},
   "source": [
    "## Table 1 - Country Statistics"
   ]
  },
  {
   "cell_type": "code",
   "execution_count": null,
   "id": "5d8c2b54",
   "metadata": {},
   "outputs": [],
   "source": [
    "data_country = all_merged_data['location.country'].value_counts()\n",
    "data_country"
   ]
  },
  {
   "cell_type": "markdown",
   "id": "ad816df0",
   "metadata": {},
   "source": [
    "Country Code | Status Count| Countries |\n",
    "| --- | --- | --- |\n",
    "| GB | 2991 | Great Britain |\n",
    "| GG | 5    | Guernsey |\n",
    "| JE | 2    | Jersey |\n",
    "| IM | 1    | Isle of Man |"
   ]
  },
  {
   "cell_type": "markdown",
   "id": "560af8fd",
   "metadata": {},
   "source": [
    "## Plot 1 - Sentiment Counts"
   ]
  },
  {
   "cell_type": "code",
   "execution_count": null,
   "id": "29c4dd1c",
   "metadata": {},
   "outputs": [],
   "source": [
    "data_sentiment = all_merged_data['properties.sentiment'].value_counts()\n",
    "data_sentiment"
   ]
  },
  {
   "cell_type": "code",
   "execution_count": null,
   "id": "7fca6475",
   "metadata": {},
   "outputs": [],
   "source": [
    "import matplotlib.pyplot as plt\n",
    "sent_count = np.array([1403, 968, 628])\n",
    "sentiment = [\"Negative\", \"Neutral\", \"Positive\"]\n",
    "sent_colors = [\"blue\", \"yellow\", \"red\"]\n",
    "\n",
    "plt.pie(sent_count, labels = sentiment, colors = sent_colors)\n",
    "print(f\"The sentiments are positive 1, neutral 0 and negative -1\")\n",
    "plt.show()"
   ]
  },
  {
   "cell_type": "markdown",
   "id": "37f63978",
   "metadata": {},
   "source": [
    "## Plot 2 - Distribution of Friends and Status Count Relationship"
   ]
  },
  {
   "cell_type": "code",
   "execution_count": null,
   "id": "4e55210a",
   "metadata": {},
   "outputs": [],
   "source": [
    "merged_data_copy = all_merged_data.copy()\n",
    "merged_data_copy['LogStatusCount'] = np.log(merged_data_copy['author.properties.status_count'])\n",
    "merged_data_copy['LogFriends'] = np.log(merged_data_copy['author.properties.friends'])"
   ]
  },
  {
   "cell_type": "code",
   "execution_count": null,
   "id": "ff9c2acd",
   "metadata": {},
   "outputs": [],
   "source": [
    "merged_data_copy['LogStatusCount'].min(), merged_data_copy['LogStatusCount'].max()"
   ]
  },
  {
   "cell_type": "code",
   "execution_count": null,
   "id": "dc46bfe5",
   "metadata": {},
   "outputs": [],
   "source": [
    "merged_data_copy['LogFriends'].min(), merged_data_copy['LogFriends'].max()"
   ]
  },
  {
   "cell_type": "code",
   "execution_count": null,
   "id": "3b78a38f",
   "metadata": {},
   "outputs": [],
   "source": [
    "all_merged_data['author.properties.friends'].corr(all_merged_data['author.properties.status_count'])"
   ]
  },
  {
   "cell_type": "code",
   "execution_count": null,
   "id": "d27ed7a5",
   "metadata": {},
   "outputs": [],
   "source": []
  }
 ],
 "metadata": {
  "kernelspec": {
   "display_name": "Python 3 (ipykernel)",
   "language": "python",
   "name": "python3"
  },
  "language_info": {
   "codemirror_mode": {
    "name": "ipython",
    "version": 3
   },
   "file_extension": ".py",
   "mimetype": "text/x-python",
   "name": "python",
   "nbconvert_exporter": "python",
   "pygments_lexer": "ipython3",
   "version": "3.9.16"
  }
 },
 "nbformat": 4,
 "nbformat_minor": 5
}
