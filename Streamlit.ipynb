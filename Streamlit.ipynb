{
 "cells": [
  {
   "cell_type": "code",
   "execution_count": 1,
   "id": "45a7da57",
   "metadata": {},
   "outputs": [
    {
     "name": "stderr",
     "output_type": "stream",
     "text": [
      "2023-09-30 01:39:11.638 \n",
      "  \u001b[33m\u001b[1mWarning:\u001b[0m to view this Streamlit app on a browser, run it with the following\n",
      "  command:\n",
      "\n",
      "    streamlit run /Users/macbook/opt/anaconda3/envs/twittersentiment_env/lib/python3.9/site-packages/ipykernel_launcher.py [ARGUMENTS]\n"
     ]
    },
    {
     "ename": "NameError",
     "evalue": "name 'author' is not defined",
     "output_type": "error",
     "traceback": [
      "\u001b[0;31m---------------------------------------------------------------------------\u001b[0m",
      "\u001b[0;31mNameError\u001b[0m                                 Traceback (most recent call last)",
      "Cell \u001b[0;32mIn[1], line 10\u001b[0m\n\u001b[1;32m      5\u001b[0m \u001b[38;5;28;01mfrom\u001b[39;00m \u001b[38;5;21;01mautogluon\u001b[39;00m\u001b[38;5;21;01m.\u001b[39;00m\u001b[38;5;21;01mtabular\u001b[39;00m \u001b[38;5;28;01mimport\u001b[39;00m TabularPredictor\n\u001b[1;32m      8\u001b[0m st\u001b[38;5;241m.\u001b[39mtitle(\u001b[38;5;124m'\u001b[39m\u001b[38;5;124mLove Island Twitter Sentiment Prediction\u001b[39m\u001b[38;5;124m'\u001b[39m)\n\u001b[0;32m---> 10\u001b[0m \u001b[43mauthor\u001b[49m\u001b[38;5;241m.\u001b[39mproperties\u001b[38;5;241m.\u001b[39mfriends \u001b[38;5;241m=\u001b[39m st\u001b[38;5;241m.\u001b[39mnumber_input(\u001b[38;5;124m'\u001b[39m\u001b[38;5;124mfollowers\u001b[39m\u001b[38;5;124m'\u001b[39m, \u001b[38;5;241m0\u001b[39m, \u001b[38;5;241m3000\u001b[39m)\n\u001b[1;32m     11\u001b[0m author\u001b[38;5;241m.\u001b[39mproperties\u001b[38;5;241m.\u001b[39mstatus_count \u001b[38;5;241m=\u001b[39m st\u001b[38;5;241m.\u001b[39mnumber_input(\u001b[38;5;124m'\u001b[39m\u001b[38;5;124mstatuscount\u001b[39m\u001b[38;5;124m'\u001b[39m, \u001b[38;5;241m0\u001b[39m, \u001b[38;5;241m3000\u001b[39m)\n\u001b[1;32m     12\u001b[0m author\u001b[38;5;241m.\u001b[39mproperties\u001b[38;5;241m.\u001b[39mverified \u001b[38;5;241m=\u001b[39m st\u001b[38;5;241m.\u001b[39mselectbox(\u001b[38;5;124m'\u001b[39m\u001b[38;5;124mverified\u001b[39m\u001b[38;5;124m'\u001b[39m, options\u001b[38;5;241m=\u001b[39m[\u001b[38;5;124m'\u001b[39m\u001b[38;5;124mYes\u001b[39m\u001b[38;5;124m'\u001b[39m,\u001b[38;5;124m'\u001b[39m\u001b[38;5;124mNo\u001b[39m\u001b[38;5;124m'\u001b[39m])\n",
      "\u001b[0;31mNameError\u001b[0m: name 'author' is not defined"
     ]
    }
   ],
   "source": [
    "## This is going to be a Streamlit App\n",
    "\n",
    "import streamlit as st\n",
    "import pandas as pd\n",
    "from autogluon.tabular import TabularPredictor\n",
    "\n",
    "\n",
    "st.title('Love Island Twitter Sentiment Prediction')\n",
    "\n",
    "author.properties.friends = st.number_input('followers', 0, 3000)\n",
    "author.properties.status_count = st.number_input('statuscount', 0, 3000)\n",
    "author.properties.verified = st.selectbox('verified', options=['Yes','No'])\n",
    "content.body = st.text_area('Tweet to analyze')\n",
    "location.country = st.selectbox('country', options=['GG','GB','JE','IM'])\n",
    "properties.sentiment = st.selectbox('sentiment', options=['-1.','0.','1.'])\n",
    "location.latitude = st.number_input('latitude degrees', -90, 90)\n",
    "\n",
    "\n",
    "input_data_dict = {\n",
    "    'author.properties.friends': followers,\n",
    "    'author.properties.status_count': statuscount,\n",
    "    'author.properties.verified': verified,\n",
    "    'content.body': content.body,\n",
    "    'location.country': location.country,\n",
    "    'properties.sentiment': properties.sentiment,\n",
    "    'location.latitude': location.latitude\n",
    "}\n",
    "\n",
    "st.write(input_data_dict)\n",
    "\n",
    "input_data = pd.DataFrame([input_data_dict])\n",
    "\n",
    "st.write(input_data)\n",
    "\n",
    "save_path = \"output\"\n",
    "\n",
    "save_model_predictor = TabularPredictor.load(save_path) #unnecessary\n",
    "\n",
    "submit = st.button(\"CLICK HERE TO PREDICT TWEET SENTIMENT\")\n",
    "\n",
    "if submit:\n",
    "    sentiment_prediction = save_model_predictor.predict(input_data)[0]\n",
    "    st.write(f\"The tweet sentiment prediction is: {sentiment_prediction}\")"
   ]
  },
  {
   "cell_type": "code",
   "execution_count": null,
   "id": "10dfdb77",
   "metadata": {},
   "outputs": [],
   "source": []
  }
 ],
 "metadata": {
  "kernelspec": {
   "display_name": "Python 3 (ipykernel)",
   "language": "python",
   "name": "python3"
  },
  "language_info": {
   "codemirror_mode": {
    "name": "ipython",
    "version": 3
   },
   "file_extension": ".py",
   "mimetype": "text/x-python",
   "name": "python",
   "nbconvert_exporter": "python",
   "pygments_lexer": "ipython3",
   "version": "3.9.16"
  }
 },
 "nbformat": 4,
 "nbformat_minor": 5
}
